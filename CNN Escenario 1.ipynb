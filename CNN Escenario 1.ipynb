{
 "cells": [
  {
   "cell_type": "markdown",
   "id": "bbdda340",
   "metadata": {},
   "source": [
    "<center><h1>Escenarios experimentales Internetworking</h1></center>"
   ]
  },
  {
   "cell_type": "markdown",
   "id": "512815c2",
   "metadata": {},
   "source": [
    "Presentado por: Holger Fernando Catucuamba Nepas <br>\n",
    "Fecha: 23/02/2023"
   ]
  },
  {
   "cell_type": "markdown",
   "id": "ede57f1e",
   "metadata": {},
   "source": [
    "##  Importación de librerias necesarias"
   ]
  },
  {
   "cell_type": "code",
   "execution_count": 42,
   "id": "f05d5622",
   "metadata": {},
   "outputs": [],
   "source": [
    "import pandas as pd\n",
    "import numpy as np\n",
    "import tensorflow as tf\n",
    "from sklearn.preprocessing import StandardScaler\n",
    "from sklearn.model_selection import train_test_split"
   ]
  },
  {
   "cell_type": "markdown",
   "id": "7ac84c2c",
   "metadata": {},
   "source": [
    "## Cargar el Dataset"
   ]
  },
  {
   "cell_type": "code",
   "execution_count": 43,
   "id": "00ffeb21",
   "metadata": {},
   "outputs": [],
   "source": [
    "datapath = 'https://raw.githubusercontent.com/hfcatucuamba/proyectoInternetworking/main/Escenario1.csv'\n",
    "dataframe = pd.read_csv(datapath,low_memory=False, sep=';')"
   ]
  },
  {
   "cell_type": "code",
   "execution_count": 44,
   "id": "80458ad7",
   "metadata": {},
   "outputs": [
    {
     "data": {
      "text/html": [
       "<div>\n",
       "<style scoped>\n",
       "    .dataframe tbody tr th:only-of-type {\n",
       "        vertical-align: middle;\n",
       "    }\n",
       "\n",
       "    .dataframe tbody tr th {\n",
       "        vertical-align: top;\n",
       "    }\n",
       "\n",
       "    .dataframe thead th {\n",
       "        text-align: right;\n",
       "    }\n",
       "</style>\n",
       "<table border=\"1\" class=\"dataframe\">\n",
       "  <thead>\n",
       "    <tr style=\"text-align: right;\">\n",
       "      <th></th>\n",
       "      <th>Source IP</th>\n",
       "      <th>Source Port</th>\n",
       "      <th>Destination IP</th>\n",
       "      <th>Destination Port</th>\n",
       "      <th>Protocol</th>\n",
       "      <th>Flow Duration</th>\n",
       "      <th>Flow Bytes/s</th>\n",
       "      <th>Flow Packets/s</th>\n",
       "      <th>Flow IAT Mean</th>\n",
       "      <th>Flow IAT Std</th>\n",
       "      <th>...</th>\n",
       "      <th>Bwd IAT Min</th>\n",
       "      <th>Active Mean</th>\n",
       "      <th>Active Std</th>\n",
       "      <th>Active Max</th>\n",
       "      <th>Active Min</th>\n",
       "      <th>Idle Mean</th>\n",
       "      <th>Idle Std</th>\n",
       "      <th>Idle Max</th>\n",
       "      <th>Idle Min</th>\n",
       "      <th>label</th>\n",
       "    </tr>\n",
       "  </thead>\n",
       "  <tbody>\n",
       "    <tr>\n",
       "      <th>0</th>\n",
       "      <td>10.0.2.15</td>\n",
       "      <td>53913</td>\n",
       "      <td>216.58.208.46</td>\n",
       "      <td>80</td>\n",
       "      <td>6</td>\n",
       "      <td>435</td>\n",
       "      <td>0</td>\n",
       "      <td>45.977.011.494.253</td>\n",
       "      <td>435</td>\n",
       "      <td>0</td>\n",
       "      <td>...</td>\n",
       "      <td>0</td>\n",
       "      <td>0</td>\n",
       "      <td>0</td>\n",
       "      <td>0</td>\n",
       "      <td>0</td>\n",
       "      <td>0</td>\n",
       "      <td>0</td>\n",
       "      <td>0</td>\n",
       "      <td>0</td>\n",
       "      <td>nonTOR</td>\n",
       "    </tr>\n",
       "    <tr>\n",
       "      <th>1</th>\n",
       "      <td>10.0.2.15</td>\n",
       "      <td>53913</td>\n",
       "      <td>216.58.208.46</td>\n",
       "      <td>80</td>\n",
       "      <td>6</td>\n",
       "      <td>259</td>\n",
       "      <td>0</td>\n",
       "      <td>77.220.077.220.077</td>\n",
       "      <td>259</td>\n",
       "      <td>0</td>\n",
       "      <td>...</td>\n",
       "      <td>0</td>\n",
       "      <td>0</td>\n",
       "      <td>0</td>\n",
       "      <td>0</td>\n",
       "      <td>0</td>\n",
       "      <td>0</td>\n",
       "      <td>0</td>\n",
       "      <td>0</td>\n",
       "      <td>0</td>\n",
       "      <td>nonTOR</td>\n",
       "    </tr>\n",
       "    <tr>\n",
       "      <th>2</th>\n",
       "      <td>10.0.2.15</td>\n",
       "      <td>53913</td>\n",
       "      <td>216.58.208.46</td>\n",
       "      <td>80</td>\n",
       "      <td>6</td>\n",
       "      <td>891</td>\n",
       "      <td>0</td>\n",
       "      <td>22.446.689.113.356</td>\n",
       "      <td>891</td>\n",
       "      <td>0</td>\n",
       "      <td>...</td>\n",
       "      <td>0</td>\n",
       "      <td>0</td>\n",
       "      <td>0</td>\n",
       "      <td>0</td>\n",
       "      <td>0</td>\n",
       "      <td>0</td>\n",
       "      <td>0</td>\n",
       "      <td>0</td>\n",
       "      <td>0</td>\n",
       "      <td>nonTOR</td>\n",
       "    </tr>\n",
       "    <tr>\n",
       "      <th>3</th>\n",
       "      <td>10.0.2.15</td>\n",
       "      <td>53913</td>\n",
       "      <td>216.58.208.46</td>\n",
       "      <td>80</td>\n",
       "      <td>6</td>\n",
       "      <td>1074</td>\n",
       "      <td>0</td>\n",
       "      <td>18.621.973.929.237</td>\n",
       "      <td>1074</td>\n",
       "      <td>0</td>\n",
       "      <td>...</td>\n",
       "      <td>0</td>\n",
       "      <td>0</td>\n",
       "      <td>0</td>\n",
       "      <td>0</td>\n",
       "      <td>0</td>\n",
       "      <td>0</td>\n",
       "      <td>0</td>\n",
       "      <td>0</td>\n",
       "      <td>0</td>\n",
       "      <td>nonTOR</td>\n",
       "    </tr>\n",
       "    <tr>\n",
       "      <th>4</th>\n",
       "      <td>10.0.2.15</td>\n",
       "      <td>53913</td>\n",
       "      <td>216.58.208.46</td>\n",
       "      <td>80</td>\n",
       "      <td>6</td>\n",
       "      <td>315</td>\n",
       "      <td>0</td>\n",
       "      <td>63.492.063.492.064</td>\n",
       "      <td>315</td>\n",
       "      <td>0</td>\n",
       "      <td>...</td>\n",
       "      <td>0</td>\n",
       "      <td>0</td>\n",
       "      <td>0</td>\n",
       "      <td>0</td>\n",
       "      <td>0</td>\n",
       "      <td>0</td>\n",
       "      <td>0</td>\n",
       "      <td>0</td>\n",
       "      <td>0</td>\n",
       "      <td>nonTOR</td>\n",
       "    </tr>\n",
       "  </tbody>\n",
       "</table>\n",
       "<p>5 rows × 29 columns</p>\n",
       "</div>"
      ],
      "text/plain": [
       "   Source IP   Source Port  Destination IP   Destination Port   Protocol  \\\n",
       "0  10.0.2.15         53913   216.58.208.46                 80          6   \n",
       "1  10.0.2.15         53913   216.58.208.46                 80          6   \n",
       "2  10.0.2.15         53913   216.58.208.46                 80          6   \n",
       "3  10.0.2.15         53913   216.58.208.46                 80          6   \n",
       "4  10.0.2.15         53913   216.58.208.46                 80          6   \n",
       "\n",
       "    Flow Duration  Flow Bytes/s      Flow Packets/s  Flow IAT Mean  \\\n",
       "0             435             0  45.977.011.494.253            435   \n",
       "1             259             0  77.220.077.220.077            259   \n",
       "2             891             0  22.446.689.113.356            891   \n",
       "3            1074             0  18.621.973.929.237           1074   \n",
       "4             315             0  63.492.063.492.064            315   \n",
       "\n",
       "   Flow IAT Std  ...   Bwd IAT Min  Active Mean  Active Std  Active Max  \\\n",
       "0             0  ...             0            0           0           0   \n",
       "1             0  ...             0            0           0           0   \n",
       "2             0  ...             0            0           0           0   \n",
       "3             0  ...             0            0           0           0   \n",
       "4             0  ...             0            0           0           0   \n",
       "\n",
       "    Active Min  Idle Mean  Idle Std  Idle Max   Idle Min   label  \n",
       "0            0          0         0         0          0  nonTOR  \n",
       "1            0          0         0         0          0  nonTOR  \n",
       "2            0          0         0         0          0  nonTOR  \n",
       "3            0          0         0         0          0  nonTOR  \n",
       "4            0          0         0         0          0  nonTOR  \n",
       "\n",
       "[5 rows x 29 columns]"
      ]
     },
     "execution_count": 44,
     "metadata": {},
     "output_type": "execute_result"
    }
   ],
   "source": [
    "dataframe.head()"
   ]
  },
  {
   "cell_type": "markdown",
   "id": "7abf8300",
   "metadata": {},
   "source": [
    "## Normalizar los datos"
   ]
  },
  {
   "cell_type": "code",
   "execution_count": 45,
   "id": "abb27aa6",
   "metadata": {},
   "outputs": [],
   "source": [
    "def dfNormalize(df):\n",
    "    for feature_name in df.columns:\n",
    "        df.loc[:,feature_name]= pd.to_numeric(df.loc[:,feature_name], errors='coerce').fillna(0)\n",
    "        max_value = df[feature_name].max()\n",
    "        min_value = df[feature_name].min()   \n",
    "        if (max_value - min_value) > 0:\n",
    "            df.loc[:,feature_name] = (df.loc[:,feature_name] - min_value) / (max_value - min_value)\n",
    "        else:\n",
    "            df.loc[:,feature_name] = (df.loc[:,feature_name]- min_value)    \n",
    "    return df"
   ]
  },
  {
   "cell_type": "code",
   "execution_count": 46,
   "id": "0b2ff737",
   "metadata": {},
   "outputs": [
    {
     "name": "stdout",
     "output_type": "stream",
     "text": [
      "(7000, 29)\n",
      "        Source Port   Destination Port   Protocol   Flow Duration  \\\n",
      "count   7000.000000        7000.000000     7000.0    7.000000e+03   \n",
      "mean   42153.076571        7647.390714        6.0    4.002204e+06   \n",
      "std    17081.978193       17168.713987        0.0    4.450485e+06   \n",
      "min       80.000000          21.000000        6.0    1.700000e+01   \n",
      "25%    38894.000000         443.000000        6.0    2.013598e+05   \n",
      "50%    45337.000000         443.000000        6.0    4.409195e+05   \n",
      "75%    54698.000000         443.000000        6.0    9.829612e+06   \n",
      "max    61156.000000       65514.000000        6.0    1.000000e+07   \n",
      "\n",
      "        Flow IAT Max   Flow IAT Min   Fwd IAT Max   Fwd IAT Min   Bwd IAT Max  \\\n",
      "count   7.000000e+03   7.000000e+03  7.000000e+03  7.000000e+03  7.000000e+03   \n",
      "mean    1.148187e+06   1.023332e+05  1.079414e+06  1.035305e+05  8.884348e+05   \n",
      "std     2.113319e+06   4.321051e+05  2.135818e+06  6.952060e+05  1.933856e+06   \n",
      "min     1.700000e+01  -4.340000e+02  0.000000e+00  0.000000e+00  0.000000e+00   \n",
      "25%     8.040400e+04   1.800000e+01  0.000000e+00  0.000000e+00  0.000000e+00   \n",
      "50%     2.077015e+05   1.355000e+02  7.491650e+04  2.200000e+01  6.900000e+01   \n",
      "75%     9.100840e+05   1.314120e+05  8.657385e+05  1.850000e+02  4.285258e+05   \n",
      "max     9.996903e+06   9.904104e+06  9.997140e+06  9.997140e+06  9.996903e+06   \n",
      "\n",
      "        Bwd IAT Min   Active Mean   Active Std    Active Max    Active Min  \\\n",
      "count  7.000000e+03  7.000000e+03       7000.0  7.000000e+03  7.000000e+03   \n",
      "mean   7.738332e+04  5.055150e+04          0.0  5.055150e+04  5.055150e+04   \n",
      "std    6.163785e+05  3.285407e+05          0.0  3.285407e+05  3.285407e+05   \n",
      "min    0.000000e+00  0.000000e+00          0.0  0.000000e+00  0.000000e+00   \n",
      "25%    0.000000e+00  0.000000e+00          0.0  0.000000e+00  0.000000e+00   \n",
      "50%    3.000000e+00  0.000000e+00          0.0  0.000000e+00  0.000000e+00   \n",
      "75%    2.450000e+02  0.000000e+00          0.0  0.000000e+00  0.000000e+00   \n",
      "max    9.996903e+06  4.823748e+06          0.0  4.823748e+06  4.823748e+06   \n",
      "\n",
      "          Idle Mean   Idle Std      Idle Max      Idle Min  \n",
      "count  7.000000e+03     7000.0  7.000000e+03  7.000000e+03  \n",
      "mean   5.152838e+05        0.0  5.152838e+05  5.152838e+05  \n",
      "std    1.915464e+06        0.0  1.915464e+06  1.915464e+06  \n",
      "min    0.000000e+00        0.0  0.000000e+00  0.000000e+00  \n",
      "25%    0.000000e+00        0.0  0.000000e+00  0.000000e+00  \n",
      "50%    0.000000e+00        0.0  0.000000e+00  0.000000e+00  \n",
      "75%    0.000000e+00        0.0  0.000000e+00  0.000000e+00  \n",
      "max    9.996903e+06        0.0  9.996903e+06  9.996903e+06  \n",
      "['Source IP', ' Source Port', ' Destination IP', ' Destination Port', ' Protocol', ' Flow Duration', ' Flow Bytes/s', ' Flow Packets/s', ' Flow IAT Mean', ' Flow IAT Std', ' Flow IAT Max', ' Flow IAT Min', 'Fwd IAT Mean', ' Fwd IAT Std', ' Fwd IAT Max', ' Fwd IAT Min', 'Bwd IAT Mean', ' Bwd IAT Std', ' Bwd IAT Max', ' Bwd IAT Min', 'Active Mean', ' Active Std', ' Active Max', ' Active Min', 'Idle Mean', ' Idle Std', ' Idle Max', ' Idle Min', 'label']\n"
     ]
    }
   ],
   "source": [
    "print (dataframe.shape)\n",
    "dataframe = dataframe.reindex(np.random.permutation(dataframe.index)).copy()\n",
    "print(dataframe.describe())\n",
    "print (list(dataframe))"
   ]
  },
  {
   "cell_type": "code",
   "execution_count": 47,
   "id": "241e7e46",
   "metadata": {},
   "outputs": [
    {
     "name": "stdout",
     "output_type": "stream",
     "text": [
      "        Protocol   Flow Duration   Flow Bytes/s   Flow Packets/s  \\\n",
      "count     7000.0     7000.000000    7000.000000      7000.000000   \n",
      "mean         0.0        0.400219       0.000143         0.000167   \n",
      "std          0.0        0.445049       0.011952         0.012051   \n",
      "min          0.0        0.000000       0.000000         0.000000   \n",
      "25%          0.0        0.020134       0.000000         0.000000   \n",
      "50%          0.0        0.044090       0.000000         0.000000   \n",
      "75%          0.0        0.982961       0.000000         0.000000   \n",
      "max          0.0        1.000000       1.000000         1.000000   \n",
      "\n",
      "        Flow IAT Mean   Flow IAT Std   Flow IAT Max   Flow IAT Min  \\\n",
      "count     7000.000000         7000.0    7000.000000    7000.000000   \n",
      "mean         0.017407            0.0       0.114853       0.010376   \n",
      "std          0.055836            0.0       0.211398       0.043627   \n",
      "min          0.000000            0.0       0.000000       0.000000   \n",
      "25%          0.000000            0.0       0.008041       0.000046   \n",
      "50%          0.002582            0.0       0.020775       0.000057   \n",
      "75%          0.020796            0.0       0.091035       0.013312   \n",
      "max          1.000000            0.0       1.000000       1.000000   \n",
      "\n",
      "       Fwd IAT Mean   Fwd IAT Std  ...   Bwd IAT Max   Bwd IAT Min  \\\n",
      "count   7000.000000        7000.0  ...   7000.000000  7.000000e+03   \n",
      "mean       0.023867           0.0  ...      0.088871  7.740730e-03   \n",
      "std        0.088368           0.0  ...      0.193445  6.165694e-02   \n",
      "min        0.000000           0.0  ...      0.000000  0.000000e+00   \n",
      "25%        0.000000           0.0  ...      0.000000  0.000000e+00   \n",
      "50%        0.000000           0.0  ...      0.000007  3.000929e-07   \n",
      "75%        0.000000           0.0  ...      0.042866  2.450759e-05   \n",
      "max        1.000000           0.0  ...      1.000000  1.000000e+00   \n",
      "\n",
      "       Active Mean   Active Std   Active Max   Active Min    Idle Mean  \\\n",
      "count  7000.000000       7000.0  7000.000000  7000.000000  7000.000000   \n",
      "mean      0.010480          0.0     0.010480     0.010480     0.051544   \n",
      "std       0.068109          0.0     0.068109     0.068109     0.191606   \n",
      "min       0.000000          0.0     0.000000     0.000000     0.000000   \n",
      "25%       0.000000          0.0     0.000000     0.000000     0.000000   \n",
      "50%       0.000000          0.0     0.000000     0.000000     0.000000   \n",
      "75%       0.000000          0.0     0.000000     0.000000     0.000000   \n",
      "max       1.000000          0.0     1.000000     1.000000     1.000000   \n",
      "\n",
      "        Idle Std     Idle Max     Idle Min  \n",
      "count     7000.0  7000.000000  7000.000000  \n",
      "mean         0.0     0.051544     0.051544  \n",
      "std          0.0     0.191606     0.191606  \n",
      "min          0.0     0.000000     0.000000  \n",
      "25%          0.0     0.000000     0.000000  \n",
      "50%          0.0     0.000000     0.000000  \n",
      "75%          0.0     0.000000     0.000000  \n",
      "max          0.0     1.000000     1.000000  \n",
      "\n",
      "[8 rows x 24 columns]\n"
     ]
    }
   ],
   "source": [
    "keys = dataframe.keys()\n",
    "data_to_process = dataframe[keys[4:len(keys) - 1]].copy()\n",
    "x_normalised = dfNormalize(data_to_process)\n",
    "print(x_normalised.describe())"
   ]
  },
  {
   "cell_type": "markdown",
   "id": "27233c7a",
   "metadata": {},
   "source": [
    "\n",
    "## Obtener los datos para entrenar y de prueba"
   ]
  },
  {
   "cell_type": "code",
   "execution_count": 48,
   "id": "ea145c6b",
   "metadata": {},
   "outputs": [],
   "source": [
    "change_labels = lambda x: 1 if x == 'nonTOR' else 0"
   ]
  },
  {
   "cell_type": "code",
   "execution_count": 49,
   "id": "13f0a9be",
   "metadata": {},
   "outputs": [],
   "source": [
    "y_normalised = dataframe['label'].apply(change_labels)"
   ]
  },
  {
   "cell_type": "code",
   "execution_count": 50,
   "id": "8e04c980",
   "metadata": {},
   "outputs": [],
   "source": [
    "X_train, X_test, y_train, y_test = train_test_split(x_normalised,\n",
    "                                            y_normalised, test_size=0.3, random_state=42)"
   ]
  },
  {
   "cell_type": "markdown",
   "id": "75f6aa22",
   "metadata": {},
   "source": [
    "## Crear Modelo "
   ]
  },
  {
   "cell_type": "code",
   "execution_count": 51,
   "id": "6b6d19c0",
   "metadata": {},
   "outputs": [
    {
     "name": "stdout",
     "output_type": "stream",
     "text": [
      "Model: \"sequential_2\"\n",
      "_________________________________________________________________\n",
      " Layer (type)                Output Shape              Param #   \n",
      "=================================================================\n",
      " conv1d_8 (Conv1D)           (None, 22, 32)            128       \n",
      "                                                                 \n",
      " activation_12 (Activation)  (None, 22, 32)            0         \n",
      "                                                                 \n",
      " max_pooling1d_6 (MaxPooling  (None, 20, 32)           0         \n",
      " 1D)                                                             \n",
      "                                                                 \n",
      " conv1d_9 (Conv1D)           (None, 18, 32)            3104      \n",
      "                                                                 \n",
      " activation_13 (Activation)  (None, 18, 32)            0         \n",
      "                                                                 \n",
      " max_pooling1d_7 (MaxPooling  (None, 16, 32)           0         \n",
      " 1D)                                                             \n",
      "                                                                 \n",
      " conv1d_10 (Conv1D)          (None, 14, 64)            6208      \n",
      "                                                                 \n",
      " activation_14 (Activation)  (None, 14, 64)            0         \n",
      "                                                                 \n",
      " conv1d_11 (Conv1D)          (None, 12, 64)            12352     \n",
      "                                                                 \n",
      " activation_15 (Activation)  (None, 12, 64)            0         \n",
      "                                                                 \n",
      " max_pooling1d_8 (MaxPooling  (None, 5, 64)            0         \n",
      " 1D)                                                             \n",
      "                                                                 \n",
      " flatten_2 (Flatten)         (None, 320)               0         \n",
      "                                                                 \n",
      " dense_4 (Dense)             (None, 512)               164352    \n",
      "                                                                 \n",
      " activation_16 (Activation)  (None, 512)               0         \n",
      "                                                                 \n",
      " dropout_2 (Dropout)         (None, 512)               0         \n",
      "                                                                 \n",
      " dense_5 (Dense)             (None, 1)                 513       \n",
      "                                                                 \n",
      " activation_17 (Activation)  (None, 1)                 0         \n",
      "                                                                 \n",
      "=================================================================\n",
      "Total params: 186,657\n",
      "Trainable params: 186,657\n",
      "Non-trainable params: 0\n",
      "_________________________________________________________________\n"
     ]
    }
   ],
   "source": [
    "from tensorflow.keras.models import Sequential\n",
    "from tensorflow.keras.layers import Conv1D, MaxPooling1D, Dense, Flatten, Dropout\n",
    "from keras.layers import Activation\n",
    "from tensorflow.keras.callbacks import EarlyStopping\n",
    "\n",
    "model = Sequential()\n",
    "\n",
    "#1st Convolutional Layer\n",
    "model.add(Conv1D(filters=32, input_shape=(X_train.shape[1], 1), kernel_size=3, strides=1, padding='valid'))\n",
    "model.add(Activation('relu'))\n",
    "\n",
    "#Max Pooling\n",
    "model.add(MaxPooling1D(pool_size=3, strides=1, padding='valid'))\n",
    "\n",
    "#2nd Convolutional Layer\n",
    "model.add(Conv1D(filters=32, kernel_size=3, strides=1, padding='valid'))\n",
    "model.add(Activation('relu'))\n",
    "\n",
    "#Max Pooling\n",
    "model.add(MaxPooling1D(pool_size=3, strides=1, padding='valid'))\n",
    "\n",
    "#3rd Convolutional Layer\n",
    "model.add(Conv1D(filters=64, kernel_size=3, strides=1, padding='valid'))\n",
    "model.add(Activation('relu'))\n",
    "\n",
    "#4th Convolutional Layer\n",
    "model.add(Conv1D(filters=64, kernel_size=3, strides=1, padding='valid'))\n",
    "model.add(Activation('relu'))\n",
    "\n",
    "#Max Pooling\n",
    "model.add(MaxPooling1D(pool_size=3, strides=2, padding='valid'))\n",
    "\n",
    "#Fully Connected layer\n",
    "model.add(Flatten())\n",
    "\n",
    "#1st Fully Connected Layer\n",
    "model.add(Dense(512))\n",
    "model.add(Activation('relu'))\n",
    "\n",
    "#Add Dropout to prevent overfitting\n",
    "model.add(Dropout(0.3))\n",
    "\n",
    "#Output Layer\n",
    "model.add(Dense(1))\n",
    "model.add(Activation('sigmoid'))\n",
    "\n",
    "\n",
    "model.compile(optimizer=\"adam\",\n",
    "              loss=\"binary_crossentropy\", \n",
    "              metrics=[\"accuracy\"])\n",
    "\n",
    "model.summary()"
   ]
  },
  {
   "cell_type": "code",
   "execution_count": 52,
   "id": "16f0938c",
   "metadata": {},
   "outputs": [],
   "source": [
    "batch_size = 32\n",
    "steps_per_epoch = (X_train.shape[0]//batch_size)\n",
    "validation_steps = (x_normalised.shape[0]//batch_size)\n",
    "\n",
    "es = EarlyStopping(monitor='loss', mode='min', verbose=1, patience=200)"
   ]
  },
  {
   "cell_type": "code",
   "execution_count": 53,
   "id": "b1d97d47",
   "metadata": {},
   "outputs": [
    {
     "name": "stdout",
     "output_type": "stream",
     "text": [
      "Epoch 1/35\n",
      "149/153 [============================>.] - ETA: 0s - loss: 0.2017 - accuracy: 0.9451WARNING:tensorflow:Your input ran out of data; interrupting training. Make sure that your dataset or generator can generate at least `steps_per_epoch * epochs` batches (in this case, 218 batches). You may need to use the repeat() function when building your dataset.\n",
      "153/153 [==============================] - 4s 14ms/step - loss: 0.1977 - accuracy: 0.9461 - val_loss: 0.0920 - val_accuracy: 0.9733\n",
      "Epoch 2/35\n",
      "153/153 [==============================] - 3s 17ms/step - loss: 0.0770 - accuracy: 0.9790\n",
      "Epoch 3/35\n",
      "153/153 [==============================] - 3s 18ms/step - loss: 0.0560 - accuracy: 0.9842\n",
      "Epoch 4/35\n",
      "153/153 [==============================] - 2s 12ms/step - loss: 0.0538 - accuracy: 0.9834\n",
      "Epoch 5/35\n",
      "153/153 [==============================] - 2s 14ms/step - loss: 0.0411 - accuracy: 0.9862\n",
      "Epoch 6/35\n",
      "153/153 [==============================] - 2s 12ms/step - loss: 0.0477 - accuracy: 0.9854\n",
      "Epoch 7/35\n",
      "153/153 [==============================] - 3s 17ms/step - loss: 0.0397 - accuracy: 0.9883\n",
      "Epoch 8/35\n",
      "153/153 [==============================] - 2s 14ms/step - loss: 0.0347 - accuracy: 0.9885\n",
      "Epoch 9/35\n",
      "153/153 [==============================] - 2s 15ms/step - loss: 0.0428 - accuracy: 0.9856\n",
      "Epoch 10/35\n",
      "153/153 [==============================] - 2s 11ms/step - loss: 0.0378 - accuracy: 0.9869\n",
      "Epoch 11/35\n",
      "153/153 [==============================] - 2s 12ms/step - loss: 0.0390 - accuracy: 0.9862\n",
      "Epoch 12/35\n",
      "153/153 [==============================] - 2s 10ms/step - loss: 0.0361 - accuracy: 0.9862\n",
      "Epoch 13/35\n",
      "153/153 [==============================] - 2s 12ms/step - loss: 0.0338 - accuracy: 0.9885\n",
      "Epoch 14/35\n",
      "153/153 [==============================] - 3s 16ms/step - loss: 0.0367 - accuracy: 0.9871\n",
      "Epoch 15/35\n",
      "153/153 [==============================] - 2s 15ms/step - loss: 0.0321 - accuracy: 0.9877\n",
      "Epoch 16/35\n",
      "153/153 [==============================] - 2s 14ms/step - loss: 0.0327 - accuracy: 0.9885\n",
      "Epoch 17/35\n",
      "153/153 [==============================] - 2s 15ms/step - loss: 0.0296 - accuracy: 0.9883\n",
      "Epoch 18/35\n",
      "153/153 [==============================] - 2s 13ms/step - loss: 0.0272 - accuracy: 0.9895\n",
      "Epoch 19/35\n",
      "153/153 [==============================] - 2s 12ms/step - loss: 0.0315 - accuracy: 0.9883\n",
      "Epoch 20/35\n",
      "153/153 [==============================] - 2s 14ms/step - loss: 0.0297 - accuracy: 0.9895\n",
      "Epoch 21/35\n",
      "153/153 [==============================] - 2s 14ms/step - loss: 0.0293 - accuracy: 0.9891\n",
      "Epoch 22/35\n",
      "153/153 [==============================] - 2s 14ms/step - loss: 0.0302 - accuracy: 0.9881\n",
      "Epoch 23/35\n",
      "153/153 [==============================] - 2s 12ms/step - loss: 0.0302 - accuracy: 0.9899\n",
      "Epoch 24/35\n",
      "153/153 [==============================] - 2s 11ms/step - loss: 0.0292 - accuracy: 0.9871\n",
      "Epoch 25/35\n",
      "153/153 [==============================] - 2s 15ms/step - loss: 0.0269 - accuracy: 0.9901\n",
      "Epoch 26/35\n",
      "153/153 [==============================] - 2s 12ms/step - loss: 0.0281 - accuracy: 0.9885\n",
      "Epoch 27/35\n",
      "153/153 [==============================] - 2s 10ms/step - loss: 0.0275 - accuracy: 0.9895\n",
      "Epoch 28/35\n",
      "153/153 [==============================] - 2s 12ms/step - loss: 0.0260 - accuracy: 0.9891\n",
      "Epoch 29/35\n",
      "153/153 [==============================] - 2s 11ms/step - loss: 0.0259 - accuracy: 0.9895\n",
      "Epoch 30/35\n",
      "153/153 [==============================] - 2s 12ms/step - loss: 0.0266 - accuracy: 0.9899\n",
      "Epoch 31/35\n",
      "153/153 [==============================] - 2s 12ms/step - loss: 0.0234 - accuracy: 0.9903\n",
      "Epoch 32/35\n",
      "153/153 [==============================] - 2s 12ms/step - loss: 0.0291 - accuracy: 0.9883\n",
      "Epoch 33/35\n",
      "153/153 [==============================] - 2s 11ms/step - loss: 0.0266 - accuracy: 0.9883\n",
      "Epoch 34/35\n",
      "153/153 [==============================] - 2s 10ms/step - loss: 0.0247 - accuracy: 0.9908\n",
      "Epoch 35/35\n",
      "153/153 [==============================] - 2s 11ms/step - loss: 0.0245 - accuracy: 0.9910\n",
      "Wall time: 1min 12s\n"
     ]
    },
    {
     "data": {
      "text/plain": [
       "<keras.callbacks.History at 0x207c684a670>"
      ]
     },
     "execution_count": 53,
     "metadata": {},
     "output_type": "execute_result"
    }
   ],
   "source": [
    "%%time\n",
    "\n",
    "# Entrenar el modelo\n",
    "model.fit(X_train, y_train,\n",
    "    steps_per_epoch=steps_per_epoch,\n",
    "    epochs = 35,\n",
    "    validation_data=(X_test, y_test),\n",
    "    validation_steps=validation_steps,\n",
    "    batch_size = batch_size,\n",
    "    callbacks=[es],\n",
    "    verbose=1)"
   ]
  },
  {
   "cell_type": "code",
   "execution_count": 54,
   "id": "705ca3ec",
   "metadata": {},
   "outputs": [
    {
     "name": "stdout",
     "output_type": "stream",
     "text": [
      "66/66 [==============================] - 0s 4ms/step - loss: 0.0324 - accuracy: 0.9914\n",
      "test_loss: 3.24\n",
      "test_accuracy: 99.14\n"
     ]
    }
   ],
   "source": [
    "loss, accuracy = model.evaluate(X_test,y_test,batch_size=batch_size)\n",
    "print('test_loss: %.2f' % (loss * 100.0))  \n",
    "print('test_accuracy: %.2f' % (accuracy * 100.0))"
   ]
  },
  {
   "cell_type": "code",
   "execution_count": 55,
   "id": "7894e9aa",
   "metadata": {},
   "outputs": [
    {
     "name": "stdout",
     "output_type": "stream",
     "text": [
      "66/66 [==============================] - 1s 3ms/step\n",
      "Accuracy: 99.14\n",
      "F1 score: 99.14\n",
      "Precision: 99.15\n",
      "Recall: 99.14\n"
     ]
    }
   ],
   "source": [
    "from sklearn.metrics import accuracy_score, precision_score, recall_score, f1_score\n",
    "\n",
    "# Hacer predicciones sobre los datos de prueba\n",
    "y_pred = model.predict(X_test)\n",
    "\n",
    "# Convertir las probabilidades en etiquetas binarias (0 o 1) usando un umbral de 0.5\n",
    "y_pred_binary = (y_pred > 0.5).astype(int)\n",
    " \n",
    "# calcular métricas de evaluación\n",
    "acc = accuracy_score(y_test, y_pred_binary)*100\n",
    "f1 = f1_score(y_test, y_pred_binary, average='weighted')*100\n",
    "prec = precision_score(y_test, y_pred_binary, average='weighted')*100\n",
    "rec = recall_score(y_test, y_pred_binary, average='weighted')*100\n",
    "\n",
    "print('Accuracy: %.2f' % acc)\n",
    "print('F1 score: %.2f' % f1)\n",
    "print('Precision: %.2f' % prec)\n",
    "print('Recall: %.2f' % rec)"
   ]
  },
  {
   "cell_type": "markdown",
   "id": "d831b694",
   "metadata": {},
   "source": [
    "## Gráfico Roc Curve"
   ]
  },
  {
   "cell_type": "code",
   "execution_count": 56,
   "id": "26f95d05",
   "metadata": {},
   "outputs": [
    {
     "name": "stdout",
     "output_type": "stream",
     "text": [
      "66/66 [==============================] - 0s 3ms/step\n"
     ]
    },
    {
     "data": {
      "text/plain": [
       "<matplotlib.legend.Legend at 0x207c6bd97c0>"
      ]
     },
     "execution_count": 56,
     "metadata": {},
     "output_type": "execute_result"
    },
    {
     "data": {
      "image/png": "[encoded data removed]",
      "text/plain": [
       "<Figure size 640x480 with 1 Axes>"
      ]
     },
     "metadata": {},
     "output_type": "display_data"
    }
   ],
   "source": [
    "import matplotlib.pyplot as plt\n",
    "from sklearn import metrics\n",
    "y_pred = model.predict(X_test)\n",
    "y_pred = (y_pred > 0.5).astype(int)\n",
    "fpr, tpr, _ = metrics.roc_curve(y_test, y_pred)\n",
    "accuracy = metrics.accuracy_score(y_test, y_pred)\n",
    "CNN = \"Accuracy = {:.2f}\".format(accuracy*100)\n",
    "plt.plot(fpr, tpr, label=\"CNN, AUC=\" + str(CNN))\n",
    "plt.legend()"
   ]
  }
 ],
 "metadata": {
  "kernelspec": {
   "display_name": "Python 3 (ipykernel)",
   "language": "python",
   "name": "python3"
  },
  "language_info": {
   "codemirror_mode": {
    "name": "ipython",
    "version": 3
   },
   "file_extension": ".py",
   "mimetype": "text/x-python",
   "name": "python",
   "nbconvert_exporter": "python",
   "pygments_lexer": "ipython3",
   "version": "3.9.13"
  }
 },
 "nbformat": 4,
 "nbformat_minor": 5
}
