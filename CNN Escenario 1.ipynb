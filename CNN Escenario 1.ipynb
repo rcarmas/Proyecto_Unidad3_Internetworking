{
 "cells": [
  {
   "cell_type": "markdown",
   "id": "bbdda340",
   "metadata": {},
   "source": [
    "<center><h1>Escenarios experimentales Internetworking</h1></center>"
   ]
  },
  {
   "cell_type": "markdown",
   "id": "512815c2",
   "metadata": {},
   "source": [
    "Presentado por: Holger Fernando Catucuamba Nepas <br>\n",
    "Fecha: 23/02/2023"
   ]
  },
  {
   "cell_type": "markdown",
   "id": "ede57f1e",
   "metadata": {},
   "source": [
    "##  Importación de librerias necesarias"
   ]
  },
  {
   "cell_type": "code",
   "execution_count": 1,
   "id": "f05d5622",
   "metadata": {},
   "outputs": [],
   "source": [
    "import pandas as pd\n",
    "import numpy as np\n",
    "import tensorflow as tf\n",
    "from sklearn.preprocessing import StandardScaler\n",
    "from sklearn.model_selection import train_test_split"
   ]
  },
  {
   "cell_type": "markdown",
   "id": "7ac84c2c",
   "metadata": {},
   "source": [
    "## Cargar el Dataset"
   ]
  },
  {
   "cell_type": "code",
   "execution_count": 2,
   "id": "00ffeb21",
   "metadata": {},
   "outputs": [],
   "source": [
    "datapath = 'https://raw.githubusercontent.com/hfcatucuamba/proyectoInternetworking/main/Escenario1.csv'\n",
    "dataframe = pd.read_csv(datapath,low_memory=False, sep=';')"
   ]
  },
  {
   "cell_type": "code",
   "execution_count": 3,
   "id": "80458ad7",
   "metadata": {},
   "outputs": [
    {
     "data": {
      "text/html": [
       "<div>\n",
       "<style scoped>\n",
       "    .dataframe tbody tr th:only-of-type {\n",
       "        vertical-align: middle;\n",
       "    }\n",
       "\n",
       "    .dataframe tbody tr th {\n",
       "        vertical-align: top;\n",
       "    }\n",
       "\n",
       "    .dataframe thead th {\n",
       "        text-align: right;\n",
       "    }\n",
       "</style>\n",
       "<table border=\"1\" class=\"dataframe\">\n",
       "  <thead>\n",
       "    <tr style=\"text-align: right;\">\n",
       "      <th></th>\n",
       "      <th>Source IP</th>\n",
       "      <th>Source Port</th>\n",
       "      <th>Destination IP</th>\n",
       "      <th>Destination Port</th>\n",
       "      <th>Protocol</th>\n",
       "      <th>Flow Duration</th>\n",
       "      <th>Flow Bytes/s</th>\n",
       "      <th>Flow Packets/s</th>\n",
       "      <th>Flow IAT Mean</th>\n",
       "      <th>Flow IAT Std</th>\n",
       "      <th>...</th>\n",
       "      <th>Bwd IAT Min</th>\n",
       "      <th>Active Mean</th>\n",
       "      <th>Active Std</th>\n",
       "      <th>Active Max</th>\n",
       "      <th>Active Min</th>\n",
       "      <th>Idle Mean</th>\n",
       "      <th>Idle Std</th>\n",
       "      <th>Idle Max</th>\n",
       "      <th>Idle Min</th>\n",
       "      <th>label</th>\n",
       "    </tr>\n",
       "  </thead>\n",
       "  <tbody>\n",
       "    <tr>\n",
       "      <th>0</th>\n",
       "      <td>10.0.2.15</td>\n",
       "      <td>53913</td>\n",
       "      <td>216.58.208.46</td>\n",
       "      <td>80</td>\n",
       "      <td>6</td>\n",
       "      <td>435</td>\n",
       "      <td>0</td>\n",
       "      <td>45.977.011.494.253</td>\n",
       "      <td>435</td>\n",
       "      <td>0</td>\n",
       "      <td>...</td>\n",
       "      <td>0</td>\n",
       "      <td>0</td>\n",
       "      <td>0</td>\n",
       "      <td>0</td>\n",
       "      <td>0</td>\n",
       "      <td>0</td>\n",
       "      <td>0</td>\n",
       "      <td>0</td>\n",
       "      <td>0</td>\n",
       "      <td>nonTOR</td>\n",
       "    </tr>\n",
       "    <tr>\n",
       "      <th>1</th>\n",
       "      <td>10.0.2.15</td>\n",
       "      <td>53913</td>\n",
       "      <td>216.58.208.46</td>\n",
       "      <td>80</td>\n",
       "      <td>6</td>\n",
       "      <td>259</td>\n",
       "      <td>0</td>\n",
       "      <td>77.220.077.220.077</td>\n",
       "      <td>259</td>\n",
       "      <td>0</td>\n",
       "      <td>...</td>\n",
       "      <td>0</td>\n",
       "      <td>0</td>\n",
       "      <td>0</td>\n",
       "      <td>0</td>\n",
       "      <td>0</td>\n",
       "      <td>0</td>\n",
       "      <td>0</td>\n",
       "      <td>0</td>\n",
       "      <td>0</td>\n",
       "      <td>nonTOR</td>\n",
       "    </tr>\n",
       "    <tr>\n",
       "      <th>2</th>\n",
       "      <td>10.0.2.15</td>\n",
       "      <td>53913</td>\n",
       "      <td>216.58.208.46</td>\n",
       "      <td>80</td>\n",
       "      <td>6</td>\n",
       "      <td>891</td>\n",
       "      <td>0</td>\n",
       "      <td>22.446.689.113.356</td>\n",
       "      <td>891</td>\n",
       "      <td>0</td>\n",
       "      <td>...</td>\n",
       "      <td>0</td>\n",
       "      <td>0</td>\n",
       "      <td>0</td>\n",
       "      <td>0</td>\n",
       "      <td>0</td>\n",
       "      <td>0</td>\n",
       "      <td>0</td>\n",
       "      <td>0</td>\n",
       "      <td>0</td>\n",
       "      <td>nonTOR</td>\n",
       "    </tr>\n",
       "    <tr>\n",
       "      <th>3</th>\n",
       "      <td>10.0.2.15</td>\n",
       "      <td>53913</td>\n",
       "      <td>216.58.208.46</td>\n",
       "      <td>80</td>\n",
       "      <td>6</td>\n",
       "      <td>1074</td>\n",
       "      <td>0</td>\n",
       "      <td>18.621.973.929.237</td>\n",
       "      <td>1074</td>\n",
       "      <td>0</td>\n",
       "      <td>...</td>\n",
       "      <td>0</td>\n",
       "      <td>0</td>\n",
       "      <td>0</td>\n",
       "      <td>0</td>\n",
       "      <td>0</td>\n",
       "      <td>0</td>\n",
       "      <td>0</td>\n",
       "      <td>0</td>\n",
       "      <td>0</td>\n",
       "      <td>nonTOR</td>\n",
       "    </tr>\n",
       "    <tr>\n",
       "      <th>4</th>\n",
       "      <td>10.0.2.15</td>\n",
       "      <td>53913</td>\n",
       "      <td>216.58.208.46</td>\n",
       "      <td>80</td>\n",
       "      <td>6</td>\n",
       "      <td>315</td>\n",
       "      <td>0</td>\n",
       "      <td>63.492.063.492.064</td>\n",
       "      <td>315</td>\n",
       "      <td>0</td>\n",
       "      <td>...</td>\n",
       "      <td>0</td>\n",
       "      <td>0</td>\n",
       "      <td>0</td>\n",
       "      <td>0</td>\n",
       "      <td>0</td>\n",
       "      <td>0</td>\n",
       "      <td>0</td>\n",
       "      <td>0</td>\n",
       "      <td>0</td>\n",
       "      <td>nonTOR</td>\n",
       "    </tr>\n",
       "  </tbody>\n",
       "</table>\n",
       "<p>5 rows × 29 columns</p>\n",
       "</div>"
      ],
      "text/plain": [
       "   Source IP   Source Port  Destination IP   Destination Port   Protocol  \\\n",
       "0  10.0.2.15         53913   216.58.208.46                 80          6   \n",
       "1  10.0.2.15         53913   216.58.208.46                 80          6   \n",
       "2  10.0.2.15         53913   216.58.208.46                 80          6   \n",
       "3  10.0.2.15         53913   216.58.208.46                 80          6   \n",
       "4  10.0.2.15         53913   216.58.208.46                 80          6   \n",
       "\n",
       "    Flow Duration  Flow Bytes/s      Flow Packets/s  Flow IAT Mean  \\\n",
       "0             435             0  45.977.011.494.253            435   \n",
       "1             259             0  77.220.077.220.077            259   \n",
       "2             891             0  22.446.689.113.356            891   \n",
       "3            1074             0  18.621.973.929.237           1074   \n",
       "4             315             0  63.492.063.492.064            315   \n",
       "\n",
       "   Flow IAT Std  ...   Bwd IAT Min  Active Mean  Active Std  Active Max  \\\n",
       "0             0  ...             0            0           0           0   \n",
       "1             0  ...             0            0           0           0   \n",
       "2             0  ...             0            0           0           0   \n",
       "3             0  ...             0            0           0           0   \n",
       "4             0  ...             0            0           0           0   \n",
       "\n",
       "    Active Min  Idle Mean  Idle Std  Idle Max   Idle Min   label  \n",
       "0            0          0         0         0          0  nonTOR  \n",
       "1            0          0         0         0          0  nonTOR  \n",
       "2            0          0         0         0          0  nonTOR  \n",
       "3            0          0         0         0          0  nonTOR  \n",
       "4            0          0         0         0          0  nonTOR  \n",
       "\n",
       "[5 rows x 29 columns]"
      ]
     },
     "execution_count": 3,
     "metadata": {},
     "output_type": "execute_result"
    }
   ],
   "source": [
    "dataframe.head()"
   ]
  },
  {
   "cell_type": "markdown",
   "id": "7abf8300",
   "metadata": {},
   "source": [
    "## Normalizar los datos"
   ]
  },
  {
   "cell_type": "code",
   "execution_count": 4,
   "id": "abb27aa6",
   "metadata": {},
   "outputs": [],
   "source": [
    "def dfNormalize(df):\n",
    "    for feature_name in df.columns:\n",
    "        df.loc[:,feature_name]= pd.to_numeric(df.loc[:,feature_name], errors='coerce').fillna(0)\n",
    "        max_value = df[feature_name].max()\n",
    "        min_value = df[feature_name].min()   \n",
    "        if (max_value - min_value) > 0:\n",
    "            df.loc[:,feature_name] = (df.loc[:,feature_name] - min_value) / (max_value - min_value)\n",
    "        else:\n",
    "            df.loc[:,feature_name] = (df.loc[:,feature_name]- min_value)    \n",
    "    return df"
   ]
  },
  {
   "cell_type": "code",
   "execution_count": 5,
   "id": "0b2ff737",
   "metadata": {},
   "outputs": [
    {
     "name": "stdout",
     "output_type": "stream",
     "text": [
      "(7000, 29)\n",
      "        Source Port   Destination Port   Protocol   Flow Duration  \\\n",
      "count   7000.000000        7000.000000     7000.0    7.000000e+03   \n",
      "mean   42153.076571        7647.390714        6.0    4.002204e+06   \n",
      "std    17081.978193       17168.713987        0.0    4.450485e+06   \n",
      "min       80.000000          21.000000        6.0    1.700000e+01   \n",
      "25%    38894.000000         443.000000        6.0    2.013598e+05   \n",
      "50%    45337.000000         443.000000        6.0    4.409195e+05   \n",
      "75%    54698.000000         443.000000        6.0    9.829612e+06   \n",
      "max    61156.000000       65514.000000        6.0    1.000000e+07   \n",
      "\n",
      "        Flow IAT Max   Flow IAT Min   Fwd IAT Max   Fwd IAT Min   Bwd IAT Max  \\\n",
      "count   7.000000e+03   7.000000e+03  7.000000e+03  7.000000e+03  7.000000e+03   \n",
      "mean    1.148187e+06   1.023332e+05  1.079414e+06  1.035305e+05  8.884348e+05   \n",
      "std     2.113319e+06   4.321051e+05  2.135818e+06  6.952060e+05  1.933856e+06   \n",
      "min     1.700000e+01  -4.340000e+02  0.000000e+00  0.000000e+00  0.000000e+00   \n",
      "25%     8.040400e+04   1.800000e+01  0.000000e+00  0.000000e+00  0.000000e+00   \n",
      "50%     2.077015e+05   1.355000e+02  7.491650e+04  2.200000e+01  6.900000e+01   \n",
      "75%     9.100840e+05   1.314120e+05  8.657385e+05  1.850000e+02  4.285258e+05   \n",
      "max     9.996903e+06   9.904104e+06  9.997140e+06  9.997140e+06  9.996903e+06   \n",
      "\n",
      "        Bwd IAT Min   Active Mean   Active Std    Active Max    Active Min  \\\n",
      "count  7.000000e+03  7.000000e+03       7000.0  7.000000e+03  7.000000e+03   \n",
      "mean   7.738332e+04  5.055150e+04          0.0  5.055150e+04  5.055150e+04   \n",
      "std    6.163785e+05  3.285407e+05          0.0  3.285407e+05  3.285407e+05   \n",
      "min    0.000000e+00  0.000000e+00          0.0  0.000000e+00  0.000000e+00   \n",
      "25%    0.000000e+00  0.000000e+00          0.0  0.000000e+00  0.000000e+00   \n",
      "50%    3.000000e+00  0.000000e+00          0.0  0.000000e+00  0.000000e+00   \n",
      "75%    2.450000e+02  0.000000e+00          0.0  0.000000e+00  0.000000e+00   \n",
      "max    9.996903e+06  4.823748e+06          0.0  4.823748e+06  4.823748e+06   \n",
      "\n",
      "          Idle Mean   Idle Std      Idle Max      Idle Min  \n",
      "count  7.000000e+03     7000.0  7.000000e+03  7.000000e+03  \n",
      "mean   5.152838e+05        0.0  5.152838e+05  5.152838e+05  \n",
      "std    1.915464e+06        0.0  1.915464e+06  1.915464e+06  \n",
      "min    0.000000e+00        0.0  0.000000e+00  0.000000e+00  \n",
      "25%    0.000000e+00        0.0  0.000000e+00  0.000000e+00  \n",
      "50%    0.000000e+00        0.0  0.000000e+00  0.000000e+00  \n",
      "75%    0.000000e+00        0.0  0.000000e+00  0.000000e+00  \n",
      "max    9.996903e+06        0.0  9.996903e+06  9.996903e+06  \n",
      "['Source IP', ' Source Port', ' Destination IP', ' Destination Port', ' Protocol', ' Flow Duration', ' Flow Bytes/s', ' Flow Packets/s', ' Flow IAT Mean', ' Flow IAT Std', ' Flow IAT Max', ' Flow IAT Min', 'Fwd IAT Mean', ' Fwd IAT Std', ' Fwd IAT Max', ' Fwd IAT Min', 'Bwd IAT Mean', ' Bwd IAT Std', ' Bwd IAT Max', ' Bwd IAT Min', 'Active Mean', ' Active Std', ' Active Max', ' Active Min', 'Idle Mean', ' Idle Std', ' Idle Max', ' Idle Min', 'label']\n"
     ]
    }
   ],
   "source": [
    "print (dataframe.shape)\n",
    "dataframe = dataframe.reindex(np.random.permutation(dataframe.index)).copy()\n",
    "print(dataframe.describe())\n",
    "print (list(dataframe))"
   ]
  },
  {
   "cell_type": "code",
   "execution_count": 6,
   "id": "241e7e46",
   "metadata": {},
   "outputs": [
    {
     "name": "stdout",
     "output_type": "stream",
     "text": [
      "        Protocol   Flow Duration   Flow Bytes/s   Flow Packets/s  \\\n",
      "count     7000.0     7000.000000    7000.000000      7000.000000   \n",
      "mean         0.0        0.400219       0.000143         0.000167   \n",
      "std          0.0        0.445049       0.011952         0.012051   \n",
      "min          0.0        0.000000       0.000000         0.000000   \n",
      "25%          0.0        0.020134       0.000000         0.000000   \n",
      "50%          0.0        0.044090       0.000000         0.000000   \n",
      "75%          0.0        0.982961       0.000000         0.000000   \n",
      "max          0.0        1.000000       1.000000         1.000000   \n",
      "\n",
      "        Flow IAT Mean   Flow IAT Std   Flow IAT Max   Flow IAT Min  \\\n",
      "count     7000.000000         7000.0    7000.000000    7000.000000   \n",
      "mean         0.017407            0.0       0.114853       0.010376   \n",
      "std          0.055836            0.0       0.211398       0.043627   \n",
      "min          0.000000            0.0       0.000000       0.000000   \n",
      "25%          0.000000            0.0       0.008041       0.000046   \n",
      "50%          0.002582            0.0       0.020775       0.000057   \n",
      "75%          0.020796            0.0       0.091035       0.013312   \n",
      "max          1.000000            0.0       1.000000       1.000000   \n",
      "\n",
      "       Fwd IAT Mean   Fwd IAT Std  ...   Bwd IAT Max   Bwd IAT Min  \\\n",
      "count   7000.000000        7000.0  ...   7000.000000  7.000000e+03   \n",
      "mean       0.023867           0.0  ...      0.088871  7.740730e-03   \n",
      "std        0.088368           0.0  ...      0.193445  6.165694e-02   \n",
      "min        0.000000           0.0  ...      0.000000  0.000000e+00   \n",
      "25%        0.000000           0.0  ...      0.000000  0.000000e+00   \n",
      "50%        0.000000           0.0  ...      0.000007  3.000929e-07   \n",
      "75%        0.000000           0.0  ...      0.042866  2.450759e-05   \n",
      "max        1.000000           0.0  ...      1.000000  1.000000e+00   \n",
      "\n",
      "       Active Mean   Active Std   Active Max   Active Min    Idle Mean  \\\n",
      "count  7000.000000       7000.0  7000.000000  7000.000000  7000.000000   \n",
      "mean      0.010480          0.0     0.010480     0.010480     0.051544   \n",
      "std       0.068109          0.0     0.068109     0.068109     0.191606   \n",
      "min       0.000000          0.0     0.000000     0.000000     0.000000   \n",
      "25%       0.000000          0.0     0.000000     0.000000     0.000000   \n",
      "50%       0.000000          0.0     0.000000     0.000000     0.000000   \n",
      "75%       0.000000          0.0     0.000000     0.000000     0.000000   \n",
      "max       1.000000          0.0     1.000000     1.000000     1.000000   \n",
      "\n",
      "        Idle Std     Idle Max     Idle Min  \n",
      "count     7000.0  7000.000000  7000.000000  \n",
      "mean         0.0     0.051544     0.051544  \n",
      "std          0.0     0.191606     0.191606  \n",
      "min          0.0     0.000000     0.000000  \n",
      "25%          0.0     0.000000     0.000000  \n",
      "50%          0.0     0.000000     0.000000  \n",
      "75%          0.0     0.000000     0.000000  \n",
      "max          0.0     1.000000     1.000000  \n",
      "\n",
      "[8 rows x 24 columns]\n"
     ]
    }
   ],
   "source": [
    "keys = dataframe.keys()\n",
    "data_to_process = dataframe[keys[4:len(keys) - 1]].copy()\n",
    "x_normalised = dfNormalize(data_to_process)\n",
    "print(x_normalised.describe())"
   ]
  },
  {
   "cell_type": "markdown",
   "id": "27233c7a",
   "metadata": {},
   "source": [
    "\n",
    "## Obtener los datos para entrenar y de prueba"
   ]
  },
  {
   "cell_type": "code",
   "execution_count": 7,
   "id": "ea145c6b",
   "metadata": {},
   "outputs": [],
   "source": [
    "change_labels = lambda x: 1 if x == 'nonTOR' else 0"
   ]
  },
  {
   "cell_type": "code",
   "execution_count": 8,
   "id": "13f0a9be",
   "metadata": {},
   "outputs": [],
   "source": [
    "y_normalised = dataframe['label'].apply(change_labels)"
   ]
  },
  {
   "cell_type": "code",
   "execution_count": 9,
   "id": "8e04c980",
   "metadata": {},
   "outputs": [],
   "source": [
    "X_train, X_test, y_train, y_test = train_test_split(x_normalised,\n",
    "                                            y_normalised, test_size=0.3, random_state=42)"
   ]
  },
  {
   "cell_type": "markdown",
   "id": "75f6aa22",
   "metadata": {},
   "source": [
    "## Crear Modelo "
   ]
  },
  {
   "cell_type": "code",
   "execution_count": 10,
   "id": "6b6d19c0",
   "metadata": {},
   "outputs": [
    {
     "name": "stdout",
     "output_type": "stream",
     "text": [
      "Model: \"sequential\"\n",
      "_________________________________________________________________\n",
      " Layer (type)                Output Shape              Param #   \n",
      "=================================================================\n",
      " conv1d (Conv1D)             (None, 24, 64)            256       \n",
      "                                                                 \n",
      " dropout (Dropout)           (None, 24, 64)            0         \n",
      "                                                                 \n",
      " conv1d_1 (Conv1D)           (None, 24, 64)            12352     \n",
      "                                                                 \n",
      " flatten (Flatten)           (None, 1536)              0         \n",
      "                                                                 \n",
      " dense (Dense)               (None, 512)               786944    \n",
      "                                                                 \n",
      " dropout_1 (Dropout)         (None, 512)               0         \n",
      "                                                                 \n",
      " dense_1 (Dense)             (None, 10)                5130      \n",
      "                                                                 \n",
      "=================================================================\n",
      "Total params: 804,682\n",
      "Trainable params: 804,682\n",
      "Non-trainable params: 0\n",
      "_________________________________________________________________\n"
     ]
    }
   ],
   "source": [
    "from tensorflow.keras.models import Sequential\n",
    "from tensorflow.keras.layers import Conv1D, MaxPooling1D, Flatten, Dense, Dropout\n",
    "from tensorflow.keras.constraints import MaxNorm\n",
    "from tensorflow.keras.callbacks import EarlyStopping\n",
    "\n",
    "model = Sequential([\n",
    "    Conv1D(64, 3, input_shape=(X_train.shape[1], 1), padding=\"same\", activation=\"relu\", kernel_constraint=MaxNorm(3)),\n",
    "    Dropout(0.3),\n",
    "    Conv1D(64, 3, padding=\"same\", activation=\"relu\", kernel_constraint=MaxNorm(3)),\n",
    "    Flatten(),\n",
    "    Dense(512, activation=\"relu\", kernel_constraint=MaxNorm(3)),\n",
    "    Dropout(0.3),\n",
    "    Dense(10, activation=\"softmax\")\n",
    "])\n",
    "\n",
    "model.compile(optimizer=\"adam\",\n",
    "              loss=\"sparse_categorical_crossentropy\", \n",
    "              metrics=[\"sparse_categorical_accuracy\"])\n",
    "\n",
    "model.summary()"
   ]
  },
  {
   "cell_type": "code",
   "execution_count": 11,
   "id": "16f0938c",
   "metadata": {},
   "outputs": [],
   "source": [
    "batch_size = 32\n",
    "steps_per_epoch = (X_train.shape[0]//batch_size)\n",
    "validation_steps = (x_normalised.shape[0] // batch_size)\n",
    "\n",
    "es = EarlyStopping(monitor='val_loss', mode='min', verbose=1, patience=200)"
   ]
  },
  {
   "cell_type": "code",
   "execution_count": 12,
   "id": "b1d97d47",
   "metadata": {},
   "outputs": [
    {
     "name": "stdout",
     "output_type": "stream",
     "text": [
      "Epoch 1/25\n",
      "154/154 [==============================] - 2s 10ms/step - loss: 0.3210 - sparse_categorical_accuracy: 0.8912 - val_loss: 0.0970 - val_sparse_categorical_accuracy: 0.9690\n",
      "Epoch 2/25\n",
      "154/154 [==============================] - 1s 9ms/step - loss: 0.0919 - sparse_categorical_accuracy: 0.9737 - val_loss: 0.0434 - val_sparse_categorical_accuracy: 0.9886\n",
      "Epoch 3/25\n",
      "154/154 [==============================] - 1s 9ms/step - loss: 0.0655 - sparse_categorical_accuracy: 0.9822 - val_loss: 0.0369 - val_sparse_categorical_accuracy: 0.9910\n",
      "Epoch 4/25\n",
      "154/154 [==============================] - 1s 10ms/step - loss: 0.0613 - sparse_categorical_accuracy: 0.9827 - val_loss: 0.0332 - val_sparse_categorical_accuracy: 0.9919\n",
      "Epoch 5/25\n",
      "154/154 [==============================] - 1s 9ms/step - loss: 0.0560 - sparse_categorical_accuracy: 0.9837 - val_loss: 0.0351 - val_sparse_categorical_accuracy: 0.9919\n",
      "Epoch 6/25\n",
      "154/154 [==============================] - 1s 9ms/step - loss: 0.0618 - sparse_categorical_accuracy: 0.9824 - val_loss: 0.0338 - val_sparse_categorical_accuracy: 0.9914\n",
      "Epoch 7/25\n",
      "154/154 [==============================] - 2s 10ms/step - loss: 0.0538 - sparse_categorical_accuracy: 0.9847 - val_loss: 0.0291 - val_sparse_categorical_accuracy: 0.9924\n",
      "Epoch 8/25\n",
      "154/154 [==============================] - 2s 10ms/step - loss: 0.0502 - sparse_categorical_accuracy: 0.9861 - val_loss: 0.0373 - val_sparse_categorical_accuracy: 0.9919\n",
      "Epoch 9/25\n",
      "154/154 [==============================] - 2s 10ms/step - loss: 0.0498 - sparse_categorical_accuracy: 0.9855 - val_loss: 0.0279 - val_sparse_categorical_accuracy: 0.9929\n",
      "Epoch 10/25\n",
      "154/154 [==============================] - 2s 11ms/step - loss: 0.0467 - sparse_categorical_accuracy: 0.9863 - val_loss: 0.0298 - val_sparse_categorical_accuracy: 0.9929\n",
      "Epoch 11/25\n",
      "154/154 [==============================] - 2s 10ms/step - loss: 0.0452 - sparse_categorical_accuracy: 0.9857 - val_loss: 0.0255 - val_sparse_categorical_accuracy: 0.9938\n",
      "Epoch 12/25\n",
      "154/154 [==============================] - 1s 10ms/step - loss: 0.0477 - sparse_categorical_accuracy: 0.9859 - val_loss: 0.0307 - val_sparse_categorical_accuracy: 0.9933\n",
      "Epoch 13/25\n",
      "154/154 [==============================] - 2s 10ms/step - loss: 0.0427 - sparse_categorical_accuracy: 0.9884 - val_loss: 0.0354 - val_sparse_categorical_accuracy: 0.9924\n",
      "Epoch 14/25\n",
      "154/154 [==============================] - 1s 10ms/step - loss: 0.0519 - sparse_categorical_accuracy: 0.9863 - val_loss: 0.0325 - val_sparse_categorical_accuracy: 0.9933\n",
      "Epoch 15/25\n",
      "154/154 [==============================] - 2s 10ms/step - loss: 0.0458 - sparse_categorical_accuracy: 0.9878 - val_loss: 0.0244 - val_sparse_categorical_accuracy: 0.9938\n",
      "Epoch 16/25\n",
      "154/154 [==============================] - 2s 10ms/step - loss: 0.0439 - sparse_categorical_accuracy: 0.9859 - val_loss: 0.0258 - val_sparse_categorical_accuracy: 0.9933\n",
      "Epoch 17/25\n",
      "154/154 [==============================] - 2s 10ms/step - loss: 0.0432 - sparse_categorical_accuracy: 0.9867 - val_loss: 0.0308 - val_sparse_categorical_accuracy: 0.9929\n",
      "Epoch 18/25\n",
      "154/154 [==============================] - 2s 10ms/step - loss: 0.0417 - sparse_categorical_accuracy: 0.9880 - val_loss: 0.0263 - val_sparse_categorical_accuracy: 0.9948\n",
      "Epoch 19/25\n",
      "154/154 [==============================] - 2s 10ms/step - loss: 0.0412 - sparse_categorical_accuracy: 0.9871 - val_loss: 0.0227 - val_sparse_categorical_accuracy: 0.9943\n",
      "Epoch 20/25\n",
      "154/154 [==============================] - 2s 10ms/step - loss: 0.0389 - sparse_categorical_accuracy: 0.9886 - val_loss: 0.0231 - val_sparse_categorical_accuracy: 0.9933\n",
      "Epoch 21/25\n",
      "154/154 [==============================] - 2s 10ms/step - loss: 0.0387 - sparse_categorical_accuracy: 0.9884 - val_loss: 0.0213 - val_sparse_categorical_accuracy: 0.9943\n",
      "Epoch 22/25\n",
      "154/154 [==============================] - 2s 11ms/step - loss: 0.0387 - sparse_categorical_accuracy: 0.9880 - val_loss: 0.0298 - val_sparse_categorical_accuracy: 0.9938\n",
      "Epoch 23/25\n",
      "154/154 [==============================] - 2s 11ms/step - loss: 0.0427 - sparse_categorical_accuracy: 0.9873 - val_loss: 0.0210 - val_sparse_categorical_accuracy: 0.9943\n",
      "Epoch 24/25\n",
      "154/154 [==============================] - 2s 11ms/step - loss: 0.0393 - sparse_categorical_accuracy: 0.9873 - val_loss: 0.0195 - val_sparse_categorical_accuracy: 0.9938\n",
      "Epoch 25/25\n",
      "154/154 [==============================] - 2s 11ms/step - loss: 0.0364 - sparse_categorical_accuracy: 0.9871 - val_loss: 0.0229 - val_sparse_categorical_accuracy: 0.9948\n",
      "Wall time: 39.6 s\n"
     ]
    },
    {
     "data": {
      "text/plain": [
       "<keras.callbacks.History at 0x232120b0f70>"
      ]
     },
     "execution_count": 12,
     "metadata": {},
     "output_type": "execute_result"
    }
   ],
   "source": [
    "%%time\n",
    "\n",
    "model.fit(X_train, y_train, validation_data=(X_test, y_test), epochs=25, batch_size=32)"
   ]
  },
  {
   "cell_type": "code",
   "execution_count": 13,
   "id": "705ca3ec",
   "metadata": {},
   "outputs": [
    {
     "name": "stdout",
     "output_type": "stream",
     "text": [
      "66/66 [==============================] - 0s 3ms/step - loss: 0.0229 - sparse_categorical_accuracy: 0.9948\n",
      "test_loss: 2.29\n",
      "test_accuracy: 99.48\n"
     ]
    }
   ],
   "source": [
    "loss, accuracy = model.evaluate(X_test,y_test,batch_size=batch_size)\n",
    "print('test_loss: %.2f' % (loss * 100.0))  \n",
    "print('test_accuracy: %.2f' % (accuracy * 100.0))"
   ]
  },
  {
   "cell_type": "code",
   "execution_count": 14,
   "id": "7894e9aa",
   "metadata": {},
   "outputs": [
    {
     "name": "stdout",
     "output_type": "stream",
     "text": [
      "Accuracy: 99.48\n",
      "F1 score: 99.48\n",
      "Precision: 99.48\n",
      "Recall: 99.48\n"
     ]
    }
   ],
   "source": [
    "from sklearn.metrics import accuracy_score, precision_score, recall_score, f1_score\n",
    "model_probs = model.predict(X_test,batch_size=batch_size,verbose=0)\n",
    "# predict crisp classes for test set\n",
    "model_classes = np.argmax(model_probs,axis=1)\n",
    "# reduce to 1d array\n",
    "model_probs = model_probs[:, 0]\n",
    " \n",
    "# accuracy: (tp + tn) / (p + n)\n",
    "accuracy = accuracy_score(y_test, model_classes)*100\n",
    "# precision tp / (tp + fp)\n",
    "precision = precision_score(y_test, model_classes, average='weighted')*100\n",
    "# recall: tp / (tp + fn)\n",
    "recall = recall_score(y_test, model_classes, average='weighted')*100\n",
    "# f1: 2 tp / (2 tp + fp + fn)\n",
    "f1 = f1_score(y_test, model_classes, average='weighted')*100\n",
    "\n",
    "print('Accuracy: %.2f' % accuracy)\n",
    "print('F1 score: %.2f' % f1)\n",
    "print('Precision: %.2f' % precision)\n",
    "print('Recall: %.2f' % recall)"
   ]
  },
  {
   "cell_type": "code",
   "execution_count": null,
   "id": "26f95d05",
   "metadata": {},
   "outputs": [],
   "source": []
  }
 ],
 "metadata": {
  "kernelspec": {
   "display_name": "Python 3 (ipykernel)",
   "language": "python",
   "name": "python3"
  },
  "language_info": {
   "codemirror_mode": {
    "name": "ipython",
    "version": 3
   },
   "file_extension": ".py",
   "mimetype": "text/x-python",
   "name": "python",
   "nbconvert_exporter": "python",
   "pygments_lexer": "ipython3",
   "version": "3.9.13"
  }
 },
 "nbformat": 4,
 "nbformat_minor": 5
}
