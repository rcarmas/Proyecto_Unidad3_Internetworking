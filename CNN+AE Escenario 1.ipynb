{
 "cells": [
  {
   "cell_type": "markdown",
   "id": "q0x4tS4ijgIB",
   "metadata": {
    "id": "q0x4tS4ijgIB"
   },
   "source": [
    "<center><h1>CNN + AE - Escenario experimental 1</header1></center>\n",
    "\n"
   ]
  },
  {
   "cell_type": "markdown",
   "id": "0JPP7jTtnZNh",
   "metadata": {
    "id": "0JPP7jTtnZNh"
   },
   "source": [
    "## Importación de librerias necesarias"
   ]
  },
  {
   "cell_type": "code",
   "execution_count": 1,
   "id": "f775281c",
   "metadata": {
    "id": "f775281c"
   },
   "outputs": [],
   "source": [
    "import pandas as pd\n",
    "import numpy as np\n",
    "from sklearn.model_selection import train_test_split"
   ]
  },
  {
   "cell_type": "markdown",
   "id": "cEcfl74GoXF2",
   "metadata": {
    "id": "cEcfl74GoXF2"
   },
   "source": [
    "## Cargar el Dataset"
   ]
  },
  {
   "cell_type": "code",
   "execution_count": 2,
   "id": "323f3dcf",
   "metadata": {
    "id": "323f3dcf"
   },
   "outputs": [],
   "source": [
    "datapath = 'https://raw.githubusercontent.com/hfcatucuamba/proyectoInternetworking/main/Escenario1.csv'\n",
    "dataframe = pd.read_csv(datapath,low_memory=False, sep=';')"
   ]
  },
  {
   "cell_type": "code",
   "execution_count": 3,
   "id": "db241651",
   "metadata": {
    "colab": {
     "base_uri": "https://localhost:8080/",
     "height": 334
    },
    "id": "db241651",
    "outputId": "54366820-4faf-4369-99b5-997ece862f73"
   },
   "outputs": [
    {
     "data": {
      "text/html": [
       "<div>\n",
       "<style scoped>\n",
       "    .dataframe tbody tr th:only-of-type {\n",
       "        vertical-align: middle;\n",
       "    }\n",
       "\n",
       "    .dataframe tbody tr th {\n",
       "        vertical-align: top;\n",
       "    }\n",
       "\n",
       "    .dataframe thead th {\n",
       "        text-align: right;\n",
       "    }\n",
       "</style>\n",
       "<table border=\"1\" class=\"dataframe\">\n",
       "  <thead>\n",
       "    <tr style=\"text-align: right;\">\n",
       "      <th></th>\n",
       "      <th>Source IP</th>\n",
       "      <th>Source Port</th>\n",
       "      <th>Destination IP</th>\n",
       "      <th>Destination Port</th>\n",
       "      <th>Protocol</th>\n",
       "      <th>Flow Duration</th>\n",
       "      <th>Flow Bytes/s</th>\n",
       "      <th>Flow Packets/s</th>\n",
       "      <th>Flow IAT Mean</th>\n",
       "      <th>Flow IAT Std</th>\n",
       "      <th>...</th>\n",
       "      <th>Bwd IAT Min</th>\n",
       "      <th>Active Mean</th>\n",
       "      <th>Active Std</th>\n",
       "      <th>Active Max</th>\n",
       "      <th>Active Min</th>\n",
       "      <th>Idle Mean</th>\n",
       "      <th>Idle Std</th>\n",
       "      <th>Idle Max</th>\n",
       "      <th>Idle Min</th>\n",
       "      <th>label</th>\n",
       "    </tr>\n",
       "  </thead>\n",
       "  <tbody>\n",
       "    <tr>\n",
       "      <th>0</th>\n",
       "      <td>10.0.2.15</td>\n",
       "      <td>53913</td>\n",
       "      <td>216.58.208.46</td>\n",
       "      <td>80</td>\n",
       "      <td>6</td>\n",
       "      <td>435</td>\n",
       "      <td>0</td>\n",
       "      <td>45.977.011.494.253</td>\n",
       "      <td>435</td>\n",
       "      <td>0</td>\n",
       "      <td>...</td>\n",
       "      <td>0</td>\n",
       "      <td>0</td>\n",
       "      <td>0</td>\n",
       "      <td>0</td>\n",
       "      <td>0</td>\n",
       "      <td>0</td>\n",
       "      <td>0</td>\n",
       "      <td>0</td>\n",
       "      <td>0</td>\n",
       "      <td>nonTOR</td>\n",
       "    </tr>\n",
       "    <tr>\n",
       "      <th>1</th>\n",
       "      <td>10.0.2.15</td>\n",
       "      <td>53913</td>\n",
       "      <td>216.58.208.46</td>\n",
       "      <td>80</td>\n",
       "      <td>6</td>\n",
       "      <td>259</td>\n",
       "      <td>0</td>\n",
       "      <td>77.220.077.220.077</td>\n",
       "      <td>259</td>\n",
       "      <td>0</td>\n",
       "      <td>...</td>\n",
       "      <td>0</td>\n",
       "      <td>0</td>\n",
       "      <td>0</td>\n",
       "      <td>0</td>\n",
       "      <td>0</td>\n",
       "      <td>0</td>\n",
       "      <td>0</td>\n",
       "      <td>0</td>\n",
       "      <td>0</td>\n",
       "      <td>nonTOR</td>\n",
       "    </tr>\n",
       "    <tr>\n",
       "      <th>2</th>\n",
       "      <td>10.0.2.15</td>\n",
       "      <td>53913</td>\n",
       "      <td>216.58.208.46</td>\n",
       "      <td>80</td>\n",
       "      <td>6</td>\n",
       "      <td>891</td>\n",
       "      <td>0</td>\n",
       "      <td>22.446.689.113.356</td>\n",
       "      <td>891</td>\n",
       "      <td>0</td>\n",
       "      <td>...</td>\n",
       "      <td>0</td>\n",
       "      <td>0</td>\n",
       "      <td>0</td>\n",
       "      <td>0</td>\n",
       "      <td>0</td>\n",
       "      <td>0</td>\n",
       "      <td>0</td>\n",
       "      <td>0</td>\n",
       "      <td>0</td>\n",
       "      <td>nonTOR</td>\n",
       "    </tr>\n",
       "    <tr>\n",
       "      <th>3</th>\n",
       "      <td>10.0.2.15</td>\n",
       "      <td>53913</td>\n",
       "      <td>216.58.208.46</td>\n",
       "      <td>80</td>\n",
       "      <td>6</td>\n",
       "      <td>1074</td>\n",
       "      <td>0</td>\n",
       "      <td>18.621.973.929.237</td>\n",
       "      <td>1074</td>\n",
       "      <td>0</td>\n",
       "      <td>...</td>\n",
       "      <td>0</td>\n",
       "      <td>0</td>\n",
       "      <td>0</td>\n",
       "      <td>0</td>\n",
       "      <td>0</td>\n",
       "      <td>0</td>\n",
       "      <td>0</td>\n",
       "      <td>0</td>\n",
       "      <td>0</td>\n",
       "      <td>nonTOR</td>\n",
       "    </tr>\n",
       "    <tr>\n",
       "      <th>4</th>\n",
       "      <td>10.0.2.15</td>\n",
       "      <td>53913</td>\n",
       "      <td>216.58.208.46</td>\n",
       "      <td>80</td>\n",
       "      <td>6</td>\n",
       "      <td>315</td>\n",
       "      <td>0</td>\n",
       "      <td>63.492.063.492.064</td>\n",
       "      <td>315</td>\n",
       "      <td>0</td>\n",
       "      <td>...</td>\n",
       "      <td>0</td>\n",
       "      <td>0</td>\n",
       "      <td>0</td>\n",
       "      <td>0</td>\n",
       "      <td>0</td>\n",
       "      <td>0</td>\n",
       "      <td>0</td>\n",
       "      <td>0</td>\n",
       "      <td>0</td>\n",
       "      <td>nonTOR</td>\n",
       "    </tr>\n",
       "  </tbody>\n",
       "</table>\n",
       "<p>5 rows × 29 columns</p>\n",
       "</div>"
      ],
      "text/plain": [
       "   Source IP   Source Port  Destination IP   Destination Port   Protocol  \\\n",
       "0  10.0.2.15         53913   216.58.208.46                 80          6   \n",
       "1  10.0.2.15         53913   216.58.208.46                 80          6   \n",
       "2  10.0.2.15         53913   216.58.208.46                 80          6   \n",
       "3  10.0.2.15         53913   216.58.208.46                 80          6   \n",
       "4  10.0.2.15         53913   216.58.208.46                 80          6   \n",
       "\n",
       "    Flow Duration  Flow Bytes/s      Flow Packets/s  Flow IAT Mean  \\\n",
       "0             435             0  45.977.011.494.253            435   \n",
       "1             259             0  77.220.077.220.077            259   \n",
       "2             891             0  22.446.689.113.356            891   \n",
       "3            1074             0  18.621.973.929.237           1074   \n",
       "4             315             0  63.492.063.492.064            315   \n",
       "\n",
       "   Flow IAT Std  ...   Bwd IAT Min  Active Mean  Active Std  Active Max  \\\n",
       "0             0  ...             0            0           0           0   \n",
       "1             0  ...             0            0           0           0   \n",
       "2             0  ...             0            0           0           0   \n",
       "3             0  ...             0            0           0           0   \n",
       "4             0  ...             0            0           0           0   \n",
       "\n",
       "    Active Min  Idle Mean  Idle Std  Idle Max   Idle Min   label  \n",
       "0            0          0         0         0          0  nonTOR  \n",
       "1            0          0         0         0          0  nonTOR  \n",
       "2            0          0         0         0          0  nonTOR  \n",
       "3            0          0         0         0          0  nonTOR  \n",
       "4            0          0         0         0          0  nonTOR  \n",
       "\n",
       "[5 rows x 29 columns]"
      ]
     },
     "execution_count": 3,
     "metadata": {},
     "output_type": "execute_result"
    }
   ],
   "source": [
    "#Visualización de los 5 primeros datos\n",
    "dataframe.head()"
   ]
  },
  {
   "cell_type": "markdown",
   "id": "B5OG-ukvqF9x",
   "metadata": {
    "id": "B5OG-ukvqF9x"
   },
   "source": [
    "# Normalización de los datos"
   ]
  },
  {
   "cell_type": "code",
   "execution_count": 4,
   "id": "a6b4f387",
   "metadata": {
    "id": "a6b4f387"
   },
   "outputs": [],
   "source": [
    "# Normalización de los datos\n",
    "def dfNormalize(df):\n",
    "    for feature_name in df.columns:\n",
    "        df.loc[:,feature_name]= pd.to_numeric(df.loc[:,feature_name], errors='coerce').fillna(0)\n",
    "        max_value = df[feature_name].max()\n",
    "        min_value = df[feature_name].min()   \n",
    "        if (max_value - min_value) > 0:\n",
    "            df.loc[:,feature_name] = (df.loc[:,feature_name] - min_value) / (max_value - min_value)\n",
    "        else:\n",
    "            df.loc[:,feature_name] = (df.loc[:,feature_name]- min_value)    \n",
    "    return df"
   ]
  },
  {
   "cell_type": "code",
   "execution_count": 5,
   "id": "b3e1d329",
   "metadata": {
    "colab": {
     "base_uri": "https://localhost:8080/"
    },
    "id": "b3e1d329",
    "outputId": "230e3900-acab-49ae-c7e1-7ed0bdf516a6"
   },
   "outputs": [
    {
     "name": "stdout",
     "output_type": "stream",
     "text": [
      "(7000, 29)\n",
      "        Source Port   Destination Port   Protocol   Flow Duration  \\\n",
      "count   7000.000000        7000.000000     7000.0    7.000000e+03   \n",
      "mean   42153.076571        7647.390714        6.0    4.002204e+06   \n",
      "std    17081.978193       17168.713987        0.0    4.450485e+06   \n",
      "min       80.000000          21.000000        6.0    1.700000e+01   \n",
      "25%    38894.000000         443.000000        6.0    2.013598e+05   \n",
      "50%    45337.000000         443.000000        6.0    4.409195e+05   \n",
      "75%    54698.000000         443.000000        6.0    9.829612e+06   \n",
      "max    61156.000000       65514.000000        6.0    1.000000e+07   \n",
      "\n",
      "        Flow IAT Max   Flow IAT Min   Fwd IAT Max   Fwd IAT Min   Bwd IAT Max  \\\n",
      "count   7.000000e+03   7.000000e+03  7.000000e+03  7.000000e+03  7.000000e+03   \n",
      "mean    1.148187e+06   1.023332e+05  1.079414e+06  1.035305e+05  8.884348e+05   \n",
      "std     2.113319e+06   4.321051e+05  2.135818e+06  6.952060e+05  1.933856e+06   \n",
      "min     1.700000e+01  -4.340000e+02  0.000000e+00  0.000000e+00  0.000000e+00   \n",
      "25%     8.040400e+04   1.800000e+01  0.000000e+00  0.000000e+00  0.000000e+00   \n",
      "50%     2.077015e+05   1.355000e+02  7.491650e+04  2.200000e+01  6.900000e+01   \n",
      "75%     9.100840e+05   1.314120e+05  8.657385e+05  1.850000e+02  4.285258e+05   \n",
      "max     9.996903e+06   9.904104e+06  9.997140e+06  9.997140e+06  9.996903e+06   \n",
      "\n",
      "        Bwd IAT Min   Active Mean   Active Std    Active Max    Active Min  \\\n",
      "count  7.000000e+03  7.000000e+03       7000.0  7.000000e+03  7.000000e+03   \n",
      "mean   7.738332e+04  5.055150e+04          0.0  5.055150e+04  5.055150e+04   \n",
      "std    6.163785e+05  3.285407e+05          0.0  3.285407e+05  3.285407e+05   \n",
      "min    0.000000e+00  0.000000e+00          0.0  0.000000e+00  0.000000e+00   \n",
      "25%    0.000000e+00  0.000000e+00          0.0  0.000000e+00  0.000000e+00   \n",
      "50%    3.000000e+00  0.000000e+00          0.0  0.000000e+00  0.000000e+00   \n",
      "75%    2.450000e+02  0.000000e+00          0.0  0.000000e+00  0.000000e+00   \n",
      "max    9.996903e+06  4.823748e+06          0.0  4.823748e+06  4.823748e+06   \n",
      "\n",
      "          Idle Mean   Idle Std      Idle Max      Idle Min  \n",
      "count  7.000000e+03     7000.0  7.000000e+03  7.000000e+03  \n",
      "mean   5.152838e+05        0.0  5.152838e+05  5.152838e+05  \n",
      "std    1.915464e+06        0.0  1.915464e+06  1.915464e+06  \n",
      "min    0.000000e+00        0.0  0.000000e+00  0.000000e+00  \n",
      "25%    0.000000e+00        0.0  0.000000e+00  0.000000e+00  \n",
      "50%    0.000000e+00        0.0  0.000000e+00  0.000000e+00  \n",
      "75%    0.000000e+00        0.0  0.000000e+00  0.000000e+00  \n",
      "max    9.996903e+06        0.0  9.996903e+06  9.996903e+06  \n",
      "['Source IP', ' Source Port', ' Destination IP', ' Destination Port', ' Protocol', ' Flow Duration', ' Flow Bytes/s', ' Flow Packets/s', ' Flow IAT Mean', ' Flow IAT Std', ' Flow IAT Max', ' Flow IAT Min', 'Fwd IAT Mean', ' Fwd IAT Std', ' Fwd IAT Max', ' Fwd IAT Min', 'Bwd IAT Mean', ' Bwd IAT Std', ' Bwd IAT Max', ' Bwd IAT Min', 'Active Mean', ' Active Std', ' Active Max', ' Active Min', 'Idle Mean', ' Idle Std', ' Idle Max', ' Idle Min', 'label']\n"
     ]
    }
   ],
   "source": [
    "#Muestra el tamaño del dataframe (número de filas y columnas)\n",
    "print (dataframe.shape)\n",
    "dataframe = dataframe.reindex(np.random.permutation(dataframe.index)).copy()\n",
    "print(dataframe.describe())\n",
    "print (list(dataframe))"
   ]
  },
  {
   "cell_type": "code",
   "execution_count": 6,
   "id": "b2bf9ae1",
   "metadata": {
    "colab": {
     "base_uri": "https://localhost:8080/"
    },
    "id": "b2bf9ae1",
    "outputId": "7d121c88-a1a1-4efc-edd5-d73ec876357b"
   },
   "outputs": [
    {
     "name": "stdout",
     "output_type": "stream",
     "text": [
      "        Protocol   Flow Duration   Flow Bytes/s   Flow Packets/s  \\\n",
      "count     7000.0     7000.000000    7000.000000      7000.000000   \n",
      "mean         0.0        0.400219       0.000143         0.000167   \n",
      "std          0.0        0.445049       0.011952         0.012051   \n",
      "min          0.0        0.000000       0.000000         0.000000   \n",
      "25%          0.0        0.020134       0.000000         0.000000   \n",
      "50%          0.0        0.044090       0.000000         0.000000   \n",
      "75%          0.0        0.982961       0.000000         0.000000   \n",
      "max          0.0        1.000000       1.000000         1.000000   \n",
      "\n",
      "        Flow IAT Mean   Flow IAT Std   Flow IAT Max   Flow IAT Min  \\\n",
      "count     7000.000000         7000.0    7000.000000    7000.000000   \n",
      "mean         0.017407            0.0       0.114853       0.010376   \n",
      "std          0.055836            0.0       0.211398       0.043627   \n",
      "min          0.000000            0.0       0.000000       0.000000   \n",
      "25%          0.000000            0.0       0.008041       0.000046   \n",
      "50%          0.002582            0.0       0.020775       0.000057   \n",
      "75%          0.020796            0.0       0.091035       0.013312   \n",
      "max          1.000000            0.0       1.000000       1.000000   \n",
      "\n",
      "       Fwd IAT Mean   Fwd IAT Std  ...   Bwd IAT Max   Bwd IAT Min  \\\n",
      "count   7000.000000        7000.0  ...   7000.000000  7.000000e+03   \n",
      "mean       0.023867           0.0  ...      0.088871  7.740730e-03   \n",
      "std        0.088368           0.0  ...      0.193445  6.165694e-02   \n",
      "min        0.000000           0.0  ...      0.000000  0.000000e+00   \n",
      "25%        0.000000           0.0  ...      0.000000  0.000000e+00   \n",
      "50%        0.000000           0.0  ...      0.000007  3.000929e-07   \n",
      "75%        0.000000           0.0  ...      0.042866  2.450759e-05   \n",
      "max        1.000000           0.0  ...      1.000000  1.000000e+00   \n",
      "\n",
      "       Active Mean   Active Std   Active Max   Active Min    Idle Mean  \\\n",
      "count  7000.000000       7000.0  7000.000000  7000.000000  7000.000000   \n",
      "mean      0.010480          0.0     0.010480     0.010480     0.051544   \n",
      "std       0.068109          0.0     0.068109     0.068109     0.191606   \n",
      "min       0.000000          0.0     0.000000     0.000000     0.000000   \n",
      "25%       0.000000          0.0     0.000000     0.000000     0.000000   \n",
      "50%       0.000000          0.0     0.000000     0.000000     0.000000   \n",
      "75%       0.000000          0.0     0.000000     0.000000     0.000000   \n",
      "max       1.000000          0.0     1.000000     1.000000     1.000000   \n",
      "\n",
      "        Idle Std     Idle Max     Idle Min  \n",
      "count     7000.0  7000.000000  7000.000000  \n",
      "mean         0.0     0.051544     0.051544  \n",
      "std          0.0     0.191606     0.191606  \n",
      "min          0.0     0.000000     0.000000  \n",
      "25%          0.0     0.000000     0.000000  \n",
      "50%          0.0     0.000000     0.000000  \n",
      "75%          0.0     0.000000     0.000000  \n",
      "max          0.0     1.000000     1.000000  \n",
      "\n",
      "[8 rows x 24 columns]\n"
     ]
    }
   ],
   "source": [
    "#Obtiene las claves del dataframe (los nombres de las columnas)\n",
    "keys = dataframe.keys()\n",
    "data_to_process = dataframe[keys[4:len(keys) - 1]].copy()\n",
    "x_normalised = dfNormalize(data_to_process)\n",
    "print(x_normalised.describe())"
   ]
  },
  {
   "cell_type": "code",
   "execution_count": 7,
   "id": "5b9dcda3",
   "metadata": {
    "id": "5b9dcda3"
   },
   "outputs": [],
   "source": [
    "#Cambiar las etiquetas de los datos de ‘nonTOR’ y ‘TOR’ a 1 y 0 respectivamente.\n",
    "change_labels = lambda x: 1 if x == 'nonTOR' else 0"
   ]
  },
  {
   "cell_type": "code",
   "execution_count": 8,
   "id": "2d7f682e",
   "metadata": {
    "id": "2d7f682e"
   },
   "outputs": [],
   "source": [
    "#crea una nueva variable llamada y_normalised que contiene los valores de la columna \n",
    "#‘label’ del dataframe original después de aplicar la función change_labels.\n",
    "y_normalised = dataframe['label'].apply(change_labels)"
   ]
  },
  {
   "cell_type": "code",
   "execution_count": 9,
   "id": "183c3f58",
   "metadata": {},
   "outputs": [],
   "source": [
    "# Dividir datos en conjuntos de entrenamiento y prueba\n",
    "X_train, X_test, y_train, y_test = train_test_split(x_normalised, y_normalised, test_size=0.3, random_state=42)"
   ]
  },
  {
   "cell_type": "markdown",
   "id": "aa7aed4f",
   "metadata": {},
   "source": [
    "# Creación del modelo"
   ]
  },
  {
   "cell_type": "code",
   "execution_count": 10,
   "id": "1960bdd7",
   "metadata": {},
   "outputs": [
    {
     "name": "stdout",
     "output_type": "stream",
     "text": [
      "Model: \"sequential\"\n",
      "_________________________________________________________________\n",
      " Layer (type)                Output Shape              Param #   \n",
      "=================================================================\n",
      " conv1d (Conv1D)             (None, 24, 64)            256       \n",
      "                                                                 \n",
      " max_pooling1d (MaxPooling1D  (None, 12, 64)           0         \n",
      " )                                                               \n",
      "                                                                 \n",
      " dropout (Dropout)           (None, 12, 64)            0         \n",
      "                                                                 \n",
      " conv1d_1 (Conv1D)           (None, 12, 32)            6176      \n",
      "                                                                 \n",
      " max_pooling1d_1 (MaxPooling  (None, 6, 32)            0         \n",
      " 1D)                                                             \n",
      "                                                                 \n",
      " dropout_1 (Dropout)         (None, 6, 32)             0         \n",
      "                                                                 \n",
      " conv1d_2 (Conv1D)           (None, 6, 16)             1552      \n",
      "                                                                 \n",
      " max_pooling1d_2 (MaxPooling  (None, 3, 16)            0         \n",
      " 1D)                                                             \n",
      "                                                                 \n",
      " dropout_2 (Dropout)         (None, 3, 16)             0         \n",
      "                                                                 \n",
      " flatten (Flatten)           (None, 48)                0         \n",
      "                                                                 \n",
      " dense (Dense)               (None, 1)                 49        \n",
      "                                                                 \n",
      "=================================================================\n",
      "Total params: 8,033\n",
      "Trainable params: 8,033\n",
      "Non-trainable params: 0\n",
      "_________________________________________________________________\n"
     ]
    }
   ],
   "source": [
    "from tensorflow.keras.models import Sequential\n",
    "from tensorflow.keras.layers import Conv1D, MaxPooling1D, Flatten, Dense, Dropout\n",
    "from keras.layers import Reshape, UpSampling1D\n",
    "from tensorflow.keras.constraints import MaxNorm\n",
    "from tensorflow.keras.callbacks import EarlyStopping\n",
    "\n",
    "# Encoder\n",
    "model = Sequential([\n",
    "    Conv1D(64, 3, input_shape=(X_train.shape[1], 1), padding=\"same\", activation=\"relu\", kernel_constraint=MaxNorm(3)),\n",
    "    MaxPooling1D(2),\n",
    "    Dropout(0.3),\n",
    "    Conv1D(32, 3, padding=\"same\", activation=\"relu\", kernel_constraint=MaxNorm(3)),\n",
    "    MaxPooling1D(2),\n",
    "    Dropout(0.3),\n",
    "    Conv1D(16, 3, padding=\"same\", activation=\"relu\", kernel_constraint=MaxNorm(3)),\n",
    "    MaxPooling1D(2),\n",
    "    Dropout(0.3),\n",
    "    Flatten(),\n",
    "    Dense(1, activation=\"sigmoid\"),\n",
    "])\n",
    "\n",
    "\n",
    "model.compile(optimizer=\"adam\",\n",
    "              loss=\"binary_crossentropy\", \n",
    "              metrics=[\"accuracy\"])\n",
    "\n",
    "model.summary()"
   ]
  },
  {
   "cell_type": "code",
   "execution_count": 11,
   "id": "333714ad",
   "metadata": {},
   "outputs": [],
   "source": [
    "batch_size = 32\n",
    "steps_per_epoch = (X_train.shape[0]//batch_size)\n",
    "validation_steps = (x_normalised.shape[0] // batch_size)\n",
    "\n",
    "es = EarlyStopping(monitor='accuracy', mode='min', verbose=1, patience=200)"
   ]
  },
  {
   "cell_type": "code",
   "execution_count": 12,
   "id": "780e5f84",
   "metadata": {
    "scrolled": true
   },
   "outputs": [
    {
     "name": "stdout",
     "output_type": "stream",
     "text": [
      "Epoch 1/35\n",
      "151/153 [============================>.] - ETA: 0s - loss: 0.4796 - accuracy: 0.8127WARNING:tensorflow:Your input ran out of data; interrupting training. Make sure that your dataset or generator can generate at least `steps_per_epoch * epochs` batches (in this case, 218 batches). You may need to use the repeat() function when building your dataset.\n",
      "153/153 [==============================] - 7s 33ms/step - loss: 0.4780 - accuracy: 0.8137 - val_loss: 0.2960 - val_accuracy: 0.9105\n",
      "Epoch 2/35\n",
      "153/153 [==============================] - 1s 8ms/step - loss: 0.2402 - accuracy: 0.9178\n",
      "Epoch 3/35\n",
      "153/153 [==============================] - 1s 9ms/step - loss: 0.1744 - accuracy: 0.9384\n",
      "Epoch 4/35\n",
      "153/153 [==============================] - 1s 9ms/step - loss: 0.1449 - accuracy: 0.9571\n",
      "Epoch 5/35\n",
      "153/153 [==============================] - 1s 9ms/step - loss: 0.1310 - accuracy: 0.9620\n",
      "Epoch 6/35\n",
      "153/153 [==============================] - 2s 11ms/step - loss: 0.0986 - accuracy: 0.9745\n",
      "Epoch 7/35\n",
      "153/153 [==============================] - 1s 9ms/step - loss: 0.0916 - accuracy: 0.9766\n",
      "Epoch 8/35\n",
      "153/153 [==============================] - 1s 8ms/step - loss: 0.0857 - accuracy: 0.9793\n",
      "Epoch 9/35\n",
      "153/153 [==============================] - 2s 11ms/step - loss: 0.0821 - accuracy: 0.9795\n",
      "Epoch 10/35\n",
      "153/153 [==============================] - 2s 11ms/step - loss: 0.0690 - accuracy: 0.9829\n",
      "Epoch 11/35\n",
      "153/153 [==============================] - 2s 11ms/step - loss: 0.0706 - accuracy: 0.9834\n",
      "Epoch 12/35\n",
      "153/153 [==============================] - 2s 11ms/step - loss: 0.0777 - accuracy: 0.9821\n",
      "Epoch 13/35\n",
      "153/153 [==============================] - 2s 11ms/step - loss: 0.0780 - accuracy: 0.9821\n",
      "Epoch 14/35\n",
      "153/153 [==============================] - 2s 11ms/step - loss: 0.0637 - accuracy: 0.9850\n",
      "Epoch 15/35\n",
      "153/153 [==============================] - 2s 11ms/step - loss: 0.0651 - accuracy: 0.9842\n",
      "Epoch 16/35\n",
      "153/153 [==============================] - 2s 11ms/step - loss: 0.0669 - accuracy: 0.9836\n",
      "Epoch 17/35\n",
      "153/153 [==============================] - 2s 10ms/step - loss: 0.0591 - accuracy: 0.9852\n",
      "Epoch 18/35\n",
      "153/153 [==============================] - 1s 9ms/step - loss: 0.0577 - accuracy: 0.9844\n",
      "Epoch 19/35\n",
      "153/153 [==============================] - 2s 10ms/step - loss: 0.0611 - accuracy: 0.9856\n",
      "Epoch 20/35\n",
      "153/153 [==============================] - 2s 11ms/step - loss: 0.0583 - accuracy: 0.9848\n",
      "Epoch 21/35\n",
      "153/153 [==============================] - 2s 11ms/step - loss: 0.0598 - accuracy: 0.9846\n",
      "Epoch 22/35\n",
      "153/153 [==============================] - 2s 12ms/step - loss: 0.0609 - accuracy: 0.9844\n",
      "Epoch 23/35\n",
      "153/153 [==============================] - 2s 14ms/step - loss: 0.0567 - accuracy: 0.9860\n",
      "Epoch 24/35\n",
      "153/153 [==============================] - 2s 14ms/step - loss: 0.0572 - accuracy: 0.9854\n",
      "Epoch 25/35\n",
      "153/153 [==============================] - 2s 11ms/step - loss: 0.0604 - accuracy: 0.9842\n",
      "Epoch 26/35\n",
      "153/153 [==============================] - 2s 10ms/step - loss: 0.0519 - accuracy: 0.9873\n",
      "Epoch 27/35\n",
      "153/153 [==============================] - 1s 9ms/step - loss: 0.0518 - accuracy: 0.9877\n",
      "Epoch 28/35\n",
      "153/153 [==============================] - 1s 9ms/step - loss: 0.0495 - accuracy: 0.9869\n",
      "Epoch 29/35\n",
      "153/153 [==============================] - 2s 12ms/step - loss: 0.0471 - accuracy: 0.9879\n",
      "Epoch 30/35\n",
      "153/153 [==============================] - 2s 13ms/step - loss: 0.0548 - accuracy: 0.9864\n",
      "Epoch 31/35\n",
      "153/153 [==============================] - 2s 11ms/step - loss: 0.0477 - accuracy: 0.9875\n",
      "Epoch 32/35\n",
      "153/153 [==============================] - 2s 11ms/step - loss: 0.0577 - accuracy: 0.9846\n",
      "Epoch 33/35\n",
      "153/153 [==============================] - 2s 11ms/step - loss: 0.0481 - accuracy: 0.9887\n",
      "Epoch 34/35\n",
      "153/153 [==============================] - 2s 13ms/step - loss: 0.0493 - accuracy: 0.9864\n",
      "Epoch 35/35\n",
      "153/153 [==============================] - 2s 12ms/step - loss: 0.0469 - accuracy: 0.9883\n",
      "Wall time: 1min 3s\n"
     ]
    },
    {
     "data": {
      "text/plain": [
       "<keras.callbacks.History at 0x24419ea4070>"
      ]
     },
     "execution_count": 12,
     "metadata": {},
     "output_type": "execute_result"
    }
   ],
   "source": [
    "%%time \n",
    "\n",
    "# Entrenar el modelo\n",
    "model.fit(X_train, y_train,\n",
    "    steps_per_epoch=steps_per_epoch,\n",
    "    epochs = 35,\n",
    "    validation_data=(X_test, y_test),\n",
    "    validation_steps=validation_steps,\n",
    "    batch_size = batch_size,\n",
    "    callbacks=[es],\n",
    "    verbose=1)"
   ]
  },
  {
   "cell_type": "code",
   "execution_count": 13,
   "id": "073a9070",
   "metadata": {},
   "outputs": [
    {
     "name": "stdout",
     "output_type": "stream",
     "text": [
      "66/66 [==============================] - 0s 5ms/step - loss: 0.0538 - accuracy: 0.9871\n",
      "test_loss: 5.38\n",
      "test_accuracy: 98.71\n"
     ]
    }
   ],
   "source": [
    "loss, accuracy = model.evaluate(X_test,y_test,batch_size=batch_size)\n",
    "print('test_loss: %.2f' % (loss * 100.0))  \n",
    "print('test_accuracy: %.2f' % (accuracy * 100.0))"
   ]
  },
  {
   "cell_type": "code",
   "execution_count": 14,
   "id": "22e714ca",
   "metadata": {},
   "outputs": [
    {
     "name": "stdout",
     "output_type": "stream",
     "text": [
      "66/66 [==============================] - 1s 4ms/step\n",
      "Accuracy: 98.71428571428571\n",
      "F1 score: 98.714410818065\n",
      "Precision: 98.72210242587602\n",
      "Recall: 98.71428571428571\n"
     ]
    }
   ],
   "source": [
    "from sklearn.metrics import classification_report\n",
    "\n",
    "# Hacer predicciones sobre los datos de prueba\n",
    "y_pred = model.predict(X_test)\n",
    "\n",
    "# Convertir las probabilidades en etiquetas binarias (0 o 1) usando un umbral de 0.5\n",
    "y_pred_binary = (y_pred > 0.5).astype(int)\n",
    "\n",
    "# calcular métricas de evaluación\n",
    "from sklearn.metrics import accuracy_score,f1_score, precision_score, recall_score\n",
    "acc = accuracy_score(y_test, y_pred_binary)*100\n",
    "f1 = f1_score(y_test, y_pred_binary, average='weighted')*100\n",
    "prec = precision_score(y_test, y_pred_binary, average='weighted')*100\n",
    "rec = recall_score(y_test, y_pred_binary, average='weighted')*100\n",
    "\n",
    "# imprimir las métricas\n",
    "print(\"Accuracy:\", acc)\n",
    "print(\"F1 score:\", f1)\n",
    "print(\"Precision:\", prec)\n",
    "print(\"Recall:\", rec)"
   ]
  },
  {
   "cell_type": "markdown",
   "id": "28b2453b",
   "metadata": {},
   "source": [
    "## Grafico Roc Curve"
   ]
  },
  {
   "cell_type": "code",
   "execution_count": 15,
   "id": "15ca973e",
   "metadata": {},
   "outputs": [
    {
     "name": "stdout",
     "output_type": "stream",
     "text": [
      "66/66 [==============================] - 0s 4ms/step\n"
     ]
    },
    {
     "data": {
      "text/plain": [
       "<matplotlib.legend.Legend at 0x2441dc6c0d0>"
      ]
     },
     "execution_count": 15,
     "metadata": {},
     "output_type": "execute_result"
    },
    {
     "data": {
      "image/png": "[encoded data removed]",
      "text/plain": [
       "<Figure size 640x480 with 1 Axes>"
      ]
     },
     "metadata": {},
     "output_type": "display_data"
    }
   ],
   "source": [
    "import matplotlib.pyplot as plt\n",
    "from sklearn import metrics\n",
    "y_pred = model.predict(X_test)\n",
    "y_pred = (y_pred > 0.5).astype(int)\n",
    "fpr, tpr, _ = metrics.roc_curve(y_test, y_pred)\n",
    "accuracy = metrics.accuracy_score(y_test, y_pred)\n",
    "CNN = \"Accuracy = {:.2f}\".format(accuracy*100)\n",
    "plt.plot(fpr, tpr, label=\"CNN + AE, AUC=\" + str(CNN))\n",
    "plt.legend()"
   ]
  }
 ],
 "metadata": {
  "colab": {
   "provenance": []
  },
  "kernelspec": {
   "display_name": "Python 3 (ipykernel)",
   "language": "python",
   "name": "python3"
  },
  "language_info": {
   "codemirror_mode": {
    "name": "ipython",
    "version": 3
   },
   "file_extension": ".py",
   "mimetype": "text/x-python",
   "name": "python",
   "nbconvert_exporter": "python",
   "pygments_lexer": "ipython3",
   "version": "3.9.13"
  }
 },
 "nbformat": 4,
 "nbformat_minor": 5
}
