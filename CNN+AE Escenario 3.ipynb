{
 "cells": [
  {
   "cell_type": "markdown",
   "id": "bdad0f55",
   "metadata": {},
   "source": [
    "<center><h1>CNN + AE - Escenario experimental 3</header1></center>"
   ]
  },
  {
   "cell_type": "code",
   "execution_count": 2,
   "id": "b4c0f7c5",
   "metadata": {},
   "outputs": [],
   "source": [
    "import pandas as pd\n",
    "import numpy as np\n",
    "from sklearn.model_selection import train_test_split\n",
    "from keras.layers import Input, Dense, Conv1D, MaxPooling1D, UpSampling1D\n",
    "from keras.models import Model, Sequential\n",
    "from keras.optimizers import Adam\n",
    "from sklearn.preprocessing import LabelEncoder\n",
    "from sklearn.preprocessing import MinMaxScaler"
   ]
  },
  {
   "cell_type": "code",
   "execution_count": 3,
   "id": "686167f9",
   "metadata": {},
   "outputs": [],
   "source": [
    "datapath = 'https://raw.githubusercontent.com/hfcatucuamba/proyectoInternetworking/main/Escenario3.csv'\n",
    "names = ['srcip', 'sport', 'dstip', 'dsport', 'proto', 'state', 'dur', 'sbytes', 'dbytes', 'sttl', 'dttl', 'sloss', 'dloss', 'service', 'Sload', 'Dload', 'Spkts', 'Dpkts', 'swin', 'dwin', 'stcpb', 'dtcpb', 'smeansz', 'dmeansz', 'trans_depth', 'res_bdy_len', 'Sjit', 'Djit', 'Stime', 'Ltime', 'Sintpkt', 'Dintpkt', 'tcprtt', 'synack', 'ackdat', 'is_sm_ips_ports', 'ct_state_ttl', 'ct_flw_http_mthd', 'is_ftp_login', 'ct_ftp_cmd', 'ct_srv_src', 'ct_srv_dst', 'ct_dst_ltm', 'ct_src_ltm', 'ct_src_dport_ltm', 'ct_dst_sport_ltm', 'ct_dst_src_ltm', 'attack_cat', 'label']\n",
    "dataframe = pd.read_csv(datapath,names=names,low_memory=False, sep=';')"
   ]
  },
  {
   "cell_type": "code",
   "execution_count": 4,
   "id": "b02d5d2b",
   "metadata": {},
   "outputs": [
    {
     "data": {
      "text/html": [
       "<div>\n",
       "<style scoped>\n",
       "    .dataframe tbody tr th:only-of-type {\n",
       "        vertical-align: middle;\n",
       "    }\n",
       "\n",
       "    .dataframe tbody tr th {\n",
       "        vertical-align: top;\n",
       "    }\n",
       "\n",
       "    .dataframe thead th {\n",
       "        text-align: right;\n",
       "    }\n",
       "</style>\n",
       "<table border=\"1\" class=\"dataframe\">\n",
       "  <thead>\n",
       "    <tr style=\"text-align: right;\">\n",
       "      <th></th>\n",
       "      <th>srcip</th>\n",
       "      <th>sport</th>\n",
       "      <th>dstip</th>\n",
       "      <th>dsport</th>\n",
       "      <th>proto</th>\n",
       "      <th>state</th>\n",
       "      <th>dur</th>\n",
       "      <th>sbytes</th>\n",
       "      <th>dbytes</th>\n",
       "      <th>sttl</th>\n",
       "      <th>...</th>\n",
       "      <th>ct_ftp_cmd</th>\n",
       "      <th>ct_srv_src</th>\n",
       "      <th>ct_srv_dst</th>\n",
       "      <th>ct_dst_ltm</th>\n",
       "      <th>ct_src_ltm</th>\n",
       "      <th>ct_src_dport_ltm</th>\n",
       "      <th>ct_dst_sport_ltm</th>\n",
       "      <th>ct_dst_src_ltm</th>\n",
       "      <th>attack_cat</th>\n",
       "      <th>label</th>\n",
       "    </tr>\n",
       "  </thead>\n",
       "  <tbody>\n",
       "    <tr>\n",
       "      <th>0</th>\n",
       "      <td>59.166.0.9</td>\n",
       "      <td>7045</td>\n",
       "      <td>149.171.126.7</td>\n",
       "      <td>25</td>\n",
       "      <td>tcp</td>\n",
       "      <td>FIN</td>\n",
       "      <td>0.201886</td>\n",
       "      <td>37552</td>\n",
       "      <td>3380</td>\n",
       "      <td>31</td>\n",
       "      <td>...</td>\n",
       "      <td></td>\n",
       "      <td>2</td>\n",
       "      <td>2</td>\n",
       "      <td>7</td>\n",
       "      <td>4</td>\n",
       "      <td>1</td>\n",
       "      <td>1</td>\n",
       "      <td>3</td>\n",
       "      <td>NaN</td>\n",
       "      <td>0</td>\n",
       "    </tr>\n",
       "    <tr>\n",
       "      <th>1</th>\n",
       "      <td>59.166.0.9</td>\n",
       "      <td>9685</td>\n",
       "      <td>149.171.126.2</td>\n",
       "      <td>80</td>\n",
       "      <td>tcp</td>\n",
       "      <td>FIN</td>\n",
       "      <td>5.864.748</td>\n",
       "      <td>19410</td>\n",
       "      <td>1087890</td>\n",
       "      <td>31</td>\n",
       "      <td>...</td>\n",
       "      <td></td>\n",
       "      <td>3</td>\n",
       "      <td>1</td>\n",
       "      <td>4</td>\n",
       "      <td>4</td>\n",
       "      <td>1</td>\n",
       "      <td>1</td>\n",
       "      <td>1</td>\n",
       "      <td>NaN</td>\n",
       "      <td>0</td>\n",
       "    </tr>\n",
       "    <tr>\n",
       "      <th>2</th>\n",
       "      <td>59.166.0.2</td>\n",
       "      <td>1421</td>\n",
       "      <td>149.171.126.4</td>\n",
       "      <td>53</td>\n",
       "      <td>udp</td>\n",
       "      <td>CON</td>\n",
       "      <td>0.001391</td>\n",
       "      <td>146</td>\n",
       "      <td>178</td>\n",
       "      <td>31</td>\n",
       "      <td>...</td>\n",
       "      <td></td>\n",
       "      <td>3</td>\n",
       "      <td>5</td>\n",
       "      <td>2</td>\n",
       "      <td>7</td>\n",
       "      <td>1</td>\n",
       "      <td>1</td>\n",
       "      <td>4</td>\n",
       "      <td>NaN</td>\n",
       "      <td>0</td>\n",
       "    </tr>\n",
       "    <tr>\n",
       "      <th>3</th>\n",
       "      <td>59.166.0.2</td>\n",
       "      <td>21553</td>\n",
       "      <td>149.171.126.2</td>\n",
       "      <td>25</td>\n",
       "      <td>tcp</td>\n",
       "      <td>FIN</td>\n",
       "      <td>0.053948</td>\n",
       "      <td>37812</td>\n",
       "      <td>3380</td>\n",
       "      <td>31</td>\n",
       "      <td>...</td>\n",
       "      <td></td>\n",
       "      <td>1</td>\n",
       "      <td>1</td>\n",
       "      <td>4</td>\n",
       "      <td>7</td>\n",
       "      <td>1</td>\n",
       "      <td>1</td>\n",
       "      <td>3</td>\n",
       "      <td>NaN</td>\n",
       "      <td>0</td>\n",
       "    </tr>\n",
       "    <tr>\n",
       "      <th>4</th>\n",
       "      <td>59.166.0.8</td>\n",
       "      <td>45212</td>\n",
       "      <td>149.171.126.4</td>\n",
       "      <td>53</td>\n",
       "      <td>udp</td>\n",
       "      <td>CON</td>\n",
       "      <td>0.000953</td>\n",
       "      <td>146</td>\n",
       "      <td>178</td>\n",
       "      <td>31</td>\n",
       "      <td>...</td>\n",
       "      <td></td>\n",
       "      <td>2</td>\n",
       "      <td>5</td>\n",
       "      <td>2</td>\n",
       "      <td>1</td>\n",
       "      <td>1</td>\n",
       "      <td>1</td>\n",
       "      <td>2</td>\n",
       "      <td>NaN</td>\n",
       "      <td>0</td>\n",
       "    </tr>\n",
       "  </tbody>\n",
       "</table>\n",
       "<p>5 rows × 49 columns</p>\n",
       "</div>"
      ],
      "text/plain": [
       "        srcip  sport          dstip dsport proto state        dur  sbytes  \\\n",
       "0  59.166.0.9   7045  149.171.126.7     25   tcp   FIN   0.201886   37552   \n",
       "1  59.166.0.9   9685  149.171.126.2     80   tcp   FIN  5.864.748   19410   \n",
       "2  59.166.0.2   1421  149.171.126.4     53   udp   CON   0.001391     146   \n",
       "3  59.166.0.2  21553  149.171.126.2     25   tcp   FIN   0.053948   37812   \n",
       "4  59.166.0.8  45212  149.171.126.4     53   udp   CON   0.000953     146   \n",
       "\n",
       "    dbytes  sttl  ...  ct_ftp_cmd  ct_srv_src  ct_srv_dst ct_dst_ltm  \\\n",
       "0     3380    31  ...                       2           2          7   \n",
       "1  1087890    31  ...                       3           1          4   \n",
       "2      178    31  ...                       3           5          2   \n",
       "3     3380    31  ...                       1           1          4   \n",
       "4      178    31  ...                       2           5          2   \n",
       "\n",
       "  ct_src_ltm ct_src_dport_ltm  ct_dst_sport_ltm  ct_dst_src_ltm  attack_cat  \\\n",
       "0          4                1                 1               3         NaN   \n",
       "1          4                1                 1               1         NaN   \n",
       "2          7                1                 1               4         NaN   \n",
       "3          7                1                 1               3         NaN   \n",
       "4          1                1                 1               2         NaN   \n",
       "\n",
       "   label  \n",
       "0      0  \n",
       "1      0  \n",
       "2      0  \n",
       "3      0  \n",
       "4      0  \n",
       "\n",
       "[5 rows x 49 columns]"
      ]
     },
     "execution_count": 4,
     "metadata": {},
     "output_type": "execute_result"
    }
   ],
   "source": [
    "dataframe.head()"
   ]
  },
  {
   "cell_type": "code",
   "execution_count": 5,
   "id": "5b76d216",
   "metadata": {},
   "outputs": [],
   "source": [
    "columna_a_codificar = dataframe['srcip']\n",
    "le = LabelEncoder()\n",
    "columna_codificada = le.fit_transform(columna_a_codificar)\n",
    "dataframe['srcip'] = columna_codificada"
   ]
  },
  {
   "cell_type": "code",
   "execution_count": 6,
   "id": "52db685c",
   "metadata": {},
   "outputs": [],
   "source": [
    "columna_a_codificar = dataframe['dstip']\n",
    "le = LabelEncoder()\n",
    "columna_codificada = le.fit_transform(columna_a_codificar)\n",
    "dataframe['dstip'] = columna_codificada"
   ]
  },
  {
   "cell_type": "code",
   "execution_count": 7,
   "id": "7ab87147",
   "metadata": {},
   "outputs": [],
   "source": [
    "columna_a_codificar = dataframe['dsport']\n",
    "le = LabelEncoder()\n",
    "columna_codificada = le.fit_transform(columna_a_codificar)\n",
    "dataframe['dsport'] = columna_codificada"
   ]
  },
  {
   "cell_type": "code",
   "execution_count": 8,
   "id": "358a8535",
   "metadata": {},
   "outputs": [],
   "source": [
    "columna_a_codificar = dataframe['proto']\n",
    "le = LabelEncoder()\n",
    "columna_codificada = le.fit_transform(columna_a_codificar)\n",
    "dataframe['proto'] = columna_codificada"
   ]
  },
  {
   "cell_type": "code",
   "execution_count": 9,
   "id": "190df222",
   "metadata": {},
   "outputs": [],
   "source": [
    "columna_a_codificar = dataframe['state']\n",
    "le = LabelEncoder()\n",
    "columna_codificada = le.fit_transform(columna_a_codificar)\n",
    "dataframe['state'] = columna_codificada"
   ]
  },
  {
   "cell_type": "code",
   "execution_count": 10,
   "id": "dd9ea13a",
   "metadata": {},
   "outputs": [],
   "source": [
    "columna_a_codificar = dataframe['dur']\n",
    "le = LabelEncoder()\n",
    "columna_codificada = le.fit_transform(columna_a_codificar)\n",
    "dataframe['dur'] = columna_codificada"
   ]
  },
  {
   "cell_type": "code",
   "execution_count": 11,
   "id": "377a964f",
   "metadata": {},
   "outputs": [],
   "source": [
    "columna_a_codificar = dataframe['service']\n",
    "le = LabelEncoder()\n",
    "columna_codificada = le.fit_transform(columna_a_codificar)\n",
    "dataframe['service'] = columna_codificada"
   ]
  },
  {
   "cell_type": "code",
   "execution_count": 12,
   "id": "85ae6638",
   "metadata": {},
   "outputs": [],
   "source": [
    "columna_a_codificar = dataframe['Sload']\n",
    "le = LabelEncoder()\n",
    "columna_codificada = le.fit_transform(columna_a_codificar)\n",
    "dataframe['Sload'] = columna_codificada"
   ]
  },
  {
   "cell_type": "code",
   "execution_count": 13,
   "id": "8b7c4a97",
   "metadata": {},
   "outputs": [],
   "source": [
    "columna_a_codificar = dataframe['Dload']\n",
    "le = LabelEncoder()\n",
    "columna_codificada = le.fit_transform(columna_a_codificar)\n",
    "dataframe['Dload'] = columna_codificada"
   ]
  },
  {
   "cell_type": "code",
   "execution_count": 14,
   "id": "2133a363",
   "metadata": {},
   "outputs": [],
   "source": [
    "columna_a_codificar = dataframe['Sjit']\n",
    "le = LabelEncoder()\n",
    "columna_codificada = le.fit_transform(columna_a_codificar)\n",
    "dataframe['Sjit'] = columna_codificada"
   ]
  },
  {
   "cell_type": "code",
   "execution_count": 15,
   "id": "d2a8eb89",
   "metadata": {},
   "outputs": [],
   "source": [
    "columna_a_codificar = dataframe['Djit']\n",
    "le = LabelEncoder()\n",
    "columna_codificada = le.fit_transform(columna_a_codificar)\n",
    "dataframe['Djit'] = columna_codificada"
   ]
  },
  {
   "cell_type": "code",
   "execution_count": 16,
   "id": "ed762d5c",
   "metadata": {},
   "outputs": [],
   "source": [
    "columna_a_codificar = dataframe['Sintpkt']\n",
    "le = LabelEncoder()\n",
    "columna_codificada = le.fit_transform(columna_a_codificar)\n",
    "dataframe['Sintpkt'] = columna_codificada"
   ]
  },
  {
   "cell_type": "code",
   "execution_count": 17,
   "id": "4718c5ad",
   "metadata": {},
   "outputs": [],
   "source": [
    "columna_a_codificar = dataframe['Dintpkt']\n",
    "le = LabelEncoder()\n",
    "columna_codificada = le.fit_transform(columna_a_codificar)\n",
    "dataframe['Dintpkt'] = columna_codificada"
   ]
  },
  {
   "cell_type": "code",
   "execution_count": 18,
   "id": "275d5f78",
   "metadata": {},
   "outputs": [],
   "source": [
    "columna_a_codificar = dataframe['ct_ftp_cmd']\n",
    "le = LabelEncoder()\n",
    "columna_codificada = le.fit_transform(columna_a_codificar)\n",
    "dataframe['ct_ftp_cmd'] = columna_codificada"
   ]
  },
  {
   "cell_type": "code",
   "execution_count": 19,
   "id": "e609dea8",
   "metadata": {},
   "outputs": [],
   "source": [
    "columna_a_codificar = dataframe['attack_cat']\n",
    "le = LabelEncoder()\n",
    "columna_codificada = le.fit_transform(columna_a_codificar)\n",
    "dataframe['attack_cat'] = columna_codificada"
   ]
  },
  {
   "cell_type": "code",
   "execution_count": 20,
   "id": "e186f73e",
   "metadata": {},
   "outputs": [],
   "source": [
    "# Separar las características del conjunto de datos en una matriz separada\n",
    "X = dataframe.iloc[:, :-1].values"
   ]
  },
  {
   "cell_type": "code",
   "execution_count": 21,
   "id": "08ab75c4",
   "metadata": {},
   "outputs": [],
   "source": [
    "# Escalar características\n",
    "scaler = MinMaxScaler()\n",
    "X = scaler.fit_transform(X)"
   ]
  },
  {
   "cell_type": "code",
   "execution_count": 22,
   "id": "6e143616",
   "metadata": {},
   "outputs": [],
   "source": [
    "y = dataframe['label']"
   ]
  },
  {
   "cell_type": "code",
   "execution_count": 23,
   "id": "6b7c0290",
   "metadata": {},
   "outputs": [],
   "source": [
    "# Dividir datos en conjuntos de entrenamiento y prueba\n",
    "X_train, X_test, y_train, y_test = train_test_split(X, y, test_size=0.3, random_state=42)"
   ]
  },
  {
   "cell_type": "code",
   "execution_count": 24,
   "id": "7a686027",
   "metadata": {},
   "outputs": [
    {
     "name": "stdout",
     "output_type": "stream",
     "text": [
      "Model: \"sequential\"\n",
      "_________________________________________________________________\n",
      " Layer (type)                Output Shape              Param #   \n",
      "=================================================================\n",
      " conv1d (Conv1D)             (None, 48, 64)            256       \n",
      "                                                                 \n",
      " max_pooling1d (MaxPooling1D  (None, 24, 64)           0         \n",
      " )                                                               \n",
      "                                                                 \n",
      " dropout (Dropout)           (None, 24, 64)            0         \n",
      "                                                                 \n",
      " conv1d_1 (Conv1D)           (None, 24, 32)            6176      \n",
      "                                                                 \n",
      " max_pooling1d_1 (MaxPooling  (None, 12, 32)           0         \n",
      " 1D)                                                             \n",
      "                                                                 \n",
      " dropout_1 (Dropout)         (None, 12, 32)            0         \n",
      "                                                                 \n",
      " conv1d_2 (Conv1D)           (None, 12, 16)            1552      \n",
      "                                                                 \n",
      " max_pooling1d_2 (MaxPooling  (None, 6, 16)            0         \n",
      " 1D)                                                             \n",
      "                                                                 \n",
      " dropout_2 (Dropout)         (None, 6, 16)             0         \n",
      "                                                                 \n",
      " flatten (Flatten)           (None, 96)                0         \n",
      "                                                                 \n",
      " dense (Dense)               (None, 1)                 97        \n",
      "                                                                 \n",
      "=================================================================\n",
      "Total params: 8,081\n",
      "Trainable params: 8,081\n",
      "Non-trainable params: 0\n",
      "_________________________________________________________________\n"
     ]
    }
   ],
   "source": [
    "from tensorflow.keras.models import Sequential\n",
    "from tensorflow.keras.layers import Conv1D, MaxPooling1D, Flatten, Dense, Dropout\n",
    "from keras.layers import Reshape, UpSampling1D\n",
    "from tensorflow.keras.constraints import MaxNorm\n",
    "from tensorflow.keras.callbacks import EarlyStopping\n",
    "\n",
    "# Encoder\n",
    "model = Sequential([\n",
    "    Conv1D(64, 3, input_shape=(X_train.shape[1], 1), padding=\"same\", activation=\"relu\", kernel_constraint=MaxNorm(3)),\n",
    "    MaxPooling1D(2),\n",
    "    Dropout(0.3),\n",
    "    Conv1D(32, 3, padding=\"same\", activation=\"relu\", kernel_constraint=MaxNorm(3)),\n",
    "    MaxPooling1D(2),\n",
    "    Dropout(0.3),\n",
    "    Conv1D(16, 3, padding=\"same\", activation=\"relu\", kernel_constraint=MaxNorm(3)),\n",
    "    MaxPooling1D(2),\n",
    "    Dropout(0.3),\n",
    "    Flatten(),\n",
    "    Dense(1, activation=\"sigmoid\"),\n",
    "])\n",
    "\n",
    "model.compile(optimizer=\"adam\",\n",
    "              loss=\"binary_crossentropy\", \n",
    "              metrics=[\"accuracy\"])\n",
    "\n",
    "model.summary()"
   ]
  },
  {
   "cell_type": "code",
   "execution_count": 25,
   "id": "1556efcf",
   "metadata": {},
   "outputs": [],
   "source": [
    "batch_size = 32\n",
    "steps_per_epoch = (X_train.shape[0]//batch_size)\n",
    "validation_steps = (X.shape[0] // batch_size)\n",
    "\n",
    "es = EarlyStopping(monitor='accuracy', mode='min', verbose=1, patience=200)"
   ]
  },
  {
   "cell_type": "code",
   "execution_count": 26,
   "id": "563adafe",
   "metadata": {},
   "outputs": [
    {
     "name": "stdout",
     "output_type": "stream",
     "text": [
      "Epoch 1/35\n",
      "61/65 [===========================>..] - ETA: 0s - loss: nan - accuracy: 0.4949WARNING:tensorflow:Your input ran out of data; interrupting training. Make sure that your dataset or generator can generate at least `steps_per_epoch * epochs` batches (in this case, 93 batches). You may need to use the repeat() function when building your dataset.\n",
      "65/65 [==============================] - 4s 43ms/step - loss: nan - accuracy: 0.4918 - val_loss: nan - val_accuracy: 0.5211\n",
      "Epoch 2/35\n",
      "65/65 [==============================] - 1s 12ms/step - loss: nan - accuracy: 0.4894\n",
      "Epoch 3/35\n",
      "65/65 [==============================] - 1s 11ms/step - loss: nan - accuracy: 0.4966\n",
      "Epoch 4/35\n",
      "65/65 [==============================] - 1s 13ms/step - loss: nan - accuracy: 0.4869\n",
      "Epoch 5/35\n",
      "65/65 [==============================] - 1s 14ms/step - loss: nan - accuracy: 0.4869\n",
      "Epoch 6/35\n",
      "65/65 [==============================] - 1s 12ms/step - loss: nan - accuracy: 0.4932\n",
      "Epoch 7/35\n",
      "65/65 [==============================] - 1s 13ms/step - loss: nan - accuracy: 0.4927\n",
      "Epoch 8/35\n",
      "65/65 [==============================] - 1s 21ms/step - loss: nan - accuracy: 0.4908\n",
      "Epoch 9/35\n",
      "65/65 [==============================] - 1s 15ms/step - loss: nan - accuracy: 0.4860\n",
      "Epoch 10/35\n",
      "65/65 [==============================] - 1s 15ms/step - loss: nan - accuracy: 0.4903\n",
      "Epoch 11/35\n",
      "65/65 [==============================] - 1s 13ms/step - loss: nan - accuracy: 0.4947\n",
      "Epoch 12/35\n",
      "65/65 [==============================] - 1s 11ms/step - loss: nan - accuracy: 0.4889\n",
      "Epoch 13/35\n",
      "65/65 [==============================] - 1s 10ms/step - loss: nan - accuracy: 0.4884\n",
      "Epoch 14/35\n",
      "65/65 [==============================] - 1s 10ms/step - loss: nan - accuracy: 0.5034\n",
      "Epoch 15/35\n",
      "65/65 [==============================] - 1s 11ms/step - loss: nan - accuracy: 0.4782\n",
      "Epoch 16/35\n",
      "65/65 [==============================] - 1s 11ms/step - loss: nan - accuracy: 0.4937\n",
      "Epoch 17/35\n",
      "65/65 [==============================] - 1s 11ms/step - loss: nan - accuracy: 0.4952\n",
      "Epoch 18/35\n",
      "65/65 [==============================] - 1s 11ms/step - loss: nan - accuracy: 0.4903\n",
      "Epoch 19/35\n",
      "65/65 [==============================] - 1s 11ms/step - loss: nan - accuracy: 0.4966\n",
      "Epoch 20/35\n",
      "65/65 [==============================] - 1s 12ms/step - loss: nan - accuracy: 0.4879\n",
      "Epoch 21/35\n",
      "65/65 [==============================] - 1s 13ms/step - loss: nan - accuracy: 0.4845\n",
      "Epoch 22/35\n",
      "65/65 [==============================] - 1s 16ms/step - loss: nan - accuracy: 0.4884\n",
      "Epoch 23/35\n",
      "65/65 [==============================] - 1s 14ms/step - loss: nan - accuracy: 0.4976\n",
      "Epoch 24/35\n",
      "65/65 [==============================] - 1s 14ms/step - loss: nan - accuracy: 0.4918\n",
      "Epoch 25/35\n",
      "65/65 [==============================] - 1s 15ms/step - loss: nan - accuracy: 0.4923\n",
      "Epoch 26/35\n",
      "65/65 [==============================] - 1s 13ms/step - loss: nan - accuracy: 0.4821\n",
      "Epoch 27/35\n",
      "65/65 [==============================] - 1s 13ms/step - loss: nan - accuracy: 0.5048\n",
      "Epoch 28/35\n",
      "65/65 [==============================] - 1s 19ms/step - loss: nan - accuracy: 0.4898\n",
      "Epoch 29/35\n",
      "65/65 [==============================] - 1s 17ms/step - loss: nan - accuracy: 0.4811\n",
      "Epoch 30/35\n",
      "65/65 [==============================] - 1s 13ms/step - loss: nan - accuracy: 0.4981\n",
      "Epoch 31/35\n",
      "65/65 [==============================] - 1s 16ms/step - loss: nan - accuracy: 0.4802\n",
      "Epoch 32/35\n",
      "65/65 [==============================] - 1s 12ms/step - loss: nan - accuracy: 0.4889\n",
      "Epoch 33/35\n",
      "65/65 [==============================] - 1s 11ms/step - loss: nan - accuracy: 0.4952\n",
      "Epoch 34/35\n",
      "65/65 [==============================] - 1s 11ms/step - loss: nan - accuracy: 0.4966\n",
      "Epoch 35/35\n",
      "65/65 [==============================] - 1s 11ms/step - loss: nan - accuracy: 0.4884\n",
      "Wall time: 33.3 s\n"
     ]
    },
    {
     "data": {
      "text/plain": [
       "<keras.callbacks.History at 0x229cbd754f0>"
      ]
     },
     "execution_count": 26,
     "metadata": {},
     "output_type": "execute_result"
    }
   ],
   "source": [
    "%%time\n",
    "\n",
    "# Entrenar el modelo\n",
    "model.fit(X_train, y_train,\n",
    "    steps_per_epoch=steps_per_epoch,\n",
    "    epochs = 35,\n",
    "    validation_data=(X_test, y_test),\n",
    "    validation_steps=validation_steps,\n",
    "    batch_size = batch_size,\n",
    "    callbacks=[es],\n",
    "    verbose=1)"
   ]
  },
  {
   "cell_type": "code",
   "execution_count": 27,
   "id": "a537e9c0",
   "metadata": {},
   "outputs": [
    {
     "name": "stdout",
     "output_type": "stream",
     "text": [
      "29/29 [==============================] - 0s 7ms/step - loss: nan - accuracy: 0.5211\n",
      "test_loss: nan\n",
      "test_accuracy: 52.11\n"
     ]
    }
   ],
   "source": [
    "# Evaluar rendimiento del modelo en datos de prueba\n",
    "loss, accuracy = model.evaluate(X_test,y_test,batch_size=batch_size)\n",
    "print('test_loss: %.2f' % (loss * 100.0))  \n",
    "print('test_accuracy: %.2f' % (accuracy * 100.0))"
   ]
  },
  {
   "cell_type": "code",
   "execution_count": 28,
   "id": "3761923b",
   "metadata": {},
   "outputs": [
    {
     "name": "stdout",
     "output_type": "stream",
     "text": [
      "Accuracy: 52.11\n",
      "F1 score: 35.71\n",
      "Precision: 27.16\n",
      "Recall: 52.11\n",
      "Recall: 52.11\n"
     ]
    },
    {
     "name": "stderr",
     "output_type": "stream",
     "text": [
      "C:\\Users\\Holger\\anaconda3\\lib\\site-packages\\sklearn\\metrics\\_classification.py:1344: UndefinedMetricWarning: Precision is ill-defined and being set to 0.0 in labels with no predicted samples. Use `zero_division` parameter to control this behavior.\n",
      "  _warn_prf(average, modifier, msg_start, len(result))\n"
     ]
    }
   ],
   "source": [
    "from sklearn.metrics import accuracy_score, precision_score, recall_score, f1_score\n",
    "\n",
    "# predecir probabilidades de modelo para datos de prueba\n",
    "model_probs = model.predict(X_test, verbose=0)\n",
    "# predecir clases para datos de prueba\n",
    "model_classes = np.argmax(model_probs,axis=1)\n",
    "# reducir a un array de 1 dimensión\n",
    "model_probs = model_probs[:, 0]\n",
    "\n",
    "# accuracy: (tp + tn) / (p + n)\n",
    "accuracy = accuracy_score(y_test, model_classes)*100\n",
    "# precision tp / (tp + fp)\n",
    "precision = precision_score(y_test, model_classes, average='weighted')*100\n",
    "# recall: tp / (tp + fn)\n",
    "recall = recall_score(y_test, model_classes, average='weighted')*100\n",
    "# f1: 2 tp / (2 tp + fp + fn)\n",
    "f1 = f1_score(y_test, model_classes, average='weighted')*100\n",
    "\n",
    "print('Accuracy: %.2f' % accuracy)\n",
    "print('F1 score: %.2f' % f1)\n",
    "print('Precision: %.2f' % precision)\n",
    "print('Recall: %.2f' % recall)\n",
    "print('Recall: %.2f' % recall)"
   ]
  },
  {
   "cell_type": "markdown",
   "id": "9088a4a2",
   "metadata": {},
   "source": [
    "## Grafico Roc Curve"
   ]
  },
  {
   "cell_type": "code",
   "execution_count": 29,
   "id": "b107cc6f",
   "metadata": {},
   "outputs": [
    {
     "name": "stdout",
     "output_type": "stream",
     "text": [
      "29/29 [==============================] - 0s 5ms/step\n"
     ]
    },
    {
     "data": {
      "text/plain": [
       "<matplotlib.legend.Legend at 0x229cbca6e80>"
      ]
     },
     "execution_count": 29,
     "metadata": {},
     "output_type": "execute_result"
    },
    {
     "data": {
      "image/png": "[encoded data removed]",
      "text/plain": [
       "<Figure size 640x480 with 1 Axes>"
      ]
     },
     "metadata": {},
     "output_type": "display_data"
    }
   ],
   "source": [
    "import matplotlib.pyplot as plt\n",
    "from sklearn import metrics\n",
    "y_pred = model.predict(X_test)\n",
    "y_pred = (y_pred > 0.5).astype(int)\n",
    "fpr, tpr, _ = metrics.roc_curve(y_test, y_pred)\n",
    "accuracy = metrics.accuracy_score(y_test, y_pred)\n",
    "CNN = \"Accuracy = {:.2f}\".format(accuracy*100)\n",
    "plt.plot(fpr, tpr, label=\"CNN + AE, AUC=\" + str(CNN))\n",
    "plt.legend()"
   ]
  }
 ],
 "metadata": {
  "kernelspec": {
   "display_name": "Python 3 (ipykernel)",
   "language": "python",
   "name": "python3"
  },
  "language_info": {
   "codemirror_mode": {
    "name": "ipython",
    "version": 3
   },
   "file_extension": ".py",
   "mimetype": "text/x-python",
   "name": "python",
   "nbconvert_exporter": "python",
   "pygments_lexer": "ipython3",
   "version": "3.9.13"
  }
 },
 "nbformat": 4,
 "nbformat_minor": 5
}
