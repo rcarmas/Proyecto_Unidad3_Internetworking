{
 "cells": [
  {
   "cell_type": "markdown",
   "id": "7c2de13a",
   "metadata": {},
   "source": [
    "<center><h1>Escenarios experimentales Internetworking</h1></center>"
   ]
  },
  {
   "cell_type": "markdown",
   "id": "9f4a7999",
   "metadata": {},
   "source": [
    "Presentado por: Rodney Christopher Armas Vacas\n",
    "Fecha: 23/02/2023"
   ]
  },
  {
   "cell_type": "markdown",
   "id": "70a881ed",
   "metadata": {},
   "source": [
    "# Importación de librerias necesarias"
   ]
  },
  {
   "cell_type": "code",
   "execution_count": 1,
   "id": "1081cabf",
   "metadata": {},
   "outputs": [],
   "source": [
    "#This repo is to share the code shared during the TechGig webinar. \n",
    "#We have used a dataset taken from Canadian Institute of CyberSecurity. \n",
    "#We cannot share the data here; please contact a.habibi.l@unb.ca to obtain the dataset.\n",
    "import pandas as pd\n",
    "import numpy as np\n",
    "import tensorflow as tf\n",
    "from sklearn.preprocessing import StandardScaler\n",
    "from sklearn.model_selection import train_test_split"
   ]
  },
  {
   "cell_type": "markdown",
   "id": "f2555c46",
   "metadata": {},
   "source": [
    "# Cargar el Dataset"
   ]
  },
  {
   "cell_type": "code",
   "execution_count": 2,
   "id": "c9ffc695",
   "metadata": {},
   "outputs": [],
   "source": [
    "datapath = 'https://raw.githubusercontent.com/hfcatucuamba/proyectoInternetworking/main/Escenario1.csv'\n",
    "dataframe = pd.read_csv(datapath,low_memory=False, sep=';')"
   ]
  },
  {
   "cell_type": "markdown",
   "id": "e02b7f1c",
   "metadata": {},
   "source": [
    "# Normalizar los datos"
   ]
  },
  {
   "cell_type": "code",
   "execution_count": 3,
   "id": "ddb8e458",
   "metadata": {},
   "outputs": [],
   "source": [
    "def dfNormalize(df):\n",
    "    for feature_name in df.columns:\n",
    "        df.loc[:,feature_name]= pd.to_numeric(df.loc[:,feature_name], errors='coerce').fillna(0)\n",
    "        max_value = df[feature_name].max()\n",
    "        min_value = df[feature_name].min()   \n",
    "        if (max_value - min_value) > 0:\n",
    "            df.loc[:,feature_name] = (df.loc[:,feature_name] - min_value) / (max_value - min_value)\n",
    "        else:\n",
    "            df.loc[:,feature_name] = (df.loc[:,feature_name]- min_value)    \n",
    "    return df"
   ]
  },
  {
   "cell_type": "code",
   "execution_count": 4,
   "id": "d447ad28",
   "metadata": {},
   "outputs": [
    {
     "name": "stdout",
     "output_type": "stream",
     "text": [
      "(7000, 29)\n",
      "        Source Port   Destination Port   Protocol   Flow Duration  \\\n",
      "count   7000.000000        7000.000000     7000.0    7.000000e+03   \n",
      "mean   42153.076571        7647.390714        6.0    4.002204e+06   \n",
      "std    17081.978193       17168.713987        0.0    4.450485e+06   \n",
      "min       80.000000          21.000000        6.0    1.700000e+01   \n",
      "25%    38894.000000         443.000000        6.0    2.013598e+05   \n",
      "50%    45337.000000         443.000000        6.0    4.409195e+05   \n",
      "75%    54698.000000         443.000000        6.0    9.829612e+06   \n",
      "max    61156.000000       65514.000000        6.0    1.000000e+07   \n",
      "\n",
      "        Flow IAT Max   Flow IAT Min   Fwd IAT Max   Fwd IAT Min   Bwd IAT Max  \\\n",
      "count   7.000000e+03   7.000000e+03  7.000000e+03  7.000000e+03  7.000000e+03   \n",
      "mean    1.148187e+06   1.023332e+05  1.079414e+06  1.035305e+05  8.884348e+05   \n",
      "std     2.113319e+06   4.321051e+05  2.135818e+06  6.952060e+05  1.933856e+06   \n",
      "min     1.700000e+01  -4.340000e+02  0.000000e+00  0.000000e+00  0.000000e+00   \n",
      "25%     8.040400e+04   1.800000e+01  0.000000e+00  0.000000e+00  0.000000e+00   \n",
      "50%     2.077015e+05   1.355000e+02  7.491650e+04  2.200000e+01  6.900000e+01   \n",
      "75%     9.100840e+05   1.314120e+05  8.657385e+05  1.850000e+02  4.285258e+05   \n",
      "max     9.996903e+06   9.904104e+06  9.997140e+06  9.997140e+06  9.996903e+06   \n",
      "\n",
      "        Bwd IAT Min   Active Mean   Active Std    Active Max    Active Min  \\\n",
      "count  7.000000e+03  7.000000e+03       7000.0  7.000000e+03  7.000000e+03   \n",
      "mean   7.738332e+04  5.055150e+04          0.0  5.055150e+04  5.055150e+04   \n",
      "std    6.163785e+05  3.285407e+05          0.0  3.285407e+05  3.285407e+05   \n",
      "min    0.000000e+00  0.000000e+00          0.0  0.000000e+00  0.000000e+00   \n",
      "25%    0.000000e+00  0.000000e+00          0.0  0.000000e+00  0.000000e+00   \n",
      "50%    3.000000e+00  0.000000e+00          0.0  0.000000e+00  0.000000e+00   \n",
      "75%    2.450000e+02  0.000000e+00          0.0  0.000000e+00  0.000000e+00   \n",
      "max    9.996903e+06  4.823748e+06          0.0  4.823748e+06  4.823748e+06   \n",
      "\n",
      "          Idle Mean   Idle Std      Idle Max      Idle Min  \n",
      "count  7.000000e+03     7000.0  7.000000e+03  7.000000e+03  \n",
      "mean   5.152838e+05        0.0  5.152838e+05  5.152838e+05  \n",
      "std    1.915464e+06        0.0  1.915464e+06  1.915464e+06  \n",
      "min    0.000000e+00        0.0  0.000000e+00  0.000000e+00  \n",
      "25%    0.000000e+00        0.0  0.000000e+00  0.000000e+00  \n",
      "50%    0.000000e+00        0.0  0.000000e+00  0.000000e+00  \n",
      "75%    0.000000e+00        0.0  0.000000e+00  0.000000e+00  \n",
      "max    9.996903e+06        0.0  9.996903e+06  9.996903e+06  \n",
      "['Source IP', ' Source Port', ' Destination IP', ' Destination Port', ' Protocol', ' Flow Duration', ' Flow Bytes/s', ' Flow Packets/s', ' Flow IAT Mean', ' Flow IAT Std', ' Flow IAT Max', ' Flow IAT Min', 'Fwd IAT Mean', ' Fwd IAT Std', ' Fwd IAT Max', ' Fwd IAT Min', 'Bwd IAT Mean', ' Bwd IAT Std', ' Bwd IAT Max', ' Bwd IAT Min', 'Active Mean', ' Active Std', ' Active Max', ' Active Min', 'Idle Mean', ' Idle Std', ' Idle Max', ' Idle Min', 'label']\n"
     ]
    }
   ],
   "source": [
    "print (dataframe.shape)\n",
    "dataframe = dataframe.reindex(np.random.permutation(dataframe.index)).copy()\n",
    "print(dataframe.describe())\n",
    "print (list(dataframe))"
   ]
  },
  {
   "cell_type": "code",
   "execution_count": 5,
   "id": "1954ddb3",
   "metadata": {},
   "outputs": [
    {
     "name": "stdout",
     "output_type": "stream",
     "text": [
      "        Protocol   Flow Duration   Flow Bytes/s   Flow Packets/s  \\\n",
      "count     7000.0     7000.000000    7000.000000      7000.000000   \n",
      "mean         0.0        0.400219       0.000143         0.000167   \n",
      "std          0.0        0.445049       0.011952         0.012051   \n",
      "min          0.0        0.000000       0.000000         0.000000   \n",
      "25%          0.0        0.020134       0.000000         0.000000   \n",
      "50%          0.0        0.044090       0.000000         0.000000   \n",
      "75%          0.0        0.982961       0.000000         0.000000   \n",
      "max          0.0        1.000000       1.000000         1.000000   \n",
      "\n",
      "        Flow IAT Mean   Flow IAT Std   Flow IAT Max   Flow IAT Min  \\\n",
      "count     7000.000000         7000.0    7000.000000    7000.000000   \n",
      "mean         0.017407            0.0       0.114853       0.010376   \n",
      "std          0.055836            0.0       0.211398       0.043627   \n",
      "min          0.000000            0.0       0.000000       0.000000   \n",
      "25%          0.000000            0.0       0.008041       0.000046   \n",
      "50%          0.002582            0.0       0.020775       0.000057   \n",
      "75%          0.020796            0.0       0.091035       0.013312   \n",
      "max          1.000000            0.0       1.000000       1.000000   \n",
      "\n",
      "       Fwd IAT Mean   Fwd IAT Std  ...   Bwd IAT Max   Bwd IAT Min  \\\n",
      "count   7000.000000        7000.0  ...   7000.000000  7.000000e+03   \n",
      "mean       0.023867           0.0  ...      0.088871  7.740730e-03   \n",
      "std        0.088368           0.0  ...      0.193445  6.165694e-02   \n",
      "min        0.000000           0.0  ...      0.000000  0.000000e+00   \n",
      "25%        0.000000           0.0  ...      0.000000  0.000000e+00   \n",
      "50%        0.000000           0.0  ...      0.000007  3.000929e-07   \n",
      "75%        0.000000           0.0  ...      0.042866  2.450759e-05   \n",
      "max        1.000000           0.0  ...      1.000000  1.000000e+00   \n",
      "\n",
      "       Active Mean   Active Std   Active Max   Active Min    Idle Mean  \\\n",
      "count  7000.000000       7000.0  7000.000000  7000.000000  7000.000000   \n",
      "mean      0.010480          0.0     0.010480     0.010480     0.051544   \n",
      "std       0.068109          0.0     0.068109     0.068109     0.191606   \n",
      "min       0.000000          0.0     0.000000     0.000000     0.000000   \n",
      "25%       0.000000          0.0     0.000000     0.000000     0.000000   \n",
      "50%       0.000000          0.0     0.000000     0.000000     0.000000   \n",
      "75%       0.000000          0.0     0.000000     0.000000     0.000000   \n",
      "max       1.000000          0.0     1.000000     1.000000     1.000000   \n",
      "\n",
      "        Idle Std     Idle Max     Idle Min  \n",
      "count     7000.0  7000.000000  7000.000000  \n",
      "mean         0.0     0.051544     0.051544  \n",
      "std          0.0     0.191606     0.191606  \n",
      "min          0.0     0.000000     0.000000  \n",
      "25%          0.0     0.000000     0.000000  \n",
      "50%          0.0     0.000000     0.000000  \n",
      "75%          0.0     0.000000     0.000000  \n",
      "max          0.0     1.000000     1.000000  \n",
      "\n",
      "[8 rows x 24 columns]\n"
     ]
    }
   ],
   "source": [
    "keys = dataframe.keys()\n",
    "# Feature Selection, Dropping Source IP, Source Port, Destination IP and Destination Port as it \n",
    "# specific to each organisation network and generic model should not contain them. \n",
    "data_to_process = dataframe[keys[4:len(keys) - 1]].copy()\n",
    "#data_to_process = dataframe[[' Source Port',' Destination Port', ' Flow Duration', ' Flow Bytes/s', ' Flow Packets/s', ' Flow IAT Mean','Fwd IAT Mean','Bwd IAT Mean','Active Mean','Idle Mean','label']].copy()\n",
    "# do a data normalization\n",
    "x_normalised = dfNormalize(data_to_process)\n",
    "print(x_normalised.describe())"
   ]
  },
  {
   "cell_type": "code",
   "execution_count": 6,
   "id": "b828880a",
   "metadata": {},
   "outputs": [],
   "source": [
    "change_labels = lambda x: 1 if x == 'nonTOR' else 0"
   ]
  },
  {
   "cell_type": "code",
   "execution_count": 7,
   "id": "60ee741b",
   "metadata": {},
   "outputs": [],
   "source": [
    "y_normalised = dataframe['label'].apply(change_labels)"
   ]
  },
  {
   "cell_type": "markdown",
   "id": "85208fd7",
   "metadata": {},
   "source": [
    "# Obtener los datos para entrenar y de prueba¶"
   ]
  },
  {
   "cell_type": "code",
   "execution_count": 8,
   "id": "b4cb0699",
   "metadata": {},
   "outputs": [],
   "source": [
    "X_train, X_test, y_train, y_test = train_test_split(x_normalised,\n",
    "                                            y_normalised, test_size=0.3, random_state=42)"
   ]
  },
  {
   "cell_type": "markdown",
   "id": "d96c22ca",
   "metadata": {},
   "source": [
    "# Creación modelo"
   ]
  },
  {
   "cell_type": "code",
   "execution_count": 9,
   "id": "bc1b28ef",
   "metadata": {},
   "outputs": [
    {
     "name": "stdout",
     "output_type": "stream",
     "text": [
      "Model: \"sequential\"\n",
      "_________________________________________________________________\n",
      " Layer (type)                Output Shape              Param #   \n",
      "=================================================================\n",
      " dense (Dense)               (None, 64)                1600      \n",
      "                                                                 \n",
      " dense_1 (Dense)             (None, 32)                2080      \n",
      "                                                                 \n",
      " dense_2 (Dense)             (None, 1)                 33        \n",
      "                                                                 \n",
      "=================================================================\n",
      "Total params: 3,713\n",
      "Trainable params: 3,713\n",
      "Non-trainable params: 0\n",
      "_________________________________________________________________\n"
     ]
    }
   ],
   "source": [
    "# Crear el modelo de DNN\n",
    "# Function to create model, required for KerasClassifier\n",
    "from keras.layers import Input, Dense, Conv1D, MaxPooling1D, UpSampling1D\n",
    "from keras.models import Model, Sequential\n",
    "from keras.optimizers import Adam\n",
    "from keras.callbacks import EarlyStopping\n",
    "\n",
    "# Crear modelo DNN\n",
    "model = Sequential()\n",
    "model.add(Dense(64, activation='relu', input_shape=(X_train.shape[1],)))\n",
    "model.add(Dense(32, activation='relu'))\n",
    "model.add(Dense(1, activation='sigmoid'))\n",
    "\n",
    "# Compilar modelo\n",
    "model.compile(optimizer=\"adam\",\n",
    "              loss=\"binary_crossentropy\", \n",
    "              metrics=[\"accuracy\"])\n",
    "\n",
    "model.summary()"
   ]
  },
  {
   "cell_type": "code",
   "execution_count": 10,
   "id": "18d57195",
   "metadata": {},
   "outputs": [],
   "source": [
    "batch_size = 32\n",
    "steps_per_epoch = (X_train.shape[0]//batch_size)\n",
    "validation_steps = (x_normalised.shape[0] // batch_size)\n",
    "\n",
    "es = EarlyStopping(monitor='val_loss', mode='min', verbose=1, patience=200)"
   ]
  },
  {
   "cell_type": "code",
   "execution_count": 11,
   "id": "9c06dd02",
   "metadata": {},
   "outputs": [
    {
     "name": "stdout",
     "output_type": "stream",
     "text": [
      "Epoch 1/35\n",
      "154/154 [==============================] - 2s 7ms/step - loss: 0.4289 - accuracy: 0.9235 - val_loss: 0.2274 - val_accuracy: 0.9219\n",
      "Epoch 2/35\n",
      "154/154 [==============================] - 1s 3ms/step - loss: 0.1987 - accuracy: 0.9206 - val_loss: 0.1645 - val_accuracy: 0.9319\n",
      "Epoch 3/35\n",
      "154/154 [==============================] - 0s 3ms/step - loss: 0.1565 - accuracy: 0.9380 - val_loss: 0.1349 - val_accuracy: 0.9433\n",
      "Epoch 4/35\n",
      "154/154 [==============================] - 0s 3ms/step - loss: 0.1281 - accuracy: 0.9480 - val_loss: 0.1053 - val_accuracy: 0.9600\n",
      "Epoch 5/35\n",
      "154/154 [==============================] - 0s 3ms/step - loss: 0.1027 - accuracy: 0.9637 - val_loss: 0.0829 - val_accuracy: 0.9800\n",
      "Epoch 6/35\n",
      "154/154 [==============================] - 0s 3ms/step - loss: 0.0848 - accuracy: 0.9737 - val_loss: 0.0708 - val_accuracy: 0.9871\n",
      "Epoch 7/35\n",
      "154/154 [==============================] - 0s 3ms/step - loss: 0.0736 - accuracy: 0.9788 - val_loss: 0.0618 - val_accuracy: 0.9876\n",
      "Epoch 8/35\n",
      "154/154 [==============================] - 0s 3ms/step - loss: 0.0667 - accuracy: 0.9798 - val_loss: 0.0532 - val_accuracy: 0.9881\n",
      "Epoch 9/35\n",
      "154/154 [==============================] - 0s 3ms/step - loss: 0.0624 - accuracy: 0.9820 - val_loss: 0.0468 - val_accuracy: 0.9876\n",
      "Epoch 10/35\n",
      "154/154 [==============================] - 0s 3ms/step - loss: 0.0579 - accuracy: 0.9822 - val_loss: 0.0452 - val_accuracy: 0.9881\n",
      "Epoch 11/35\n",
      "154/154 [==============================] - 0s 3ms/step - loss: 0.0567 - accuracy: 0.9818 - val_loss: 0.0417 - val_accuracy: 0.9886\n",
      "Epoch 12/35\n",
      "154/154 [==============================] - 0s 3ms/step - loss: 0.0536 - accuracy: 0.9835 - val_loss: 0.0392 - val_accuracy: 0.9876\n",
      "Epoch 13/35\n",
      "154/154 [==============================] - 0s 3ms/step - loss: 0.0517 - accuracy: 0.9849 - val_loss: 0.0374 - val_accuracy: 0.9886\n",
      "Epoch 14/35\n",
      "154/154 [==============================] - 0s 3ms/step - loss: 0.0494 - accuracy: 0.9849 - val_loss: 0.0361 - val_accuracy: 0.9890\n",
      "Epoch 15/35\n",
      "154/154 [==============================] - 0s 3ms/step - loss: 0.0497 - accuracy: 0.9849 - val_loss: 0.0365 - val_accuracy: 0.9910\n",
      "Epoch 16/35\n",
      "154/154 [==============================] - 0s 3ms/step - loss: 0.0479 - accuracy: 0.9853 - val_loss: 0.0423 - val_accuracy: 0.9905\n",
      "Epoch 17/35\n",
      "154/154 [==============================] - 0s 2ms/step - loss: 0.0461 - accuracy: 0.9857 - val_loss: 0.0346 - val_accuracy: 0.9886\n",
      "Epoch 18/35\n",
      "154/154 [==============================] - 0s 2ms/step - loss: 0.0455 - accuracy: 0.9869 - val_loss: 0.0314 - val_accuracy: 0.9905\n",
      "Epoch 19/35\n",
      "154/154 [==============================] - 0s 2ms/step - loss: 0.0436 - accuracy: 0.9863 - val_loss: 0.0305 - val_accuracy: 0.9900\n",
      "Epoch 20/35\n",
      "154/154 [==============================] - 0s 2ms/step - loss: 0.0433 - accuracy: 0.9867 - val_loss: 0.0306 - val_accuracy: 0.9900\n",
      "Epoch 21/35\n",
      "154/154 [==============================] - 0s 2ms/step - loss: 0.0422 - accuracy: 0.9865 - val_loss: 0.0302 - val_accuracy: 0.9900\n",
      "Epoch 22/35\n",
      "154/154 [==============================] - 0s 2ms/step - loss: 0.0407 - accuracy: 0.9873 - val_loss: 0.0292 - val_accuracy: 0.9910\n",
      "Epoch 23/35\n",
      "154/154 [==============================] - 0s 2ms/step - loss: 0.0405 - accuracy: 0.9873 - val_loss: 0.0299 - val_accuracy: 0.9900\n",
      "Epoch 24/35\n",
      "154/154 [==============================] - 0s 2ms/step - loss: 0.0401 - accuracy: 0.9871 - val_loss: 0.0273 - val_accuracy: 0.9914\n",
      "Epoch 25/35\n",
      "154/154 [==============================] - 0s 2ms/step - loss: 0.0387 - accuracy: 0.9871 - val_loss: 0.0297 - val_accuracy: 0.9900\n",
      "Epoch 26/35\n",
      "154/154 [==============================] - 0s 2ms/step - loss: 0.0396 - accuracy: 0.9873 - val_loss: 0.0291 - val_accuracy: 0.9905\n",
      "Epoch 27/35\n",
      "154/154 [==============================] - 0s 2ms/step - loss: 0.0382 - accuracy: 0.9876 - val_loss: 0.0288 - val_accuracy: 0.9905\n",
      "Epoch 28/35\n",
      "154/154 [==============================] - 0s 2ms/step - loss: 0.0373 - accuracy: 0.9882 - val_loss: 0.0262 - val_accuracy: 0.9905\n",
      "Epoch 29/35\n",
      "154/154 [==============================] - 0s 2ms/step - loss: 0.0362 - accuracy: 0.9873 - val_loss: 0.0257 - val_accuracy: 0.9919\n",
      "Epoch 30/35\n",
      "154/154 [==============================] - 0s 2ms/step - loss: 0.0367 - accuracy: 0.9871 - val_loss: 0.0244 - val_accuracy: 0.9910\n",
      "Epoch 31/35\n",
      "154/154 [==============================] - 0s 2ms/step - loss: 0.0353 - accuracy: 0.9890 - val_loss: 0.0274 - val_accuracy: 0.9929\n",
      "Epoch 32/35\n",
      "154/154 [==============================] - 0s 2ms/step - loss: 0.0350 - accuracy: 0.9884 - val_loss: 0.0307 - val_accuracy: 0.9924\n",
      "Epoch 33/35\n",
      "154/154 [==============================] - 0s 2ms/step - loss: 0.0355 - accuracy: 0.9880 - val_loss: 0.0291 - val_accuracy: 0.9924\n",
      "Epoch 34/35\n",
      "154/154 [==============================] - 0s 2ms/step - loss: 0.0404 - accuracy: 0.9863 - val_loss: 0.0258 - val_accuracy: 0.9905\n",
      "Epoch 35/35\n",
      "154/154 [==============================] - 0s 2ms/step - loss: 0.0362 - accuracy: 0.9876 - val_loss: 0.0228 - val_accuracy: 0.9914\n",
      "Wall time: 15.4 s\n"
     ]
    },
    {
     "data": {
      "text/plain": [
       "<keras.callbacks.History at 0x2794aa59d90>"
      ]
     },
     "execution_count": 11,
     "metadata": {},
     "output_type": "execute_result"
    }
   ],
   "source": [
    "%%time\n",
    "\n",
    "model.fit(X_train, y_train, batch_size=32, epochs=35, validation_data=(X_test, y_test))"
   ]
  },
  {
   "cell_type": "code",
   "execution_count": 12,
   "id": "60961ae2",
   "metadata": {},
   "outputs": [
    {
     "name": "stdout",
     "output_type": "stream",
     "text": [
      "66/66 [==============================] - 0s 1ms/step - loss: 0.0228 - accuracy: 0.9914\n",
      "test_loss: 2.28\n",
      "test_accuracy: 99.14\n"
     ]
    }
   ],
   "source": [
    "loss, accuracy = model.evaluate(X_test,y_test,batch_size=batch_size)\n",
    "# Evaluar el modelo\n",
    "print('test_loss: %.2f' % (loss * 100.0))  \n",
    "print('test_accuracy: %.2f' % (accuracy * 100.0))"
   ]
  },
  {
   "cell_type": "code",
   "execution_count": 14,
   "id": "276f4199",
   "metadata": {},
   "outputs": [
    {
     "name": "stdout",
     "output_type": "stream",
     "text": [
      "66/66 [==============================] - 0s 2ms/step\n",
      "Accuracy: 99.14285714285714\n",
      "F1 Score: 99.16589434661725\n",
      "Precision: 98.52670349907919\n",
      "Recall: 99.81343283582089\n"
     ]
    }
   ],
   "source": [
    "# Hacer predicciones sobre los datos de prueba\n",
    "y_pred = model.predict(X_test)\n",
    "\n",
    "# Convertir las probabilidades en etiquetas binarias (0 o 1) usando un umbral de 0.5\n",
    "y_pred_binary = (y_pred > 0.5).astype(int)\n",
    "\n",
    "# Importar métricas de sklearn\n",
    "from sklearn.metrics import accuracy_score, f1_score, precision_score, recall_score\n",
    "\n",
    "# Calcular métricas\n",
    "acc = accuracy_score(y_test, y_pred_binary)*100\n",
    "f1 = f1_score(y_test, y_pred_binary)*100\n",
    "prec = precision_score(y_test, y_pred_binary)*100\n",
    "rec = recall_score(y_test, y_pred_binary)*100\n",
    "\n",
    "# Imprimir métricas\n",
    "print(\"Accuracy:\", acc)\n",
    "print(\"F1 Score:\", f1)\n",
    "print(\"Precision:\", prec)\n",
    "print(\"Recall:\", rec)"
   ]
  },
  {
   "cell_type": "code",
   "execution_count": null,
   "id": "574c67a2",
   "metadata": {},
   "outputs": [],
   "source": []
  }
 ],
 "metadata": {
  "kernelspec": {
   "display_name": "Python 3 (ipykernel)",
   "language": "python",
   "name": "python3"
  },
  "language_info": {
   "codemirror_mode": {
    "name": "ipython",
    "version": 3
   },
   "file_extension": ".py",
   "mimetype": "text/x-python",
   "name": "python",
   "nbconvert_exporter": "python",
   "pygments_lexer": "ipython3",
   "version": "3.9.13"
  }
 },
 "nbformat": 4,
 "nbformat_minor": 5
}
