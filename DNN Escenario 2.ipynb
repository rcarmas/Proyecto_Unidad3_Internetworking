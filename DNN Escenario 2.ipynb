{
 "cells": [
  {
   "cell_type": "markdown",
   "id": "5f093365",
   "metadata": {},
   "source": [
    "<center><h1>Escenarios experimentales Internetworking</h1></center>"
   ]
  },
  {
   "cell_type": "markdown",
   "id": "16de93dd",
   "metadata": {},
   "source": [
    "Presentado por: Rodney Christopher Armas Vacas\n",
    "Fecha: 23/02/2023"
   ]
  },
  {
   "cell_type": "markdown",
   "id": "48046b55",
   "metadata": {},
   "source": [
    "# Importación de librerias necesarias"
   ]
  },
  {
   "cell_type": "code",
   "execution_count": 1,
   "id": "7564185b",
   "metadata": {},
   "outputs": [],
   "source": [
    "#This repo is to share the code shared during the TechGig webinar. \n",
    "#We have used a dataset taken from Canadian Institute of CyberSecurity. \n",
    "#We cannot share the data here; please contact a.habibi.l@unb.ca to obtain the dataset.\n",
    "import pandas as pd\n",
    "import numpy as np\n",
    "from sklearn.preprocessing import LabelEncoder, StandardScaler"
   ]
  },
  {
   "cell_type": "markdown",
   "id": "8a994f61",
   "metadata": {},
   "source": [
    "# Cargar el Dataset"
   ]
  },
  {
   "cell_type": "code",
   "execution_count": 2,
   "id": "dc548cba",
   "metadata": {},
   "outputs": [],
   "source": [
    "datapath = 'https://raw.githubusercontent.com/hfcatucuamba/proyectoInternetworking/main/Escenario2.csv'\n",
    "dataframe = pd.read_csv(datapath,low_memory=False)"
   ]
  },
  {
   "cell_type": "code",
   "execution_count": 3,
   "id": "6b9fdb9d",
   "metadata": {},
   "outputs": [
    {
     "data": {
      "text/html": [
       "<div>\n",
       "<style scoped>\n",
       "    .dataframe tbody tr th:only-of-type {\n",
       "        vertical-align: middle;\n",
       "    }\n",
       "\n",
       "    .dataframe tbody tr th {\n",
       "        vertical-align: top;\n",
       "    }\n",
       "\n",
       "    .dataframe thead th {\n",
       "        text-align: right;\n",
       "    }\n",
       "</style>\n",
       "<table border=\"1\" class=\"dataframe\">\n",
       "  <thead>\n",
       "    <tr style=\"text-align: right;\">\n",
       "      <th></th>\n",
       "      <th>Source IP</th>\n",
       "      <th>Source Port</th>\n",
       "      <th>Destination IP</th>\n",
       "      <th>Destination Port</th>\n",
       "      <th>Protocol</th>\n",
       "      <th>Flow Duration</th>\n",
       "      <th>Flow Bytes/s</th>\n",
       "      <th>Flow Packets/s</th>\n",
       "      <th>Flow IAT Mean</th>\n",
       "      <th>Flow IAT Std</th>\n",
       "      <th>...</th>\n",
       "      <th>Bwd IAT Min</th>\n",
       "      <th>Active Mean</th>\n",
       "      <th>Active Std</th>\n",
       "      <th>Active Max</th>\n",
       "      <th>Active Min</th>\n",
       "      <th>Idle Mean</th>\n",
       "      <th>Idle Std</th>\n",
       "      <th>Idle Max</th>\n",
       "      <th>Idle Min</th>\n",
       "      <th>label</th>\n",
       "    </tr>\n",
       "  </thead>\n",
       "  <tbody>\n",
       "    <tr>\n",
       "      <th>0</th>\n",
       "      <td>10.0.2.15</td>\n",
       "      <td>57188</td>\n",
       "      <td>82.161.239.177</td>\n",
       "      <td>110</td>\n",
       "      <td>6</td>\n",
       "      <td>7248168</td>\n",
       "      <td>2.112603e+04</td>\n",
       "      <td>29.110804</td>\n",
       "      <td>34515.085714</td>\n",
       "      <td>273869.262513</td>\n",
       "      <td>...</td>\n",
       "      <td>7</td>\n",
       "      <td>0</td>\n",
       "      <td>0</td>\n",
       "      <td>0</td>\n",
       "      <td>0</td>\n",
       "      <td>0</td>\n",
       "      <td>0</td>\n",
       "      <td>0</td>\n",
       "      <td>0</td>\n",
       "      <td>AUDIO</td>\n",
       "    </tr>\n",
       "    <tr>\n",
       "      <th>1</th>\n",
       "      <td>10.0.2.15</td>\n",
       "      <td>57188</td>\n",
       "      <td>82.161.239.177</td>\n",
       "      <td>110</td>\n",
       "      <td>6</td>\n",
       "      <td>5157723</td>\n",
       "      <td>1.052790e+03</td>\n",
       "      <td>3.683796</td>\n",
       "      <td>286540.166667</td>\n",
       "      <td>878838.525555</td>\n",
       "      <td>...</td>\n",
       "      <td>451</td>\n",
       "      <td>0</td>\n",
       "      <td>0</td>\n",
       "      <td>0</td>\n",
       "      <td>0</td>\n",
       "      <td>0</td>\n",
       "      <td>0</td>\n",
       "      <td>0</td>\n",
       "      <td>0</td>\n",
       "      <td>AUDIO</td>\n",
       "    </tr>\n",
       "    <tr>\n",
       "      <th>2</th>\n",
       "      <td>10.0.2.15</td>\n",
       "      <td>57188</td>\n",
       "      <td>82.161.239.177</td>\n",
       "      <td>110</td>\n",
       "      <td>6</td>\n",
       "      <td>41</td>\n",
       "      <td>1.324390e+07</td>\n",
       "      <td>48780.487805</td>\n",
       "      <td>41.000000</td>\n",
       "      <td>0.000000</td>\n",
       "      <td>...</td>\n",
       "      <td>0</td>\n",
       "      <td>0</td>\n",
       "      <td>0</td>\n",
       "      <td>0</td>\n",
       "      <td>0</td>\n",
       "      <td>0</td>\n",
       "      <td>0</td>\n",
       "      <td>0</td>\n",
       "      <td>0</td>\n",
       "      <td>AUDIO</td>\n",
       "    </tr>\n",
       "    <tr>\n",
       "      <th>3</th>\n",
       "      <td>10.0.2.15</td>\n",
       "      <td>57188</td>\n",
       "      <td>82.161.239.177</td>\n",
       "      <td>110</td>\n",
       "      <td>6</td>\n",
       "      <td>9543565</td>\n",
       "      <td>6.373855e+04</td>\n",
       "      <td>83.930900</td>\n",
       "      <td>11929.456250</td>\n",
       "      <td>90072.192523</td>\n",
       "      <td>...</td>\n",
       "      <td>5</td>\n",
       "      <td>0</td>\n",
       "      <td>0</td>\n",
       "      <td>0</td>\n",
       "      <td>0</td>\n",
       "      <td>0</td>\n",
       "      <td>0</td>\n",
       "      <td>0</td>\n",
       "      <td>0</td>\n",
       "      <td>AUDIO</td>\n",
       "    </tr>\n",
       "    <tr>\n",
       "      <th>4</th>\n",
       "      <td>10.0.2.15</td>\n",
       "      <td>57188</td>\n",
       "      <td>82.161.239.177</td>\n",
       "      <td>110</td>\n",
       "      <td>6</td>\n",
       "      <td>9987537</td>\n",
       "      <td>1.996166e+05</td>\n",
       "      <td>245.806348</td>\n",
       "      <td>4069.900978</td>\n",
       "      <td>20365.733229</td>\n",
       "      <td>...</td>\n",
       "      <td>5</td>\n",
       "      <td>0</td>\n",
       "      <td>0</td>\n",
       "      <td>0</td>\n",
       "      <td>0</td>\n",
       "      <td>0</td>\n",
       "      <td>0</td>\n",
       "      <td>0</td>\n",
       "      <td>0</td>\n",
       "      <td>AUDIO</td>\n",
       "    </tr>\n",
       "  </tbody>\n",
       "</table>\n",
       "<p>5 rows × 29 columns</p>\n",
       "</div>"
      ],
      "text/plain": [
       "   Source IP   Source Port  Destination IP   Destination Port   Protocol  \\\n",
       "0  10.0.2.15         57188  82.161.239.177                110          6   \n",
       "1  10.0.2.15         57188  82.161.239.177                110          6   \n",
       "2  10.0.2.15         57188  82.161.239.177                110          6   \n",
       "3  10.0.2.15         57188  82.161.239.177                110          6   \n",
       "4  10.0.2.15         57188  82.161.239.177                110          6   \n",
       "\n",
       "    Flow Duration   Flow Bytes/s   Flow Packets/s   Flow IAT Mean  \\\n",
       "0         7248168   2.112603e+04        29.110804    34515.085714   \n",
       "1         5157723   1.052790e+03         3.683796   286540.166667   \n",
       "2              41   1.324390e+07     48780.487805       41.000000   \n",
       "3         9543565   6.373855e+04        83.930900    11929.456250   \n",
       "4         9987537   1.996166e+05       245.806348     4069.900978   \n",
       "\n",
       "    Flow IAT Std  ...   Bwd IAT Min  Active Mean   Active Std   Active Max  \\\n",
       "0  273869.262513  ...             7            0            0            0   \n",
       "1  878838.525555  ...           451            0            0            0   \n",
       "2       0.000000  ...             0            0            0            0   \n",
       "3   90072.192523  ...             5            0            0            0   \n",
       "4   20365.733229  ...             5            0            0            0   \n",
       "\n",
       "    Active Min  Idle Mean   Idle Std   Idle Max   Idle Min  label  \n",
       "0            0          0          0          0          0  AUDIO  \n",
       "1            0          0          0          0          0  AUDIO  \n",
       "2            0          0          0          0          0  AUDIO  \n",
       "3            0          0          0          0          0  AUDIO  \n",
       "4            0          0          0          0          0  AUDIO  \n",
       "\n",
       "[5 rows x 29 columns]"
      ]
     },
     "execution_count": 3,
     "metadata": {},
     "output_type": "execute_result"
    }
   ],
   "source": [
    "dataframe.head()"
   ]
  },
  {
   "cell_type": "markdown",
   "id": "6066b4b8",
   "metadata": {},
   "source": [
    "# Normalizar los datos"
   ]
  },
  {
   "cell_type": "code",
   "execution_count": 4,
   "id": "3c9e8c8b",
   "metadata": {},
   "outputs": [],
   "source": [
    "def dfNormalize(df):\n",
    "    for feature_name in df.columns:\n",
    "        df.loc[:,feature_name]= pd.to_numeric(df.loc[:,feature_name], errors='coerce').fillna(0)\n",
    "        max_value = df[feature_name].max()\n",
    "        min_value = df[feature_name].min()   \n",
    "        if (max_value - min_value) > 0:\n",
    "            df.loc[:,feature_name] = (df.loc[:,feature_name] - min_value) / (max_value - min_value)\n",
    "        else:\n",
    "            df.loc[:,feature_name] = (df.loc[:,feature_name]- min_value)    \n",
    "    return df"
   ]
  },
  {
   "cell_type": "code",
   "execution_count": 5,
   "id": "f45940fb",
   "metadata": {},
   "outputs": [
    {
     "name": "stdout",
     "output_type": "stream",
     "text": [
      "(8044, 29)\n",
      "        Source Port   Destination Port   Protocol   Flow Duration  \\\n",
      "count   8044.000000        8044.000000     8044.0    8.044000e+03   \n",
      "mean   30505.505719       16767.761313        6.0    8.412146e+06   \n",
      "std    22904.243121       22545.613741        0.0    3.062480e+06   \n",
      "min      110.000000         110.000000        6.0    2.200000e+01   \n",
      "25%      443.000000         443.000000        6.0    8.906492e+06   \n",
      "50%    38894.000000         443.000000        6.0    9.965426e+06   \n",
      "75%    51024.000000       41994.000000        6.0    9.989334e+06   \n",
      "max    60740.000000       59708.000000        6.0    1.000000e+07   \n",
      "\n",
      "        Flow Bytes/s   Flow Packets/s   Flow IAT Mean   Flow IAT Std  \\\n",
      "count   8.044000e+03      8044.000000    8.044000e+03   8.044000e+03   \n",
      "mean    2.707062e+05       706.836422    1.017038e+05   2.436356e+05   \n",
      "std     1.420024e+06      4391.154798    3.139844e+05   6.377622e+05   \n",
      "min     0.000000e+00         0.400114    2.200000e+01   0.000000e+00   \n",
      "25%     1.420822e+04        30.586932    4.444811e+03   1.386636e+04   \n",
      "50%     2.958675e+04        77.540582    1.291837e+04   2.271775e+04   \n",
      "75%     1.687313e+05       225.119918    3.518860e+04   1.512991e+05   \n",
      "max     2.710256e+07     90909.090909    3.332380e+06   5.771646e+06   \n",
      "\n",
      "        Flow IAT Max   Flow IAT Min  ...   Bwd IAT Max   Bwd IAT Min  \\\n",
      "count   8.044000e+03    8044.000000  ...  8.044000e+03  8.044000e+03   \n",
      "mean    1.214898e+06      65.375062  ...  1.139737e+06  5.648311e+04   \n",
      "std     2.026831e+06    1766.055329  ...  1.918480e+06  5.355551e+05   \n",
      "min     2.200000e+01   -2255.000000  ...  0.000000e+00 -3.270000e+02   \n",
      "25%     9.602900e+04       0.000000  ...  1.004742e+05  3.000000e+00   \n",
      "50%     2.264350e+05       8.000000  ...  2.169705e+05  2.300000e+01   \n",
      "75%     1.362727e+06      19.000000  ...  1.223241e+06  1.890000e+02   \n",
      "max     9.996903e+06  127791.000000  ...  9.996903e+06  9.996903e+06   \n",
      "\n",
      "        Active Mean   Active Std    Active Max    Active Min     Idle Mean  \\\n",
      "count  8.044000e+03       8044.0  8.044000e+03  8.044000e+03  8.044000e+03   \n",
      "mean   4.885837e+04          0.0  4.885837e+04  4.885837e+04  5.060547e+05   \n",
      "std    3.198387e+05          0.0  3.198387e+05  3.198387e+05  1.884005e+06   \n",
      "min    0.000000e+00          0.0  0.000000e+00  0.000000e+00  0.000000e+00   \n",
      "25%    0.000000e+00          0.0  0.000000e+00  0.000000e+00  0.000000e+00   \n",
      "50%    0.000000e+00          0.0  0.000000e+00  0.000000e+00  0.000000e+00   \n",
      "75%    0.000000e+00          0.0  0.000000e+00  0.000000e+00  0.000000e+00   \n",
      "max    4.823748e+06          0.0  4.823748e+06  4.823748e+06  9.996903e+06   \n",
      "\n",
      "        Idle Std      Idle Max      Idle Min  \n",
      "count     8044.0  8.044000e+03  8.044000e+03  \n",
      "mean         0.0  5.060547e+05  5.060547e+05  \n",
      "std          0.0  1.884005e+06  1.884005e+06  \n",
      "min          0.0  0.000000e+00  0.000000e+00  \n",
      "25%          0.0  0.000000e+00  0.000000e+00  \n",
      "50%          0.0  0.000000e+00  0.000000e+00  \n",
      "75%          0.0  0.000000e+00  0.000000e+00  \n",
      "max          0.0  9.996903e+06  9.996903e+06  \n",
      "\n",
      "[8 rows x 26 columns]\n",
      "['Source IP', ' Source Port', ' Destination IP', ' Destination Port', ' Protocol', ' Flow Duration', ' Flow Bytes/s', ' Flow Packets/s', ' Flow IAT Mean', ' Flow IAT Std', ' Flow IAT Max', ' Flow IAT Min', 'Fwd IAT Mean', ' Fwd IAT Std', ' Fwd IAT Max', ' Fwd IAT Min', 'Bwd IAT Mean', ' Bwd IAT Std', ' Bwd IAT Max', ' Bwd IAT Min', 'Active Mean', ' Active Std', ' Active Max', ' Active Min', 'Idle Mean', ' Idle Std', ' Idle Max', ' Idle Min', 'label']\n"
     ]
    }
   ],
   "source": [
    "print (dataframe.shape)\n",
    "dataframe = dataframe.reindex(np.random.permutation(dataframe.index)).copy()\n",
    "print(dataframe.describe())\n",
    "print (list(dataframe))"
   ]
  },
  {
   "cell_type": "code",
   "execution_count": 6,
   "id": "ff88ee09",
   "metadata": {},
   "outputs": [
    {
     "name": "stdout",
     "output_type": "stream",
     "text": [
      "        Protocol   Flow Duration   Flow Bytes/s   Flow Packets/s  \\\n",
      "count     8044.0     8044.000000    8044.000000      8044.000000   \n",
      "mean         0.0        0.841214       0.009988         0.007771   \n",
      "std          0.0        0.306249       0.052394         0.048303   \n",
      "min          0.0        0.000000       0.000000         0.000000   \n",
      "25%          0.0        0.890649       0.000524         0.000332   \n",
      "50%          0.0        0.996543       0.001092         0.000849   \n",
      "75%          0.0        0.998933       0.006226         0.002472   \n",
      "max          0.0        1.000000       1.000000         1.000000   \n",
      "\n",
      "        Flow IAT Mean   Flow IAT Std   Flow IAT Max   Flow IAT Min  \\\n",
      "count     8044.000000    8044.000000    8044.000000    8044.000000   \n",
      "mean         0.030513       0.042212       0.121525       0.017843   \n",
      "std          0.094223       0.110499       0.202746       0.013580   \n",
      "min          0.000000       0.000000       0.000000       0.000000   \n",
      "25%          0.001327       0.002402       0.009604       0.017340   \n",
      "50%          0.003870       0.003936       0.022648       0.017402   \n",
      "75%          0.010553       0.026214       0.136313       0.017486   \n",
      "max          1.000000       1.000000       1.000000       1.000000   \n",
      "\n",
      "       Fwd IAT Mean   Fwd IAT Std  ...   Bwd IAT Max   Bwd IAT Min  \\\n",
      "count   8044.000000   8044.000000  ...   8044.000000   8044.000000   \n",
      "mean       0.021701      0.043462  ...      0.114009      0.005683   \n",
      "std        0.069216      0.112640  ...      0.191907      0.053570   \n",
      "min        0.000000      0.000000  ...      0.000000      0.000000   \n",
      "25%        0.001010      0.002196  ...      0.010051      0.000033   \n",
      "50%        0.002857      0.003839  ...      0.021704      0.000035   \n",
      "75%        0.008149      0.026423  ...      0.122362      0.000052   \n",
      "max        1.000000      1.000000  ...      1.000000      1.000000   \n",
      "\n",
      "       Active Mean   Active Std   Active Max   Active Min    Idle Mean  \\\n",
      "count  8044.000000       8044.0  8044.000000  8044.000000  8044.000000   \n",
      "mean      0.010129          0.0     0.010129     0.010129     0.050621   \n",
      "std       0.066305          0.0     0.066305     0.066305     0.188459   \n",
      "min       0.000000          0.0     0.000000     0.000000     0.000000   \n",
      "25%       0.000000          0.0     0.000000     0.000000     0.000000   \n",
      "50%       0.000000          0.0     0.000000     0.000000     0.000000   \n",
      "75%       0.000000          0.0     0.000000     0.000000     0.000000   \n",
      "max       1.000000          0.0     1.000000     1.000000     1.000000   \n",
      "\n",
      "        Idle Std     Idle Max     Idle Min  \n",
      "count     8044.0  8044.000000  8044.000000  \n",
      "mean         0.0     0.050621     0.050621  \n",
      "std          0.0     0.188459     0.188459  \n",
      "min          0.0     0.000000     0.000000  \n",
      "25%          0.0     0.000000     0.000000  \n",
      "50%          0.0     0.000000     0.000000  \n",
      "75%          0.0     0.000000     0.000000  \n",
      "max          0.0     1.000000     1.000000  \n",
      "\n",
      "[8 rows x 24 columns]\n"
     ]
    }
   ],
   "source": [
    "keys = dataframe.keys()\n",
    "# Feature Selection, Dropping Source IP, Source Port, Destination IP and Destination Port as it \n",
    "# specific to each organisation network and generic model should not contain them. \n",
    "data_to_process = dataframe[keys[4:len(keys) - 1]].copy()\n",
    "#data_to_process = dataframe[[' Source Port',' Destination Port', ' Flow Duration', ' Flow Bytes/s', ' Flow Packets/s', ' Flow IAT Mean','Fwd IAT Mean','Bwd IAT Mean','Active Mean','Idle Mean','label']].copy()\n",
    "# do a data normalization\n",
    "x_normalised = dfNormalize(data_to_process)\n",
    "print(x_normalised.describe())"
   ]
  },
  {
   "cell_type": "code",
   "execution_count": 7,
   "id": "4867f307",
   "metadata": {},
   "outputs": [],
   "source": [
    "#Preprocesa los datos dividiendo las características (features) y etiquetas (labels) y convirtiendo las etiquetas a valores numéricos utilizando la clase LabelEncoder de Scikit-learn\n",
    "y = dataframe['label']\n",
    "\n",
    "le = LabelEncoder()\n",
    "y = le.fit_transform(y)"
   ]
  },
  {
   "cell_type": "markdown",
   "id": "dcae9913",
   "metadata": {},
   "source": [
    "# Obtener los datos para entrenar y de prueba"
   ]
  },
  {
   "cell_type": "code",
   "execution_count": 8,
   "id": "aa19b9e3",
   "metadata": {},
   "outputs": [],
   "source": [
    "import tensorflow as tf\n",
    "from sklearn.preprocessing import StandardScaler\n",
    "from sklearn.model_selection import train_test_split"
   ]
  },
  {
   "cell_type": "code",
   "execution_count": 9,
   "id": "ed1f0b43",
   "metadata": {},
   "outputs": [],
   "source": [
    "X_train, X_test, y_train, y_test = train_test_split(x_normalised,\n",
    "                                            y, test_size=0.3, random_state=42)"
   ]
  },
  {
   "cell_type": "markdown",
   "id": "5d2ede3e",
   "metadata": {},
   "source": [
    "# Creación modelo¶"
   ]
  },
  {
   "cell_type": "code",
   "execution_count": 10,
   "id": "93bc79cc",
   "metadata": {},
   "outputs": [
    {
     "name": "stdout",
     "output_type": "stream",
     "text": [
      "Model: \"sequential\"\n",
      "_________________________________________________________________\n",
      " Layer (type)                Output Shape              Param #   \n",
      "=================================================================\n",
      " dense (Dense)               (None, 64)                1600      \n",
      "                                                                 \n",
      " dense_1 (Dense)             (None, 32)                2080      \n",
      "                                                                 \n",
      " dense_2 (Dense)             (None, 1)                 33        \n",
      "                                                                 \n",
      "=================================================================\n",
      "Total params: 3,713\n",
      "Trainable params: 3,713\n",
      "Non-trainable params: 0\n",
      "_________________________________________________________________\n"
     ]
    }
   ],
   "source": [
    "# Crear el modelo de DNN\n",
    "# Function to create model, required for KerasClassifier\n",
    "from keras.layers import Input, Dense, Conv1D, MaxPooling1D, UpSampling1D\n",
    "from keras.models import Model, Sequential\n",
    "from keras.optimizers import Adam\n",
    "from keras.callbacks import EarlyStopping\n",
    "\n",
    "# Crear modelo DNN\n",
    "model = Sequential()\n",
    "model.add(Dense(64, activation='relu', input_shape=(X_train.shape[1],)))\n",
    "model.add(Dense(32, activation='relu'))\n",
    "model.add(Dense(1, activation='relu'))\n",
    "\n",
    "# Compilar modelo\n",
    "model.compile(optimizer=\"adam\",\n",
    "              loss=\"binary_crossentropy\", \n",
    "              metrics=[\"accuracy\"])\n",
    "\n",
    "model.summary()"
   ]
  },
  {
   "cell_type": "code",
   "execution_count": 11,
   "id": "0d73a7d4",
   "metadata": {},
   "outputs": [],
   "source": [
    "batch_size = 32\n",
    "steps_per_epoch = (X_train.shape[0]//batch_size)\n",
    "validation_steps = (x_normalised.shape[0] // batch_size)\n",
    "\n",
    "es = EarlyStopping(monitor='val_loss', mode='min', verbose=1, patience=200)"
   ]
  },
  {
   "cell_type": "code",
   "execution_count": 12,
   "id": "2da9d17d",
   "metadata": {},
   "outputs": [
    {
     "name": "stdout",
     "output_type": "stream",
     "text": [
      "Epoch 1/10\n",
      "176/176 [==============================] - 2s 4ms/step - loss: -35.4309 - accuracy: 0.1885 - val_loss: -47.0427 - val_accuracy: 0.1976\n",
      "Epoch 2/10\n",
      "176/176 [==============================] - 0s 2ms/step - loss: -46.5467 - accuracy: 0.2002 - val_loss: -47.0427 - val_accuracy: 0.1976\n",
      "Epoch 3/10\n",
      "176/176 [==============================] - 0s 2ms/step - loss: -46.5467 - accuracy: 0.2002 - val_loss: -47.0427 - val_accuracy: 0.1976\n",
      "Epoch 4/10\n",
      "176/176 [==============================] - 0s 2ms/step - loss: -46.5467 - accuracy: 0.2002 - val_loss: -47.0427 - val_accuracy: 0.1976\n",
      "Epoch 5/10\n",
      "176/176 [==============================] - 0s 2ms/step - loss: -46.5468 - accuracy: 0.2002 - val_loss: -47.0427 - val_accuracy: 0.1976\n",
      "Epoch 6/10\n",
      "176/176 [==============================] - 0s 2ms/step - loss: -46.5467 - accuracy: 0.2002 - val_loss: -47.0427 - val_accuracy: 0.1976\n",
      "Epoch 7/10\n",
      "176/176 [==============================] - 0s 2ms/step - loss: -46.5467 - accuracy: 0.2002 - val_loss: -47.0427 - val_accuracy: 0.1976\n",
      "Epoch 8/10\n",
      "176/176 [==============================] - 0s 2ms/step - loss: -46.5468 - accuracy: 0.2002 - val_loss: -47.0427 - val_accuracy: 0.1976\n",
      "Epoch 9/10\n",
      "176/176 [==============================] - 0s 2ms/step - loss: -46.5467 - accuracy: 0.2002 - val_loss: -47.0427 - val_accuracy: 0.1976\n",
      "Epoch 10/10\n",
      "176/176 [==============================] - 0s 2ms/step - loss: -46.5468 - accuracy: 0.2002 - val_loss: -47.0427 - val_accuracy: 0.1976\n",
      "Wall time: 5.38 s\n"
     ]
    },
    {
     "data": {
      "text/plain": [
       "<keras.callbacks.History at 0x28b599d6df0>"
      ]
     },
     "execution_count": 12,
     "metadata": {},
     "output_type": "execute_result"
    }
   ],
   "source": [
    "%%time\n",
    "\n",
    "model.fit(X_train, y_train, batch_size=32, epochs=10, validation_data=(X_test, y_test))"
   ]
  },
  {
   "cell_type": "code",
   "execution_count": 13,
   "id": "6a2e6f9e",
   "metadata": {},
   "outputs": [
    {
     "name": "stdout",
     "output_type": "stream",
     "text": [
      "76/76 [==============================] - 0s 1ms/step - loss: -47.0427 - accuracy: 0.1976\n",
      "test_loss: -4704.27\n",
      "test_accuracy: 19.76\n"
     ]
    }
   ],
   "source": [
    "loss, accuracy = model.evaluate(X_test,y_test,batch_size=batch_size)\n",
    "# Evaluar el modelo\n",
    "print('test_loss: %.2f' % (loss * 100.0))  \n",
    "print('test_accuracy: %.2f' % (accuracy * 100.0))"
   ]
  },
  {
   "cell_type": "code",
   "execution_count": 18,
   "id": "4b8b5dd3",
   "metadata": {},
   "outputs": [
    {
     "name": "stdout",
     "output_type": "stream",
     "text": [
      "76/76 [==============================] - 0s 2ms/step\n",
      "Accuracy: 19.75973487986744\n",
      "F1 Score: 6.520507462951761\n",
      "Precision: 3.904471225226499\n",
      "Recall: 19.75973487986744\n"
     ]
    },
    {
     "name": "stderr",
     "output_type": "stream",
     "text": [
      "C:\\ProgramData\\Anaconda3\\lib\\site-packages\\sklearn\\metrics\\_classification.py:1344: UndefinedMetricWarning: Precision is ill-defined and being set to 0.0 in labels with no predicted samples. Use `zero_division` parameter to control this behavior.\n",
      "  _warn_prf(average, modifier, msg_start, len(result))\n"
     ]
    }
   ],
   "source": [
    "# Importar métricas de sklearn\n",
    "from sklearn.metrics import accuracy_score, f1_score, precision_score, recall_score\n",
    "\n",
    "# Hacer predicciones sobre los datos de prueba\n",
    "y_pred = model.predict(X_test)\n",
    "\n",
    "# Convertir las probabilidades en etiquetas binarias (0 o 1) usando un umbral de 0.5\n",
    "y_pred_binary = (y_pred > 0.5).astype(int)\n",
    "\n",
    "# Calcular métricas\n",
    "acc = accuracy_score(y_test, y_pred_binary)*100\n",
    "f1 = f1_score(y_test, y_pred_binary, average='weighted')*100\n",
    "prec = precision_score(y_test, y_pred_binary, average='weighted')*100\n",
    "rec = recall_score(y_test, y_pred_binary, average='weighted')*100\n",
    "\n",
    "# Imprimir métricas\n",
    "print(\"Accuracy:\", acc)\n",
    "print(\"F1 Score:\", f1)\n",
    "print(\"Precision:\", prec)\n",
    "print(\"Recall:\", rec)"
   ]
  },
  {
   "cell_type": "code",
   "execution_count": null,
   "id": "aaae4e78",
   "metadata": {},
   "outputs": [],
   "source": []
  }
 ],
 "metadata": {
  "kernelspec": {
   "display_name": "Python 3 (ipykernel)",
   "language": "python",
   "name": "python3"
  },
  "language_info": {
   "codemirror_mode": {
    "name": "ipython",
    "version": 3
   },
   "file_extension": ".py",
   "mimetype": "text/x-python",
   "name": "python",
   "nbconvert_exporter": "python",
   "pygments_lexer": "ipython3",
   "version": "3.9.13"
  }
 },
 "nbformat": 4,
 "nbformat_minor": 5
}
