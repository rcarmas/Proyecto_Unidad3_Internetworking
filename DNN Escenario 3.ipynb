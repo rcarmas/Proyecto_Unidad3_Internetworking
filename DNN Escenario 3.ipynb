{
 "cells": [
  {
   "cell_type": "markdown",
   "id": "ef278c7c",
   "metadata": {},
   "source": [
    "<center><h1>Escenarios experimentales Internetworking</h1></center>"
   ]
  },
  {
   "cell_type": "markdown",
   "id": "50b77723",
   "metadata": {},
   "source": [
    "Presentado por: Rodney Christopher Armas Vacas\n",
    "Fecha: 23/02/2023"
   ]
  },
  {
   "cell_type": "markdown",
   "id": "b81cb44d",
   "metadata": {},
   "source": [
    "# Importación de librerias necesarias"
   ]
  },
  {
   "cell_type": "code",
   "execution_count": 1,
   "id": "96f0202c",
   "metadata": {},
   "outputs": [],
   "source": [
    "#This repo is to share the code shared during the TechGig webinar. \n",
    "#We have used a dataset taken from Canadian Institute of CyberSecurity. \n",
    "#We cannot share the data here; please contact a.habibi.l@unb.ca to obtain the dataset.\n",
    "import pandas as pd\n",
    "import numpy as np\n",
    "from sklearn.preprocessing import LabelEncoder, StandardScaler"
   ]
  },
  {
   "cell_type": "markdown",
   "id": "670f59c1",
   "metadata": {},
   "source": [
    "# Cargar el Dataset"
   ]
  },
  {
   "cell_type": "code",
   "execution_count": 2,
   "id": "b3a3e5c4",
   "metadata": {},
   "outputs": [],
   "source": [
    "datapath = 'https://raw.githubusercontent.com/hfcatucuamba/proyectoInternetworking/main/Escenario3.csv'\n",
    "names = ['srcip', 'sport', 'dstip', 'dsport', 'proto', 'state', 'dur', 'sbytes', 'dbytes', 'sttl', 'dttl', 'sloss', 'dloss', 'service', 'Sload', 'Dload', 'Spkts', 'Dpkts', 'swin', 'dwin', 'stcpb', 'dtcpb', 'smeansz', 'dmeansz', 'trans_depth', 'res_bdy_len', 'Sjit', 'Djit', 'Stime', 'Ltime', 'Sintpkt', 'Dintpkt', 'tcprtt', 'synack', 'ackdat', 'is_sm_ips_ports', 'ct_state_ttl', 'ct_flw_http_mthd', 'is_ftp_login', 'ct_ftp_cmd', 'ct_srv_src', 'ct_srv_dst', 'ct_dst_ltm', 'ct_src_ltm', 'ct_src_dport_ltm', 'ct_dst_sport_ltm', 'ct_dst_src_ltm', 'attack_cat', 'label']\n",
    "dataframe = pd.read_csv(datapath,names=names,low_memory=False, sep=';')"
   ]
  },
  {
   "cell_type": "code",
   "execution_count": 3,
   "id": "6f81aa46",
   "metadata": {},
   "outputs": [
    {
     "data": {
      "text/html": [
       "<div>\n",
       "<style scoped>\n",
       "    .dataframe tbody tr th:only-of-type {\n",
       "        vertical-align: middle;\n",
       "    }\n",
       "\n",
       "    .dataframe tbody tr th {\n",
       "        vertical-align: top;\n",
       "    }\n",
       "\n",
       "    .dataframe thead th {\n",
       "        text-align: right;\n",
       "    }\n",
       "</style>\n",
       "<table border=\"1\" class=\"dataframe\">\n",
       "  <thead>\n",
       "    <tr style=\"text-align: right;\">\n",
       "      <th></th>\n",
       "      <th>srcip</th>\n",
       "      <th>sport</th>\n",
       "      <th>dstip</th>\n",
       "      <th>dsport</th>\n",
       "      <th>proto</th>\n",
       "      <th>state</th>\n",
       "      <th>dur</th>\n",
       "      <th>sbytes</th>\n",
       "      <th>dbytes</th>\n",
       "      <th>sttl</th>\n",
       "      <th>...</th>\n",
       "      <th>ct_ftp_cmd</th>\n",
       "      <th>ct_srv_src</th>\n",
       "      <th>ct_srv_dst</th>\n",
       "      <th>ct_dst_ltm</th>\n",
       "      <th>ct_src_ltm</th>\n",
       "      <th>ct_src_dport_ltm</th>\n",
       "      <th>ct_dst_sport_ltm</th>\n",
       "      <th>ct_dst_src_ltm</th>\n",
       "      <th>attack_cat</th>\n",
       "      <th>label</th>\n",
       "    </tr>\n",
       "  </thead>\n",
       "  <tbody>\n",
       "    <tr>\n",
       "      <th>0</th>\n",
       "      <td>59.166.0.9</td>\n",
       "      <td>7045</td>\n",
       "      <td>149.171.126.7</td>\n",
       "      <td>25</td>\n",
       "      <td>tcp</td>\n",
       "      <td>FIN</td>\n",
       "      <td>0.201886</td>\n",
       "      <td>37552</td>\n",
       "      <td>3380</td>\n",
       "      <td>31</td>\n",
       "      <td>...</td>\n",
       "      <td></td>\n",
       "      <td>2</td>\n",
       "      <td>2</td>\n",
       "      <td>7</td>\n",
       "      <td>4</td>\n",
       "      <td>1</td>\n",
       "      <td>1</td>\n",
       "      <td>3</td>\n",
       "      <td>NaN</td>\n",
       "      <td>0</td>\n",
       "    </tr>\n",
       "    <tr>\n",
       "      <th>1</th>\n",
       "      <td>59.166.0.9</td>\n",
       "      <td>9685</td>\n",
       "      <td>149.171.126.2</td>\n",
       "      <td>80</td>\n",
       "      <td>tcp</td>\n",
       "      <td>FIN</td>\n",
       "      <td>5.864.748</td>\n",
       "      <td>19410</td>\n",
       "      <td>1087890</td>\n",
       "      <td>31</td>\n",
       "      <td>...</td>\n",
       "      <td></td>\n",
       "      <td>3</td>\n",
       "      <td>1</td>\n",
       "      <td>4</td>\n",
       "      <td>4</td>\n",
       "      <td>1</td>\n",
       "      <td>1</td>\n",
       "      <td>1</td>\n",
       "      <td>NaN</td>\n",
       "      <td>0</td>\n",
       "    </tr>\n",
       "    <tr>\n",
       "      <th>2</th>\n",
       "      <td>59.166.0.2</td>\n",
       "      <td>1421</td>\n",
       "      <td>149.171.126.4</td>\n",
       "      <td>53</td>\n",
       "      <td>udp</td>\n",
       "      <td>CON</td>\n",
       "      <td>0.001391</td>\n",
       "      <td>146</td>\n",
       "      <td>178</td>\n",
       "      <td>31</td>\n",
       "      <td>...</td>\n",
       "      <td></td>\n",
       "      <td>3</td>\n",
       "      <td>5</td>\n",
       "      <td>2</td>\n",
       "      <td>7</td>\n",
       "      <td>1</td>\n",
       "      <td>1</td>\n",
       "      <td>4</td>\n",
       "      <td>NaN</td>\n",
       "      <td>0</td>\n",
       "    </tr>\n",
       "    <tr>\n",
       "      <th>3</th>\n",
       "      <td>59.166.0.2</td>\n",
       "      <td>21553</td>\n",
       "      <td>149.171.126.2</td>\n",
       "      <td>25</td>\n",
       "      <td>tcp</td>\n",
       "      <td>FIN</td>\n",
       "      <td>0.053948</td>\n",
       "      <td>37812</td>\n",
       "      <td>3380</td>\n",
       "      <td>31</td>\n",
       "      <td>...</td>\n",
       "      <td></td>\n",
       "      <td>1</td>\n",
       "      <td>1</td>\n",
       "      <td>4</td>\n",
       "      <td>7</td>\n",
       "      <td>1</td>\n",
       "      <td>1</td>\n",
       "      <td>3</td>\n",
       "      <td>NaN</td>\n",
       "      <td>0</td>\n",
       "    </tr>\n",
       "    <tr>\n",
       "      <th>4</th>\n",
       "      <td>59.166.0.8</td>\n",
       "      <td>45212</td>\n",
       "      <td>149.171.126.4</td>\n",
       "      <td>53</td>\n",
       "      <td>udp</td>\n",
       "      <td>CON</td>\n",
       "      <td>0.000953</td>\n",
       "      <td>146</td>\n",
       "      <td>178</td>\n",
       "      <td>31</td>\n",
       "      <td>...</td>\n",
       "      <td></td>\n",
       "      <td>2</td>\n",
       "      <td>5</td>\n",
       "      <td>2</td>\n",
       "      <td>1</td>\n",
       "      <td>1</td>\n",
       "      <td>1</td>\n",
       "      <td>2</td>\n",
       "      <td>NaN</td>\n",
       "      <td>0</td>\n",
       "    </tr>\n",
       "  </tbody>\n",
       "</table>\n",
       "<p>5 rows × 49 columns</p>\n",
       "</div>"
      ],
      "text/plain": [
       "        srcip  sport          dstip dsport proto state        dur  sbytes  \\\n",
       "0  59.166.0.9   7045  149.171.126.7     25   tcp   FIN   0.201886   37552   \n",
       "1  59.166.0.9   9685  149.171.126.2     80   tcp   FIN  5.864.748   19410   \n",
       "2  59.166.0.2   1421  149.171.126.4     53   udp   CON   0.001391     146   \n",
       "3  59.166.0.2  21553  149.171.126.2     25   tcp   FIN   0.053948   37812   \n",
       "4  59.166.0.8  45212  149.171.126.4     53   udp   CON   0.000953     146   \n",
       "\n",
       "    dbytes  sttl  ...  ct_ftp_cmd  ct_srv_src  ct_srv_dst ct_dst_ltm  \\\n",
       "0     3380    31  ...                       2           2          7   \n",
       "1  1087890    31  ...                       3           1          4   \n",
       "2      178    31  ...                       3           5          2   \n",
       "3     3380    31  ...                       1           1          4   \n",
       "4      178    31  ...                       2           5          2   \n",
       "\n",
       "  ct_src_ltm ct_src_dport_ltm  ct_dst_sport_ltm  ct_dst_src_ltm  attack_cat  \\\n",
       "0          4                1                 1               3         NaN   \n",
       "1          4                1                 1               1         NaN   \n",
       "2          7                1                 1               4         NaN   \n",
       "3          7                1                 1               3         NaN   \n",
       "4          1                1                 1               2         NaN   \n",
       "\n",
       "   label  \n",
       "0      0  \n",
       "1      0  \n",
       "2      0  \n",
       "3      0  \n",
       "4      0  \n",
       "\n",
       "[5 rows x 49 columns]"
      ]
     },
     "execution_count": 3,
     "metadata": {},
     "output_type": "execute_result"
    }
   ],
   "source": [
    "dataframe.head()"
   ]
  },
  {
   "cell_type": "markdown",
   "id": "fa02a4ea",
   "metadata": {},
   "source": [
    "# Normalizar los datos"
   ]
  },
  {
   "cell_type": "code",
   "execution_count": 4,
   "id": "252d11e4",
   "metadata": {},
   "outputs": [],
   "source": [
    "# Seleccionar la columna que deseas codificar\n",
    "columna_a_codificar = dataframe['srcip']\n",
    "\n",
    "# Crear una instancia de la clase LabelEncoder\n",
    "le = LabelEncoder()\n",
    "\n",
    "# Codificar la columna seleccionada\n",
    "columna_codificada = le.fit_transform(columna_a_codificar)\n",
    "\n",
    "# Reemplazar la columna original con la columna codificada\n",
    "dataframe['srcip'] = columna_codificada"
   ]
  },
  {
   "cell_type": "code",
   "execution_count": 5,
   "id": "22b0425e",
   "metadata": {},
   "outputs": [],
   "source": [
    "# Seleccionar la columna que deseas codificar\n",
    "columna_a_codificar = dataframe['dstip']\n",
    "\n",
    "# Crear una instancia de la clase LabelEncoder\n",
    "le = LabelEncoder()\n",
    "\n",
    "# Codificar la columna seleccionada\n",
    "columna_codificada = le.fit_transform(columna_a_codificar)\n",
    "\n",
    "# Reemplazar la columna original con la columna codificada\n",
    "dataframe['dstip'] = columna_codificada"
   ]
  },
  {
   "cell_type": "code",
   "execution_count": 6,
   "id": "88f2c3e3",
   "metadata": {},
   "outputs": [],
   "source": [
    "# Seleccionar la columna que deseas codificar\n",
    "columna_a_codificar = dataframe['dsport']\n",
    "\n",
    "# Crear una instancia de la clase LabelEncoder\n",
    "le = LabelEncoder()\n",
    "\n",
    "# Codificar la columna seleccionada\n",
    "columna_codificada = le.fit_transform(columna_a_codificar)\n",
    "\n",
    "# Reemplazar la columna original con la columna codificada\n",
    "dataframe['dsport'] = columna_codificada"
   ]
  },
  {
   "cell_type": "code",
   "execution_count": 7,
   "id": "779e6e75",
   "metadata": {},
   "outputs": [],
   "source": [
    "# Seleccionar la columna que deseas codificar\n",
    "columna_a_codificar = dataframe['proto']\n",
    "\n",
    "# Crear una instancia de la clase LabelEncoder\n",
    "le = LabelEncoder()\n",
    "\n",
    "# Codificar la columna seleccionada\n",
    "columna_codificada = le.fit_transform(columna_a_codificar)\n",
    "\n",
    "# Reemplazar la columna original con la columna codificada\n",
    "dataframe['proto'] = columna_codificada"
   ]
  },
  {
   "cell_type": "code",
   "execution_count": 8,
   "id": "d829b791",
   "metadata": {},
   "outputs": [],
   "source": [
    "# Seleccionar la columna que deseas codificar\n",
    "columna_a_codificar = dataframe['state']\n",
    "\n",
    "# Crear una instancia de la clase LabelEncoder\n",
    "le = LabelEncoder()\n",
    "\n",
    "# Codificar la columna seleccionada\n",
    "columna_codificada = le.fit_transform(columna_a_codificar)\n",
    "\n",
    "# Reemplazar la columna original con la columna codificada\n",
    "dataframe['state'] = columna_codificada"
   ]
  },
  {
   "cell_type": "code",
   "execution_count": 9,
   "id": "6ca7b87f",
   "metadata": {},
   "outputs": [],
   "source": [
    "# Seleccionar la columna que deseas codificar\n",
    "columna_a_codificar = dataframe['dur']\n",
    "\n",
    "# Crear una instancia de la clase LabelEncoder\n",
    "le = LabelEncoder()\n",
    "\n",
    "# Codificar la columna seleccionada\n",
    "columna_codificada = le.fit_transform(columna_a_codificar)\n",
    "\n",
    "# Reemplazar la columna original con la columna codificada\n",
    "dataframe['dur'] = columna_codificada"
   ]
  },
  {
   "cell_type": "code",
   "execution_count": 10,
   "id": "c0bca1a8",
   "metadata": {},
   "outputs": [],
   "source": [
    "# Seleccionar la columna que deseas codificar\n",
    "columna_a_codificar = dataframe['service']\n",
    "\n",
    "# Crear una instancia de la clase LabelEncoder\n",
    "le = LabelEncoder()\n",
    "\n",
    "# Codificar la columna seleccionada\n",
    "columna_codificada = le.fit_transform(columna_a_codificar)\n",
    "\n",
    "# Reemplazar la columna original con la columna codificada\n",
    "dataframe['service'] = columna_codificada"
   ]
  },
  {
   "cell_type": "code",
   "execution_count": 11,
   "id": "a56ea3f8",
   "metadata": {},
   "outputs": [],
   "source": [
    "# Seleccionar la columna que deseas codificar\n",
    "columna_a_codificar = dataframe['Sload']\n",
    "\n",
    "# Crear una instancia de la clase LabelEncoder\n",
    "le = LabelEncoder()\n",
    "\n",
    "# Codificar la columna seleccionada\n",
    "columna_codificada = le.fit_transform(columna_a_codificar)\n",
    "\n",
    "# Reemplazar la columna original con la columna codificada\n",
    "dataframe['Sload'] = columna_codificada"
   ]
  },
  {
   "cell_type": "code",
   "execution_count": 12,
   "id": "5beb88dc",
   "metadata": {},
   "outputs": [],
   "source": [
    "# Seleccionar la columna que deseas codificar\n",
    "columna_a_codificar = dataframe['Dload']\n",
    "\n",
    "# Crear una instancia de la clase LabelEncoder\n",
    "le = LabelEncoder()\n",
    "\n",
    "# Codificar la columna seleccionada\n",
    "columna_codificada = le.fit_transform(columna_a_codificar)\n",
    "\n",
    "# Reemplazar la columna original con la columna codificada\n",
    "dataframe['Dload'] = columna_codificada"
   ]
  },
  {
   "cell_type": "code",
   "execution_count": 13,
   "id": "a4fa4f6d",
   "metadata": {},
   "outputs": [],
   "source": [
    "# Seleccionar la columna que deseas codificar\n",
    "columna_a_codificar = dataframe['Sjit']\n",
    "\n",
    "# Crear una instancia de la clase LabelEncoder\n",
    "le = LabelEncoder()\n",
    "\n",
    "# Codificar la columna seleccionada\n",
    "columna_codificada = le.fit_transform(columna_a_codificar)\n",
    "\n",
    "# Reemplazar la columna original con la columna codificada\n",
    "dataframe['Sjit'] = columna_codificada"
   ]
  },
  {
   "cell_type": "code",
   "execution_count": 14,
   "id": "9413dd4a",
   "metadata": {},
   "outputs": [],
   "source": [
    "# Seleccionar la columna que deseas codificar\n",
    "columna_a_codificar = dataframe['Djit']\n",
    "\n",
    "# Crear una instancia de la clase LabelEncoder\n",
    "le = LabelEncoder()\n",
    "\n",
    "# Codificar la columna seleccionada\n",
    "columna_codificada = le.fit_transform(columna_a_codificar)\n",
    "\n",
    "# Reemplazar la columna original con la columna codificada\n",
    "dataframe['Djit'] = columna_codificada"
   ]
  },
  {
   "cell_type": "code",
   "execution_count": 15,
   "id": "e9e7aef8",
   "metadata": {},
   "outputs": [],
   "source": [
    "# Seleccionar la columna que deseas codificar\n",
    "columna_a_codificar = dataframe['Sintpkt']\n",
    "\n",
    "# Crear una instancia de la clase LabelEncoder\n",
    "le = LabelEncoder()\n",
    "\n",
    "# Codificar la columna seleccionada\n",
    "columna_codificada = le.fit_transform(columna_a_codificar)\n",
    "\n",
    "# Reemplazar la columna original con la columna codificada\n",
    "dataframe['Sintpkt'] = columna_codificada"
   ]
  },
  {
   "cell_type": "code",
   "execution_count": 16,
   "id": "39de82a4",
   "metadata": {},
   "outputs": [],
   "source": [
    "# Seleccionar la columna que deseas codificar\n",
    "columna_a_codificar = dataframe['Dintpkt']\n",
    "\n",
    "# Crear una instancia de la clase LabelEncoder\n",
    "le = LabelEncoder()\n",
    "\n",
    "# Codificar la columna seleccionada\n",
    "columna_codificada = le.fit_transform(columna_a_codificar)\n",
    "\n",
    "# Reemplazar la columna original con la columna codificada\n",
    "dataframe['Dintpkt'] = columna_codificada"
   ]
  },
  {
   "cell_type": "code",
   "execution_count": 17,
   "id": "82e8a126",
   "metadata": {},
   "outputs": [],
   "source": [
    "# Seleccionar la columna que deseas codificar\n",
    "columna_a_codificar = dataframe['ct_ftp_cmd']\n",
    "\n",
    "# Crear una instancia de la clase LabelEncoder\n",
    "le = LabelEncoder()\n",
    "\n",
    "# Codificar la columna seleccionada\n",
    "columna_codificada = le.fit_transform(columna_a_codificar)\n",
    "\n",
    "# Reemplazar la columna original con la columna codificada\n",
    "dataframe['ct_ftp_cmd'] = columna_codificada"
   ]
  },
  {
   "cell_type": "code",
   "execution_count": 18,
   "id": "a705803a",
   "metadata": {},
   "outputs": [],
   "source": [
    "# Seleccionar la columna que deseas codificar\n",
    "columna_a_codificar = dataframe['attack_cat']\n",
    "\n",
    "# Crear una instancia de la clase LabelEncoder\n",
    "le = LabelEncoder()\n",
    "\n",
    "# Codificar la columna seleccionada\n",
    "columna_codificada = le.fit_transform(columna_a_codificar)\n",
    "\n",
    "# Reemplazar la columna original con la columna codificada\n",
    "dataframe['attack_cat'] = columna_codificada"
   ]
  },
  {
   "cell_type": "code",
   "execution_count": 19,
   "id": "bf2791ec",
   "metadata": {},
   "outputs": [],
   "source": [
    "# Separar las características del conjunto de datos en una matriz separada\n",
    "X = dataframe.iloc[:, :-1].values"
   ]
  },
  {
   "cell_type": "code",
   "execution_count": 20,
   "id": "801d6368",
   "metadata": {},
   "outputs": [],
   "source": [
    "scaler = StandardScaler()\n",
    "x_normalised = scaler.fit_transform(X)"
   ]
  },
  {
   "cell_type": "code",
   "execution_count": 21,
   "id": "bc67ca99",
   "metadata": {},
   "outputs": [],
   "source": [
    "y = dataframe['label']"
   ]
  },
  {
   "cell_type": "markdown",
   "id": "4b9b09f8",
   "metadata": {},
   "source": [
    "# Obtener los datos para entrenar y de prueba"
   ]
  },
  {
   "cell_type": "code",
   "execution_count": 22,
   "id": "f6df9d16",
   "metadata": {},
   "outputs": [],
   "source": [
    "import tensorflow as tf\n",
    "from sklearn.preprocessing import StandardScaler\n",
    "from sklearn.model_selection import train_test_split"
   ]
  },
  {
   "cell_type": "code",
   "execution_count": 23,
   "id": "6c2957e6",
   "metadata": {},
   "outputs": [],
   "source": [
    "X_train, X_test, y_train, y_test = train_test_split(x_normalised,\n",
    "                                            y, test_size=0.3, random_state=42)"
   ]
  },
  {
   "cell_type": "markdown",
   "id": "39ce04ea",
   "metadata": {},
   "source": [
    "# Creación modelo"
   ]
  },
  {
   "cell_type": "code",
   "execution_count": 24,
   "id": "2582ee8c",
   "metadata": {},
   "outputs": [
    {
     "name": "stdout",
     "output_type": "stream",
     "text": [
      "Model: \"sequential\"\n",
      "_________________________________________________________________\n",
      " Layer (type)                Output Shape              Param #   \n",
      "=================================================================\n",
      " dense (Dense)               (None, 64)                3136      \n",
      "                                                                 \n",
      " dense_1 (Dense)             (None, 32)                2080      \n",
      "                                                                 \n",
      " dense_2 (Dense)             (None, 1)                 33        \n",
      "                                                                 \n",
      "=================================================================\n",
      "Total params: 5,249\n",
      "Trainable params: 5,249\n",
      "Non-trainable params: 0\n",
      "_________________________________________________________________\n"
     ]
    },
    {
     "name": "stderr",
     "output_type": "stream",
     "text": [
      "C:\\ProgramData\\Anaconda3\\lib\\site-packages\\keras\\optimizers\\optimizer_v2\\adam.py:114: UserWarning: The `lr` argument is deprecated, use `learning_rate` instead.\n",
      "  super().__init__(name, **kwargs)\n"
     ]
    }
   ],
   "source": [
    "# Crear el modelo de DNN\n",
    "# Function to create model, required for KerasClassifier\n",
    "from keras.layers import Input, Dense, Conv1D, MaxPooling1D, UpSampling1D\n",
    "from keras.models import Model, Sequential\n",
    "from keras.optimizers import Adam\n",
    "from keras.callbacks import EarlyStopping\n",
    "\n",
    "# Crear modelo DNN\n",
    "model = Sequential()\n",
    "model.add(Dense(64, activation='relu', input_shape=(X_train.shape[1],)))\n",
    "model.add(Dense(32, activation='relu'))\n",
    "model.add(Dense(1, activation='relu'))\n",
    "\n",
    "# Compilar modelo\n",
    "model.compile(loss='binary_crossentropy', optimizer=Adam(lr=0.001), metrics=['accuracy'])\n",
    "\n",
    "model.summary()"
   ]
  },
  {
   "cell_type": "code",
   "execution_count": 25,
   "id": "2ab0e465",
   "metadata": {},
   "outputs": [],
   "source": [
    "batch_size = 32\n",
    "steps_per_epoch = (X_train.shape[0]//batch_size)\n",
    "validation_steps = (x_normalised.shape[0] // batch_size)\n",
    "\n",
    "es = EarlyStopping(monitor='val_loss', mode='min', verbose=1, patience=200)"
   ]
  },
  {
   "cell_type": "code",
   "execution_count": 26,
   "id": "42d96246",
   "metadata": {},
   "outputs": [
    {
     "name": "stdout",
     "output_type": "stream",
     "text": [
      "Epoch 1/35\n",
      "66/66 [==============================] - 1s 6ms/step - loss: 7.8520 - accuracy: 0.4910 - val_loss: 7.3868 - val_accuracy: 0.5211\n",
      "Epoch 2/35\n",
      "66/66 [==============================] - 0s 3ms/step - loss: 7.8520 - accuracy: 0.4910 - val_loss: 7.3868 - val_accuracy: 0.5211\n",
      "Epoch 3/35\n",
      "66/66 [==============================] - 0s 3ms/step - loss: 7.8520 - accuracy: 0.4910 - val_loss: 7.3868 - val_accuracy: 0.5211\n",
      "Epoch 4/35\n",
      "66/66 [==============================] - 0s 3ms/step - loss: 7.8520 - accuracy: 0.4910 - val_loss: 7.3868 - val_accuracy: 0.5211\n",
      "Epoch 5/35\n",
      "66/66 [==============================] - 0s 3ms/step - loss: 7.8520 - accuracy: 0.4910 - val_loss: 7.3868 - val_accuracy: 0.5211\n",
      "Epoch 6/35\n",
      "66/66 [==============================] - 0s 2ms/step - loss: 7.8520 - accuracy: 0.4910 - val_loss: 7.3868 - val_accuracy: 0.5211\n",
      "Epoch 7/35\n",
      "66/66 [==============================] - 0s 3ms/step - loss: 7.8520 - accuracy: 0.4910 - val_loss: 7.3868 - val_accuracy: 0.5211\n",
      "Epoch 8/35\n",
      "66/66 [==============================] - 0s 2ms/step - loss: 7.8520 - accuracy: 0.4910 - val_loss: 7.3868 - val_accuracy: 0.5211\n",
      "Epoch 9/35\n",
      "66/66 [==============================] - 0s 2ms/step - loss: 7.8520 - accuracy: 0.4910 - val_loss: 7.3868 - val_accuracy: 0.5211\n",
      "Epoch 10/35\n",
      "66/66 [==============================] - 0s 3ms/step - loss: 7.8520 - accuracy: 0.4910 - val_loss: 7.3868 - val_accuracy: 0.5211\n",
      "Epoch 11/35\n",
      "66/66 [==============================] - 0s 3ms/step - loss: 7.8520 - accuracy: 0.4910 - val_loss: 7.3868 - val_accuracy: 0.5211\n",
      "Epoch 12/35\n",
      "66/66 [==============================] - 0s 3ms/step - loss: 7.8520 - accuracy: 0.4910 - val_loss: 7.3868 - val_accuracy: 0.5211\n",
      "Epoch 13/35\n",
      "66/66 [==============================] - 0s 3ms/step - loss: 7.8520 - accuracy: 0.4910 - val_loss: 7.3868 - val_accuracy: 0.5211\n",
      "Epoch 14/35\n",
      "66/66 [==============================] - 0s 3ms/step - loss: 7.8520 - accuracy: 0.4910 - val_loss: 7.3868 - val_accuracy: 0.5211\n",
      "Epoch 15/35\n",
      "66/66 [==============================] - 0s 3ms/step - loss: 7.8520 - accuracy: 0.4910 - val_loss: 7.3868 - val_accuracy: 0.5211\n",
      "Epoch 16/35\n",
      "66/66 [==============================] - 0s 3ms/step - loss: 7.8520 - accuracy: 0.4910 - val_loss: 7.3868 - val_accuracy: 0.5211\n",
      "Epoch 17/35\n",
      "66/66 [==============================] - 0s 3ms/step - loss: 7.8520 - accuracy: 0.4910 - val_loss: 7.3868 - val_accuracy: 0.5211\n",
      "Epoch 18/35\n",
      "66/66 [==============================] - 0s 3ms/step - loss: 7.8520 - accuracy: 0.4910 - val_loss: 7.3868 - val_accuracy: 0.5211\n",
      "Epoch 19/35\n",
      "66/66 [==============================] - 0s 3ms/step - loss: 7.8520 - accuracy: 0.4910 - val_loss: 7.3868 - val_accuracy: 0.5211\n",
      "Epoch 20/35\n",
      "66/66 [==============================] - 0s 3ms/step - loss: 7.8520 - accuracy: 0.4910 - val_loss: 7.3868 - val_accuracy: 0.5211\n",
      "Epoch 21/35\n",
      "66/66 [==============================] - 0s 3ms/step - loss: 7.8520 - accuracy: 0.4910 - val_loss: 7.3868 - val_accuracy: 0.5211\n",
      "Epoch 22/35\n",
      "66/66 [==============================] - 0s 3ms/step - loss: 7.8520 - accuracy: 0.4910 - val_loss: 7.3868 - val_accuracy: 0.5211\n",
      "Epoch 23/35\n",
      "66/66 [==============================] - 0s 3ms/step - loss: 7.8520 - accuracy: 0.4910 - val_loss: 7.3868 - val_accuracy: 0.5211\n",
      "Epoch 24/35\n",
      "66/66 [==============================] - 0s 3ms/step - loss: 7.8520 - accuracy: 0.4910 - val_loss: 7.3868 - val_accuracy: 0.5211\n",
      "Epoch 25/35\n",
      "66/66 [==============================] - 0s 3ms/step - loss: 7.8520 - accuracy: 0.4910 - val_loss: 7.3868 - val_accuracy: 0.5211\n",
      "Epoch 26/35\n",
      "66/66 [==============================] - 0s 3ms/step - loss: 7.8520 - accuracy: 0.4910 - val_loss: 7.3868 - val_accuracy: 0.5211\n",
      "Epoch 27/35\n",
      "66/66 [==============================] - 0s 3ms/step - loss: 7.8520 - accuracy: 0.4910 - val_loss: 7.3868 - val_accuracy: 0.5211\n",
      "Epoch 28/35\n",
      "66/66 [==============================] - 0s 3ms/step - loss: 7.8520 - accuracy: 0.4910 - val_loss: 7.3868 - val_accuracy: 0.5211\n",
      "Epoch 29/35\n",
      "66/66 [==============================] - 0s 3ms/step - loss: 7.8520 - accuracy: 0.4910 - val_loss: 7.3868 - val_accuracy: 0.5211\n",
      "Epoch 30/35\n",
      "66/66 [==============================] - 0s 3ms/step - loss: 7.8520 - accuracy: 0.4910 - val_loss: 7.3868 - val_accuracy: 0.5211\n",
      "Epoch 31/35\n",
      "66/66 [==============================] - 0s 3ms/step - loss: 7.8520 - accuracy: 0.4910 - val_loss: 7.3868 - val_accuracy: 0.5211\n",
      "Epoch 32/35\n",
      "66/66 [==============================] - 0s 3ms/step - loss: 7.8520 - accuracy: 0.4910 - val_loss: 7.3868 - val_accuracy: 0.5211\n",
      "Epoch 33/35\n",
      "66/66 [==============================] - 0s 3ms/step - loss: 7.8520 - accuracy: 0.4910 - val_loss: 7.3868 - val_accuracy: 0.5211\n",
      "Epoch 34/35\n",
      "66/66 [==============================] - 0s 3ms/step - loss: 7.8520 - accuracy: 0.4910 - val_loss: 7.3868 - val_accuracy: 0.5211\n",
      "Epoch 35/35\n",
      "66/66 [==============================] - 0s 3ms/step - loss: 7.8520 - accuracy: 0.4910 - val_loss: 7.3868 - val_accuracy: 0.5211\n",
      "Wall time: 7.34 s\n"
     ]
    },
    {
     "data": {
      "text/plain": [
       "<keras.callbacks.History at 0x21feffaed60>"
      ]
     },
     "execution_count": 26,
     "metadata": {},
     "output_type": "execute_result"
    }
   ],
   "source": [
    "%%time\n",
    "\n",
    "model.fit(X_train, y_train, batch_size=32, epochs=35, validation_data=(X_test, y_test))"
   ]
  },
  {
   "cell_type": "code",
   "execution_count": 27,
   "id": "ecd74d3c",
   "metadata": {},
   "outputs": [
    {
     "name": "stdout",
     "output_type": "stream",
     "text": [
      "29/29 [==============================] - 0s 1ms/step - loss: 7.3868 - accuracy: 0.5211\n",
      "test_loss: 738.68\n",
      "test_accuracy: 52.11\n"
     ]
    }
   ],
   "source": [
    "# Evaluar el modelo\n",
    "loss, accuracy = model.evaluate(X_test,y_test,batch_size=batch_size)\n",
    "print('test_loss: %.2f' % (loss * 100.0))  \n",
    "print('test_accuracy: %.2f' % (accuracy * 100.0))"
   ]
  },
  {
   "cell_type": "code",
   "execution_count": 28,
   "id": "45e6625c",
   "metadata": {},
   "outputs": [
    {
     "name": "stdout",
     "output_type": "stream",
     "text": [
      "Accuracy: 52.11\n",
      "F1 score: 35.71\n",
      "Precision: 27.16\n",
      "Recall: 52.11\n"
     ]
    },
    {
     "name": "stderr",
     "output_type": "stream",
     "text": [
      "C:\\ProgramData\\Anaconda3\\lib\\site-packages\\sklearn\\metrics\\_classification.py:1344: UndefinedMetricWarning: Precision is ill-defined and being set to 0.0 in labels with no predicted samples. Use `zero_division` parameter to control this behavior.\n",
      "  _warn_prf(average, modifier, msg_start, len(result))\n"
     ]
    }
   ],
   "source": [
    "from sklearn.metrics import accuracy_score, precision_score, recall_score, f1_score\n",
    "\n",
    "# predecir probabilidades de modelo para datos de prueba\n",
    "model_probs = model.predict(X_test, verbose=0)\n",
    "# predecir clases para datos de prueba\n",
    "model_classes = np.argmax(model_probs,axis=1)\n",
    "# reducir a un array de 1 dimensión\n",
    "model_probs = model_probs[:, 0]\n",
    "\n",
    "# accuracy: (tp + tn) / (p + n)\n",
    "accuracy = accuracy_score(y_test, model_classes)*100\n",
    "# precision tp / (tp + fp)\n",
    "precision = precision_score(y_test, model_classes, average='weighted')*100\n",
    "# recall: tp / (tp + fn)\n",
    "recall = recall_score(y_test, model_classes, average='weighted')*100\n",
    "# f1: 2 tp / (2 tp + fp + fn)\n",
    "f1 = f1_score(y_test, model_classes, average='weighted')*100\n",
    "\n",
    "print('Accuracy: %.2f' % accuracy)\n",
    "print('F1 score: %.2f' % f1)\n",
    "print('Precision: %.2f' % precision)\n",
    "print('Recall: %.2f' % recall)"
   ]
  },
  {
   "cell_type": "code",
   "execution_count": null,
   "id": "9edd4e47",
   "metadata": {},
   "outputs": [],
   "source": []
  }
 ],
 "metadata": {
  "kernelspec": {
   "display_name": "Python 3 (ipykernel)",
   "language": "python",
   "name": "python3"
  },
  "language_info": {
   "codemirror_mode": {
    "name": "ipython",
    "version": 3
   },
   "file_extension": ".py",
   "mimetype": "text/x-python",
   "name": "python",
   "nbconvert_exporter": "python",
   "pygments_lexer": "ipython3",
   "version": "3.9.13"
  }
 },
 "nbformat": 4,
 "nbformat_minor": 5
}
