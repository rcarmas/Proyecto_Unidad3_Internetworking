{
 "cells": [
  {
   "cell_type": "markdown",
   "id": "0c0353ec",
   "metadata": {},
   "source": [
    "<center><h1>SVM - Escenario experimental 1</header1></center>\n"
   ]
  },
  {
   "cell_type": "code",
   "execution_count": 19,
   "id": "ae158a21",
   "metadata": {},
   "outputs": [],
   "source": [
    "import pandas as pd\n",
    "import numpy as np"
   ]
  },
  {
   "cell_type": "code",
   "execution_count": 20,
   "id": "0cc7d83e",
   "metadata": {},
   "outputs": [],
   "source": [
    "datapath = 'https://raw.githubusercontent.com/rcarmas/datasets-Internetworking/main/SelectedFeatures-10s-TOR-NonTOR.csv'\n",
    "names = ['Source IP', 'Source Port', 'Destination IP', 'Destination Port', 'Protocol', 'Flow Duration', 'Flow Bytes/s', 'Flow Packets/s', 'Flow IAT Mean', 'Flow IAT Std', 'Flow IAT Max', 'Flow IAT Min','Fwd IAT Mean', 'Fwd IAT Std', 'Fwd IAT Max', 'Fwd IAT Min','Bwd IAT Mean', 'Bwd IAT Std', 'Bwd IAT Max', 'Bwd IAT Min','Active Mean', 'Active Std', 'Active Max', 'Active Min','Idle Mean', 'Idle Std', 'Idle Max', 'Idle Min','label']\n",
    "#Lee los datos del csv\n",
    "dataframe  = pd.read_csv(datapath,names=names,low_memory=False)"
   ]
  },
  {
   "cell_type": "code",
   "execution_count": 21,
   "id": "5a0deb63",
   "metadata": {},
   "outputs": [
    {
     "data": {
      "text/html": [
       "<div>\n",
       "<style scoped>\n",
       "    .dataframe tbody tr th:only-of-type {\n",
       "        vertical-align: middle;\n",
       "    }\n",
       "\n",
       "    .dataframe tbody tr th {\n",
       "        vertical-align: top;\n",
       "    }\n",
       "\n",
       "    .dataframe thead th {\n",
       "        text-align: right;\n",
       "    }\n",
       "</style>\n",
       "<table border=\"1\" class=\"dataframe\">\n",
       "  <thead>\n",
       "    <tr style=\"text-align: right;\">\n",
       "      <th></th>\n",
       "      <th>Source IP</th>\n",
       "      <th>Source Port</th>\n",
       "      <th>Destination IP</th>\n",
       "      <th>Destination Port</th>\n",
       "      <th>Protocol</th>\n",
       "      <th>Flow Duration</th>\n",
       "      <th>Flow Bytes/s</th>\n",
       "      <th>Flow Packets/s</th>\n",
       "      <th>Flow IAT Mean</th>\n",
       "      <th>Flow IAT Std</th>\n",
       "      <th>...</th>\n",
       "      <th>Bwd IAT Min</th>\n",
       "      <th>Active Mean</th>\n",
       "      <th>Active Std</th>\n",
       "      <th>Active Max</th>\n",
       "      <th>Active Min</th>\n",
       "      <th>Idle Mean</th>\n",
       "      <th>Idle Std</th>\n",
       "      <th>Idle Max</th>\n",
       "      <th>Idle Min</th>\n",
       "      <th>label</th>\n",
       "    </tr>\n",
       "  </thead>\n",
       "  <tbody>\n",
       "    <tr>\n",
       "      <th>0</th>\n",
       "      <td>10.0.2.15</td>\n",
       "      <td>53913</td>\n",
       "      <td>216.58.208.46</td>\n",
       "      <td>80</td>\n",
       "      <td>6</td>\n",
       "      <td>435</td>\n",
       "      <td>0.0</td>\n",
       "      <td>4597.701149</td>\n",
       "      <td>435.0</td>\n",
       "      <td>0.0</td>\n",
       "      <td>...</td>\n",
       "      <td>0</td>\n",
       "      <td>0</td>\n",
       "      <td>0</td>\n",
       "      <td>0</td>\n",
       "      <td>0</td>\n",
       "      <td>0</td>\n",
       "      <td>0</td>\n",
       "      <td>0</td>\n",
       "      <td>0</td>\n",
       "      <td>nonTOR</td>\n",
       "    </tr>\n",
       "    <tr>\n",
       "      <th>1</th>\n",
       "      <td>10.0.2.15</td>\n",
       "      <td>53913</td>\n",
       "      <td>216.58.208.46</td>\n",
       "      <td>80</td>\n",
       "      <td>6</td>\n",
       "      <td>259</td>\n",
       "      <td>0.0</td>\n",
       "      <td>7722.007722</td>\n",
       "      <td>259.0</td>\n",
       "      <td>0.0</td>\n",
       "      <td>...</td>\n",
       "      <td>0</td>\n",
       "      <td>0</td>\n",
       "      <td>0</td>\n",
       "      <td>0</td>\n",
       "      <td>0</td>\n",
       "      <td>0</td>\n",
       "      <td>0</td>\n",
       "      <td>0</td>\n",
       "      <td>0</td>\n",
       "      <td>nonTOR</td>\n",
       "    </tr>\n",
       "    <tr>\n",
       "      <th>2</th>\n",
       "      <td>10.0.2.15</td>\n",
       "      <td>53913</td>\n",
       "      <td>216.58.208.46</td>\n",
       "      <td>80</td>\n",
       "      <td>6</td>\n",
       "      <td>891</td>\n",
       "      <td>0.0</td>\n",
       "      <td>2244.668911</td>\n",
       "      <td>891.0</td>\n",
       "      <td>0.0</td>\n",
       "      <td>...</td>\n",
       "      <td>0</td>\n",
       "      <td>0</td>\n",
       "      <td>0</td>\n",
       "      <td>0</td>\n",
       "      <td>0</td>\n",
       "      <td>0</td>\n",
       "      <td>0</td>\n",
       "      <td>0</td>\n",
       "      <td>0</td>\n",
       "      <td>nonTOR</td>\n",
       "    </tr>\n",
       "    <tr>\n",
       "      <th>3</th>\n",
       "      <td>10.0.2.15</td>\n",
       "      <td>53913</td>\n",
       "      <td>216.58.208.46</td>\n",
       "      <td>80</td>\n",
       "      <td>6</td>\n",
       "      <td>1074</td>\n",
       "      <td>0.0</td>\n",
       "      <td>1862.197393</td>\n",
       "      <td>1074.0</td>\n",
       "      <td>0.0</td>\n",
       "      <td>...</td>\n",
       "      <td>0</td>\n",
       "      <td>0</td>\n",
       "      <td>0</td>\n",
       "      <td>0</td>\n",
       "      <td>0</td>\n",
       "      <td>0</td>\n",
       "      <td>0</td>\n",
       "      <td>0</td>\n",
       "      <td>0</td>\n",
       "      <td>nonTOR</td>\n",
       "    </tr>\n",
       "    <tr>\n",
       "      <th>4</th>\n",
       "      <td>10.0.2.15</td>\n",
       "      <td>53913</td>\n",
       "      <td>216.58.208.46</td>\n",
       "      <td>80</td>\n",
       "      <td>6</td>\n",
       "      <td>315</td>\n",
       "      <td>0.0</td>\n",
       "      <td>6349.206349</td>\n",
       "      <td>315.0</td>\n",
       "      <td>0.0</td>\n",
       "      <td>...</td>\n",
       "      <td>0</td>\n",
       "      <td>0</td>\n",
       "      <td>0</td>\n",
       "      <td>0</td>\n",
       "      <td>0</td>\n",
       "      <td>0</td>\n",
       "      <td>0</td>\n",
       "      <td>0</td>\n",
       "      <td>0</td>\n",
       "      <td>nonTOR</td>\n",
       "    </tr>\n",
       "  </tbody>\n",
       "</table>\n",
       "<p>5 rows × 29 columns</p>\n",
       "</div>"
      ],
      "text/plain": [
       "   Source IP  Source Port Destination IP  Destination Port  Protocol  \\\n",
       "0  10.0.2.15        53913  216.58.208.46                80         6   \n",
       "1  10.0.2.15        53913  216.58.208.46                80         6   \n",
       "2  10.0.2.15        53913  216.58.208.46                80         6   \n",
       "3  10.0.2.15        53913  216.58.208.46                80         6   \n",
       "4  10.0.2.15        53913  216.58.208.46                80         6   \n",
       "\n",
       "   Flow Duration  Flow Bytes/s  Flow Packets/s  Flow IAT Mean  Flow IAT Std  \\\n",
       "0            435           0.0     4597.701149          435.0           0.0   \n",
       "1            259           0.0     7722.007722          259.0           0.0   \n",
       "2            891           0.0     2244.668911          891.0           0.0   \n",
       "3           1074           0.0     1862.197393         1074.0           0.0   \n",
       "4            315           0.0     6349.206349          315.0           0.0   \n",
       "\n",
       "   ...  Bwd IAT Min  Active Mean  Active Std  Active Max  Active Min  \\\n",
       "0  ...            0            0           0           0           0   \n",
       "1  ...            0            0           0           0           0   \n",
       "2  ...            0            0           0           0           0   \n",
       "3  ...            0            0           0           0           0   \n",
       "4  ...            0            0           0           0           0   \n",
       "\n",
       "   Idle Mean  Idle Std  Idle Max  Idle Min   label  \n",
       "0          0         0         0         0  nonTOR  \n",
       "1          0         0         0         0  nonTOR  \n",
       "2          0         0         0         0  nonTOR  \n",
       "3          0         0         0         0  nonTOR  \n",
       "4          0         0         0         0  nonTOR  \n",
       "\n",
       "[5 rows x 29 columns]"
      ]
     },
     "execution_count": 21,
     "metadata": {},
     "output_type": "execute_result"
    }
   ],
   "source": [
    "dataframe.head()"
   ]
  },
  {
   "cell_type": "code",
   "execution_count": 22,
   "id": "5fb4c3d3",
   "metadata": {},
   "outputs": [],
   "source": [
    "# Normalise the data\n",
    "def dfNormalize(df):\n",
    "    for feature_name in df.columns:\n",
    "        df.loc[:,feature_name]= pd.to_numeric(df.loc[:,feature_name], errors='coerce').fillna(0)\n",
    "        max_value = df[feature_name].max()\n",
    "        min_value = df[feature_name].min()   \n",
    "        if (max_value - min_value) > 0:\n",
    "            df.loc[:,feature_name] = (df.loc[:,feature_name] - min_value) / (max_value - min_value)\n",
    "        else:\n",
    "            df.loc[:,feature_name] = (df.loc[:,feature_name]- min_value)    \n",
    "    return df"
   ]
  },
  {
   "cell_type": "code",
   "execution_count": 23,
   "id": "2b72789b",
   "metadata": {},
   "outputs": [
    {
     "name": "stdout",
     "output_type": "stream",
     "text": [
      "(67834, 29)\n",
      "        Source Port  Destination Port      Protocol  Flow Duration  \\\n",
      "count  67834.000000      67834.000000  67834.000000   6.783400e+04   \n",
      "mean   37912.753324      11566.395967     12.167291   2.991884e+06   \n",
      "std    20986.077326      18374.765123      5.459410   4.063005e+06   \n",
      "min       21.000000         21.000000      6.000000   0.000000e+00   \n",
      "25%    19305.000000        137.000000      6.000000   4.435975e+04   \n",
      "50%    43677.000000        443.000000     17.000000   4.108570e+05   \n",
      "75%    54685.000000      16311.000000     17.000000   7.325550e+06   \n",
      "max    65534.000000      65514.000000     17.000000   1.000000e+07   \n",
      "\n",
      "       Flow Bytes/s  Flow Packets/s  Flow IAT Mean  Flow IAT Std  \\\n",
      "count  6.783200e+04    6.783400e+04   6.783400e+04  6.783400e+04   \n",
      "mean            inf             inf   3.155927e+05  2.209662e+05   \n",
      "std             NaN             NaN   6.988069e+05  6.409506e+05   \n",
      "min    0.000000e+00    2.002581e-01   0.000000e+00  0.000000e+00   \n",
      "25%    1.046553e+02    4.861712e+00   9.951270e+03  0.000000e+00   \n",
      "50%    1.331365e+03    1.631734e+01   8.344079e+04  0.000000e+00   \n",
      "75%    2.170103e+04    1.007038e+02   4.106090e+05  5.790789e+04   \n",
      "max             inf             inf   9.987113e+06  7.045491e+06   \n",
      "\n",
      "       Flow IAT Max  Flow IAT Min  ...   Bwd IAT Max   Bwd IAT Min  \\\n",
      "count  6.783400e+04  6.783400e+04  ...  6.783400e+04  6.783400e+04   \n",
      "mean   8.983857e+05  1.924432e+05  ...  4.760216e+05  5.158576e+04   \n",
      "std    1.738476e+06  5.780313e+05  ...  1.409648e+06  4.873526e+05   \n",
      "min    0.000000e+00 -2.255000e+03  ...  0.000000e+00 -3.270000e+02   \n",
      "25%    2.892575e+04  2.600000e+01  ...  0.000000e+00  0.000000e+00   \n",
      "50%    1.786225e+05  1.371500e+03  ...  0.000000e+00  0.000000e+00   \n",
      "75%    4.641098e+05  2.075310e+05  ...  8.278800e+04  1.700000e+01   \n",
      "max    9.998126e+06  9.987113e+06  ...  9.996903e+06  9.996903e+06   \n",
      "\n",
      "        Active Mean  Active Std    Active Max    Active Min     Idle Mean  \\\n",
      "count  6.783400e+04     67834.0  6.783400e+04  6.783400e+04  6.783400e+04   \n",
      "mean   3.887655e+04         0.0  3.887655e+04  3.887655e+04  3.085054e+05   \n",
      "std    3.154634e+05         0.0  3.154634e+05  3.154634e+05  1.453953e+06   \n",
      "min    0.000000e+00         0.0  0.000000e+00  0.000000e+00  0.000000e+00   \n",
      "25%    0.000000e+00         0.0  0.000000e+00  0.000000e+00  0.000000e+00   \n",
      "50%    0.000000e+00         0.0  0.000000e+00  0.000000e+00  0.000000e+00   \n",
      "75%    0.000000e+00         0.0  0.000000e+00  0.000000e+00  0.000000e+00   \n",
      "max    4.999893e+06         0.0  4.999893e+06  4.999893e+06  9.998126e+06   \n",
      "\n",
      "       Idle Std      Idle Max      Idle Min  \n",
      "count   67834.0  6.783400e+04  6.783400e+04  \n",
      "mean        0.0  3.085054e+05  3.085054e+05  \n",
      "std         0.0  1.453953e+06  1.453953e+06  \n",
      "min         0.0  0.000000e+00  0.000000e+00  \n",
      "25%         0.0  0.000000e+00  0.000000e+00  \n",
      "50%         0.0  0.000000e+00  0.000000e+00  \n",
      "75%         0.0  0.000000e+00  0.000000e+00  \n",
      "max         0.0  9.998126e+06  9.998126e+06  \n",
      "\n",
      "[8 rows x 26 columns]\n",
      "['Source IP', 'Source Port', 'Destination IP', 'Destination Port', 'Protocol', 'Flow Duration', 'Flow Bytes/s', 'Flow Packets/s', 'Flow IAT Mean', 'Flow IAT Std', 'Flow IAT Max', 'Flow IAT Min', 'Fwd IAT Mean', 'Fwd IAT Std', 'Fwd IAT Max', 'Fwd IAT Min', 'Bwd IAT Mean', 'Bwd IAT Std', 'Bwd IAT Max', 'Bwd IAT Min', 'Active Mean', 'Active Std', 'Active Max', 'Active Min', 'Idle Mean', 'Idle Std', 'Idle Max', 'Idle Min', 'label']\n"
     ]
    }
   ],
   "source": [
    "print (dataframe.shape)\n",
    "dataframe = dataframe.reindex(np.random.permutation(dataframe.index)).copy()\n",
    "print(dataframe.describe())\n",
    "print (list(dataframe))"
   ]
  },
  {
   "cell_type": "code",
   "execution_count": 24,
   "id": "c7a32702",
   "metadata": {},
   "outputs": [
    {
     "name": "stdout",
     "output_type": "stream",
     "text": [
      "           Protocol  Flow Duration  Flow Bytes/s  Flow Packets/s  \\\n",
      "count  67834.000000   67834.000000       67830.0         67828.0   \n",
      "mean       0.560663       0.299188           0.0             0.0   \n",
      "std        0.496310       0.406300           0.0             0.0   \n",
      "min        0.000000       0.000000           0.0             0.0   \n",
      "25%        0.000000       0.004436           0.0             0.0   \n",
      "50%        1.000000       0.041086           0.0             0.0   \n",
      "75%        1.000000       0.732555           0.0             0.0   \n",
      "max        1.000000       1.000000           0.0             0.0   \n",
      "\n",
      "       Flow IAT Mean  Flow IAT Std  Flow IAT Max  Flow IAT Min  Fwd IAT Mean  \\\n",
      "count   67834.000000  67834.000000  67834.000000  67834.000000  67834.000000   \n",
      "mean        0.031600      0.031363      0.089855      0.019491      0.035016   \n",
      "std         0.069971      0.090973      0.173880      0.057865      0.083937   \n",
      "min         0.000000      0.000000      0.000000      0.000000      0.000000   \n",
      "25%         0.000996      0.000000      0.002893      0.000228      0.000000   \n",
      "50%         0.008355      0.000000      0.017866      0.000363      0.001997   \n",
      "75%         0.041114      0.008219      0.046420      0.021001      0.041135   \n",
      "max         1.000000      1.000000      1.000000      1.000000      1.000000   \n",
      "\n",
      "        Fwd IAT Std  ...   Bwd IAT Max   Bwd IAT Min   Active Mean  \\\n",
      "count  67834.000000  ...  67834.000000  67834.000000  67834.000000   \n",
      "mean       0.032576  ...      0.047617      0.005193      0.007775   \n",
      "std        0.096226  ...      0.141009      0.048749      0.063094   \n",
      "min        0.000000  ...      0.000000      0.000000      0.000000   \n",
      "25%        0.000000  ...      0.000000      0.000033      0.000000   \n",
      "50%        0.000000  ...      0.000000      0.000033      0.000000   \n",
      "75%        0.004295  ...      0.008281      0.000034      0.000000   \n",
      "max        1.000000  ...      1.000000      1.000000      1.000000   \n",
      "\n",
      "       Active Std    Active Max    Active Min     Idle Mean  Idle Std  \\\n",
      "count     67834.0  67834.000000  67834.000000  67834.000000   67834.0   \n",
      "mean          0.0      0.007775      0.007775      0.030856       0.0   \n",
      "std           0.0      0.063094      0.063094      0.145423       0.0   \n",
      "min           0.0      0.000000      0.000000      0.000000       0.0   \n",
      "25%           0.0      0.000000      0.000000      0.000000       0.0   \n",
      "50%           0.0      0.000000      0.000000      0.000000       0.0   \n",
      "75%           0.0      0.000000      0.000000      0.000000       0.0   \n",
      "max           0.0      1.000000      1.000000      1.000000       0.0   \n",
      "\n",
      "           Idle Max      Idle Min  \n",
      "count  67834.000000  67834.000000  \n",
      "mean       0.030856      0.030856  \n",
      "std        0.145423      0.145423  \n",
      "min        0.000000      0.000000  \n",
      "25%        0.000000      0.000000  \n",
      "50%        0.000000      0.000000  \n",
      "75%        0.000000      0.000000  \n",
      "max        1.000000      1.000000  \n",
      "\n",
      "[8 rows x 24 columns]\n"
     ]
    }
   ],
   "source": [
    "keys = dataframe.keys()\n",
    "# Feature Selection, Dropping Source IP, Source Port, Destination IP and Destination Port as it \n",
    "# specific to each organisation network and generic model should not contain them. \n",
    "data_to_process = dataframe[keys[4:len(keys) - 1]].copy()\n",
    "#data_to_process = dataframe[[' Source Port',' Destination Port', ' Flow Duration', ' Flow Bytes/s', ' Flow Packets/s', ' Flow IAT Mean','Fwd IAT Mean','Bwd IAT Mean','Active Mean','Idle Mean','label']].copy()\n",
    "# do a data normalization\n",
    "x_normalised = dfNormalize(data_to_process)\n",
    "print(x_normalised.describe())"
   ]
  },
  {
   "cell_type": "code",
   "execution_count": 25,
   "id": "1825870c",
   "metadata": {},
   "outputs": [],
   "source": [
    "change_labels = lambda x: 1 if x == 'nonTOR' else 0"
   ]
  },
  {
   "cell_type": "code",
   "execution_count": 26,
   "id": "514223b9",
   "metadata": {},
   "outputs": [],
   "source": [
    "y_normalised = dataframe['label'].apply(change_labels)"
   ]
  },
  {
   "cell_type": "code",
   "execution_count": 27,
   "id": "22441626",
   "metadata": {},
   "outputs": [],
   "source": [
    "from sklearn.model_selection import train_test_split"
   ]
  },
  {
   "cell_type": "code",
   "execution_count": 28,
   "id": "f6747667",
   "metadata": {},
   "outputs": [],
   "source": [
    "X_train, X_test, y_train, y_test = train_test_split(x_normalised, y_normalised, test_size=0.3, random_state=42)"
   ]
  },
  {
   "cell_type": "code",
   "execution_count": 29,
   "id": "a9444dbf",
   "metadata": {},
   "outputs": [],
   "source": [
    "from sklearn.impute import SimpleImputer\n",
    "\n",
    "imputer = SimpleImputer(strategy='median')\n",
    "X_train_imputed = imputer.fit_transform(X_train)\n",
    "X_test_imputed = imputer.transform(X_test)"
   ]
  },
  {
   "cell_type": "code",
   "execution_count": 30,
   "id": "a48e07d8",
   "metadata": {},
   "outputs": [],
   "source": [
    "#Escalar los datos utilizando StandardScaler.\n",
    "from sklearn.preprocessing import StandardScaler\n",
    "\n",
    "scaler = StandardScaler()\n",
    "X_train_scaled = scaler.fit_transform(X_train_imputed)\n",
    "X_test_scaled = scaler.transform(X_test_imputed)"
   ]
  },
  {
   "cell_type": "code",
   "execution_count": 31,
   "id": "3ae05419",
   "metadata": {},
   "outputs": [
    {
     "data": {
      "text/html": [
       "<style>#sk-container-id-2 {color: black;background-color: white;}#sk-container-id-2 pre{padding: 0;}#sk-container-id-2 div.sk-toggleable {background-color: white;}#sk-container-id-2 label.sk-toggleable__label {cursor: pointer;display: block;width: 100%;margin-bottom: 0;padding: 0.3em;box-sizing: border-box;text-align: center;}#sk-container-id-2 label.sk-toggleable__label-arrow:before {content: \"▸\";float: left;margin-right: 0.25em;color: #696969;}#sk-container-id-2 label.sk-toggleable__label-arrow:hover:before {color: black;}#sk-container-id-2 div.sk-estimator:hover label.sk-toggleable__label-arrow:before {color: black;}#sk-container-id-2 div.sk-toggleable__content {max-height: 0;max-width: 0;overflow: hidden;text-align: left;background-color: #f0f8ff;}#sk-container-id-2 div.sk-toggleable__content pre {margin: 0.2em;color: black;border-radius: 0.25em;background-color: #f0f8ff;}#sk-container-id-2 input.sk-toggleable__control:checked~div.sk-toggleable__content {max-height: 200px;max-width: 100%;overflow: auto;}#sk-container-id-2 input.sk-toggleable__control:checked~label.sk-toggleable__label-arrow:before {content: \"▾\";}#sk-container-id-2 div.sk-estimator input.sk-toggleable__control:checked~label.sk-toggleable__label {background-color: #d4ebff;}#sk-container-id-2 div.sk-label input.sk-toggleable__control:checked~label.sk-toggleable__label {background-color: #d4ebff;}#sk-container-id-2 input.sk-hidden--visually {border: 0;clip: rect(1px 1px 1px 1px);clip: rect(1px, 1px, 1px, 1px);height: 1px;margin: -1px;overflow: hidden;padding: 0;position: absolute;width: 1px;}#sk-container-id-2 div.sk-estimator {font-family: monospace;background-color: #f0f8ff;border: 1px dotted black;border-radius: 0.25em;box-sizing: border-box;margin-bottom: 0.5em;}#sk-container-id-2 div.sk-estimator:hover {background-color: #d4ebff;}#sk-container-id-2 div.sk-parallel-item::after {content: \"\";width: 100%;border-bottom: 1px solid gray;flex-grow: 1;}#sk-container-id-2 div.sk-label:hover label.sk-toggleable__label {background-color: #d4ebff;}#sk-container-id-2 div.sk-serial::before {content: \"\";position: absolute;border-left: 1px solid gray;box-sizing: border-box;top: 0;bottom: 0;left: 50%;z-index: 0;}#sk-container-id-2 div.sk-serial {display: flex;flex-direction: column;align-items: center;background-color: white;padding-right: 0.2em;padding-left: 0.2em;position: relative;}#sk-container-id-2 div.sk-item {position: relative;z-index: 1;}#sk-container-id-2 div.sk-parallel {display: flex;align-items: stretch;justify-content: center;background-color: white;position: relative;}#sk-container-id-2 div.sk-item::before, #sk-container-id-2 div.sk-parallel-item::before {content: \"\";position: absolute;border-left: 1px solid gray;box-sizing: border-box;top: 0;bottom: 0;left: 50%;z-index: -1;}#sk-container-id-2 div.sk-parallel-item {display: flex;flex-direction: column;z-index: 1;position: relative;background-color: white;}#sk-container-id-2 div.sk-parallel-item:first-child::after {align-self: flex-end;width: 50%;}#sk-container-id-2 div.sk-parallel-item:last-child::after {align-self: flex-start;width: 50%;}#sk-container-id-2 div.sk-parallel-item:only-child::after {width: 0;}#sk-container-id-2 div.sk-dashed-wrapped {border: 1px dashed gray;margin: 0 0.4em 0.5em 0.4em;box-sizing: border-box;padding-bottom: 0.4em;background-color: white;}#sk-container-id-2 div.sk-label label {font-family: monospace;font-weight: bold;display: inline-block;line-height: 1.2em;}#sk-container-id-2 div.sk-label-container {text-align: center;}#sk-container-id-2 div.sk-container {/* jupyter's `normalize.less` sets `[hidden] { display: none; }` but bootstrap.min.css set `[hidden] { display: none !important; }` so we also need the `!important` here to be able to override the default hidden behavior on the sphinx rendered scikit-learn.org. See: https://github.com/scikit-learn/scikit-learn/issues/21755 */display: inline-block !important;position: relative;}#sk-container-id-2 div.sk-text-repr-fallback {display: none;}</style><div id=\"sk-container-id-2\" class=\"sk-top-container\"><div class=\"sk-text-repr-fallback\"><pre>SVC(kernel=&#x27;linear&#x27;, random_state=42)</pre><b>In a Jupyter environment, please rerun this cell to show the HTML representation or trust the notebook. <br />On GitHub, the HTML representation is unable to render, please try loading this page with nbviewer.org.</b></div><div class=\"sk-container\" hidden><div class=\"sk-item\"><div class=\"sk-estimator sk-toggleable\"><input class=\"sk-toggleable__control sk-hidden--visually\" id=\"sk-estimator-id-2\" type=\"checkbox\" checked><label for=\"sk-estimator-id-2\" class=\"sk-toggleable__label sk-toggleable__label-arrow\">SVC</label><div class=\"sk-toggleable__content\"><pre>SVC(kernel=&#x27;linear&#x27;, random_state=42)</pre></div></div></div></div></div>"
      ],
      "text/plain": [
       "SVC(kernel='linear', random_state=42)"
      ]
     },
     "execution_count": 31,
     "metadata": {},
     "output_type": "execute_result"
    }
   ],
   "source": [
    "#Entrenar un modelo SVM utilizando SVC de sklearn.\n",
    "from sklearn.svm import SVC\n",
    "svm = SVC(kernel='linear', C=1.0, random_state=42)\n",
    "svm.fit(X_train_scaled, y_train)"
   ]
  },
  {
   "cell_type": "code",
   "execution_count": 32,
   "id": "0ce82f9e",
   "metadata": {},
   "outputs": [],
   "source": [
    "from sklearn.metrics import accuracy_score, f1_score, precision_score, recall_score, make_scorer\n",
    "\n",
    "scoring      = {'accuracy' : make_scorer(accuracy_score),\n",
    "                'f1_score' : make_scorer(f1_score, average = 'weighted'), \n",
    "                'precision' : make_scorer(precision_score, average = 'weighted'),\n",
    "                'recall' : make_scorer(recall_score, average = 'weighted')}"
   ]
  },
  {
   "cell_type": "code",
   "execution_count": 33,
   "id": "32fbc4e6",
   "metadata": {},
   "outputs": [
    {
     "name": "stdout",
     "output_type": "stream",
     "text": [
      "Accuracy (Linear Kernel):  93.93047\n",
      "F1 (Linear Kernel):  96.58917\n",
      "Precision (Linear Kernel):  95.58039\n",
      "Recall (Linear Kernel):  97.61962\n"
     ]
    }
   ],
   "source": [
    "# Evaluar el modelo utilizando validación cruzada.\n",
    "\n",
    "from sklearn.preprocessing import StandardScaler\n",
    "from sklearn.svm import SVC\n",
    "from sklearn.metrics import precision_recall_fscore_support\n",
    "from sklearn.model_selection import cross_validate\n",
    "import numpy as np\n",
    "linear_grid = SVC(kernel='linear', random_state=42)\n",
    "scoring = ['accuracy', 'f1', 'precision', 'recall']\n",
    "results = cross_validate(estimator=linear_grid, X=X_train_scaled, y=y_train, cv=6, scoring=scoring)\n",
    "print('Accuracy (Linear Kernel): ', \"%.5f\" % (np.mean(results['test_accuracy'])*100))\n",
    "print('F1 (Linear Kernel): ', \"%.5f\" % (np.mean(results['test_f1'])*100))\n",
    "print('Precision (Linear Kernel): ', \"%.5f\" % (np.mean(results['test_precision'])*100))\n",
    "print('Recall (Linear Kernel): ', \"%.5f\" % (np.mean(results['test_recall'])*100))"
   ]
  },
  {
   "cell_type": "markdown",
   "id": "a998a6e1",
   "metadata": {},
   "source": [
    "## Gráfico Roc Curve"
   ]
  },
  {
   "cell_type": "code",
   "execution_count": 35,
   "id": "d4229705",
   "metadata": {},
   "outputs": [
    {
     "data": {
      "text/plain": [
       "<matplotlib.legend.Legend at 0x1a89c44a970>"
      ]
     },
     "execution_count": 35,
     "metadata": {},
     "output_type": "execute_result"
    },
    {
     "data": {
      "image/png": "[encoded data removed]",
      "text/plain": [
       "<Figure size 640x480 with 1 Axes>"
      ]
     },
     "metadata": {},
     "output_type": "display_data"
    }
   ],
   "source": [
    "import matplotlib.pyplot as plt\n",
    "from sklearn import metrics\n",
    "from sklearn.impute import SimpleImputer\n",
    "# Crear un objeto SimpleImputer para reemplazar valores faltantes con la media\n",
    "imputer = SimpleImputer(strategy='mean')\n",
    "# Imputar valores faltantes en X_test\n",
    "X_test = imputer.fit_transform(X_test)\n",
    "y_pred = svm.predict(X_test)\n",
    "fpr, tpr, _ = metrics.roc_curve(y_test, y_pred)\n",
    "LR = \"Accuracy = {:.2f}\".format(svm.score(X_test, y_test.values)*100)\n",
    "plt.plot(fpr,tpr,label=\"SVM, AUC=\"+str(LR))\n",
    "plt.legend()"
   ]
  }
 ],
 "metadata": {
  "kernelspec": {
   "display_name": "Python 3 (ipykernel)",
   "language": "python",
   "name": "python3"
  },
  "language_info": {
   "codemirror_mode": {
    "name": "ipython",
    "version": 3
   },
   "file_extension": ".py",
   "mimetype": "text/x-python",
   "name": "python",
   "nbconvert_exporter": "python",
   "pygments_lexer": "ipython3",
   "version": "3.9.13"
  },
  "vscode": {
   "interpreter": {
    "hash": "e641d697812b9c8bee30f657c477391884f2cdaf5e19cf278fe4d3a4b1c06b2d"
   }
  }
 },
 "nbformat": 4,
 "nbformat_minor": 5
}
